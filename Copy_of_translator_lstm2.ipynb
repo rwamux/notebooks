{
  "nbformat": 4,
  "nbformat_minor": 0,
  "metadata": {
    "colab": {
      "provenance": [],
      "mount_file_id": "1Ot27hoPjP7G-1QZ_9NWlG5Bck6Umu2Le",
      "authorship_tag": "ABX9TyOc66c9EBkdIwGTEjRwVKOC",
      "include_colab_link": true
    },
    "kernelspec": {
      "name": "python3",
      "display_name": "Python 3"
    },
    "language_info": {
      "name": "python"
    },
    "accelerator": "GPU"
  },
  "cells": [
    {
      "cell_type": "markdown",
      "metadata": {
        "id": "view-in-github",
        "colab_type": "text"
      },
      "source": [
        "<a href=\"https://colab.research.google.com/github/rwamux/notebooks/blob/main/Copy_of_translator_lstm2.ipynb\" target=\"_parent\"><img src=\"https://colab.research.google.com/assets/colab-badge.svg\" alt=\"Open In Colab\"/></a>"
      ]
    },
    {
      "cell_type": "code",
      "execution_count": null,
      "metadata": {
        "id": "Tq8d2WWYeP5D"
      },
      "outputs": [],
      "source": []
    },
    {
      "cell_type": "code",
      "execution_count": null,
      "metadata": {
        "id": "yOa2Zg36Yx2K"
      },
      "outputs": [],
      "source": []
    },
    {
      "cell_type": "code",
      "source": [
        "import tensorflow as tf"
      ],
      "metadata": {
        "id": "Jpjml1l7caka"
      },
      "execution_count": null,
      "outputs": []
    },
    {
      "cell_type": "code",
      "execution_count": null,
      "metadata": {
        "colab": {
          "base_uri": "https://localhost:8080/"
        },
        "id": "63ryQbsuS-am",
        "outputId": "58313ef8-a979-47dd-810c-af4dda3d125d"
      },
      "outputs": [
        {
          "output_type": "stream",
          "name": "stdout",
          "text": [
            "Collecting tensorflow_text\n",
            "  Downloading tensorflow_text-2.8.1-cp37-cp37m-manylinux_2_12_x86_64.manylinux2010_x86_64.whl (4.9 MB)\n",
            "\u001b[K     |████████████████████████████████| 4.9 MB 2.8 MB/s \n",
            "\u001b[?25hRequirement already satisfied: tensorflow<2.9,>=2.8.0 in /usr/local/lib/python3.7/dist-packages (from tensorflow_text) (2.8.0)\n",
            "Requirement already satisfied: tensorflow-hub>=0.8.0 in /usr/local/lib/python3.7/dist-packages (from tensorflow_text) (0.12.0)\n",
            "Requirement already satisfied: wrapt>=1.11.0 in /usr/local/lib/python3.7/dist-packages (from tensorflow<2.9,>=2.8.0->tensorflow_text) (1.13.3)\n",
            "Requirement already satisfied: google-pasta>=0.1.1 in /usr/local/lib/python3.7/dist-packages (from tensorflow<2.9,>=2.8.0->tensorflow_text) (0.2.0)\n",
            "Requirement already satisfied: libclang>=9.0.1 in /usr/local/lib/python3.7/dist-packages (from tensorflow<2.9,>=2.8.0->tensorflow_text) (13.0.0)\n",
            "Requirement already satisfied: astunparse>=1.6.0 in /usr/local/lib/python3.7/dist-packages (from tensorflow<2.9,>=2.8.0->tensorflow_text) (1.6.3)\n",
            "Requirement already satisfied: grpcio<2.0,>=1.24.3 in /usr/local/lib/python3.7/dist-packages (from tensorflow<2.9,>=2.8.0->tensorflow_text) (1.44.0)\n",
            "Requirement already satisfied: six>=1.12.0 in /usr/local/lib/python3.7/dist-packages (from tensorflow<2.9,>=2.8.0->tensorflow_text) (1.15.0)\n",
            "Requirement already satisfied: typing-extensions>=3.6.6 in /usr/local/lib/python3.7/dist-packages (from tensorflow<2.9,>=2.8.0->tensorflow_text) (3.10.0.2)\n",
            "Requirement already satisfied: protobuf>=3.9.2 in /usr/local/lib/python3.7/dist-packages (from tensorflow<2.9,>=2.8.0->tensorflow_text) (3.17.3)\n",
            "Requirement already satisfied: numpy>=1.20 in /usr/local/lib/python3.7/dist-packages (from tensorflow<2.9,>=2.8.0->tensorflow_text) (1.21.5)\n",
            "Requirement already satisfied: gast>=0.2.1 in /usr/local/lib/python3.7/dist-packages (from tensorflow<2.9,>=2.8.0->tensorflow_text) (0.5.3)\n",
            "Requirement already satisfied: h5py>=2.9.0 in /usr/local/lib/python3.7/dist-packages (from tensorflow<2.9,>=2.8.0->tensorflow_text) (3.1.0)\n",
            "Requirement already satisfied: flatbuffers>=1.12 in /usr/local/lib/python3.7/dist-packages (from tensorflow<2.9,>=2.8.0->tensorflow_text) (2.0)\n",
            "Requirement already satisfied: tensorboard<2.9,>=2.8 in /usr/local/lib/python3.7/dist-packages (from tensorflow<2.9,>=2.8.0->tensorflow_text) (2.8.0)\n",
            "Requirement already satisfied: keras-preprocessing>=1.1.1 in /usr/local/lib/python3.7/dist-packages (from tensorflow<2.9,>=2.8.0->tensorflow_text) (1.1.2)\n",
            "Requirement already satisfied: setuptools in /usr/local/lib/python3.7/dist-packages (from tensorflow<2.9,>=2.8.0->tensorflow_text) (57.4.0)\n",
            "Requirement already satisfied: opt-einsum>=2.3.2 in /usr/local/lib/python3.7/dist-packages (from tensorflow<2.9,>=2.8.0->tensorflow_text) (3.3.0)\n",
            "Requirement already satisfied: keras<2.9,>=2.8.0rc0 in /usr/local/lib/python3.7/dist-packages (from tensorflow<2.9,>=2.8.0->tensorflow_text) (2.8.0)\n",
            "Collecting tf-estimator-nightly==2.8.0.dev2021122109\n",
            "  Downloading tf_estimator_nightly-2.8.0.dev2021122109-py2.py3-none-any.whl (462 kB)\n",
            "\u001b[K     |████████████████████████████████| 462 kB 29.6 MB/s \n",
            "\u001b[?25hRequirement already satisfied: tensorflow-io-gcs-filesystem>=0.23.1 in /usr/local/lib/python3.7/dist-packages (from tensorflow<2.9,>=2.8.0->tensorflow_text) (0.24.0)\n",
            "Requirement already satisfied: termcolor>=1.1.0 in /usr/local/lib/python3.7/dist-packages (from tensorflow<2.9,>=2.8.0->tensorflow_text) (1.1.0)\n",
            "Requirement already satisfied: absl-py>=0.4.0 in /usr/local/lib/python3.7/dist-packages (from tensorflow<2.9,>=2.8.0->tensorflow_text) (1.0.0)\n",
            "Requirement already satisfied: wheel<1.0,>=0.23.0 in /usr/local/lib/python3.7/dist-packages (from astunparse>=1.6.0->tensorflow<2.9,>=2.8.0->tensorflow_text) (0.37.1)\n",
            "Requirement already satisfied: cached-property in /usr/local/lib/python3.7/dist-packages (from h5py>=2.9.0->tensorflow<2.9,>=2.8.0->tensorflow_text) (1.5.2)\n",
            "Requirement already satisfied: google-auth<3,>=1.6.3 in /usr/local/lib/python3.7/dist-packages (from tensorboard<2.9,>=2.8->tensorflow<2.9,>=2.8.0->tensorflow_text) (1.35.0)\n",
            "Requirement already satisfied: tensorboard-plugin-wit>=1.6.0 in /usr/local/lib/python3.7/dist-packages (from tensorboard<2.9,>=2.8->tensorflow<2.9,>=2.8.0->tensorflow_text) (1.8.1)\n",
            "Requirement already satisfied: markdown>=2.6.8 in /usr/local/lib/python3.7/dist-packages (from tensorboard<2.9,>=2.8->tensorflow<2.9,>=2.8.0->tensorflow_text) (3.3.6)\n",
            "Requirement already satisfied: requests<3,>=2.21.0 in /usr/local/lib/python3.7/dist-packages (from tensorboard<2.9,>=2.8->tensorflow<2.9,>=2.8.0->tensorflow_text) (2.23.0)\n",
            "Requirement already satisfied: google-auth-oauthlib<0.5,>=0.4.1 in /usr/local/lib/python3.7/dist-packages (from tensorboard<2.9,>=2.8->tensorflow<2.9,>=2.8.0->tensorflow_text) (0.4.6)\n",
            "Requirement already satisfied: werkzeug>=0.11.15 in /usr/local/lib/python3.7/dist-packages (from tensorboard<2.9,>=2.8->tensorflow<2.9,>=2.8.0->tensorflow_text) (1.0.1)\n",
            "Requirement already satisfied: tensorboard-data-server<0.7.0,>=0.6.0 in /usr/local/lib/python3.7/dist-packages (from tensorboard<2.9,>=2.8->tensorflow<2.9,>=2.8.0->tensorflow_text) (0.6.1)\n",
            "Requirement already satisfied: rsa<5,>=3.1.4 in /usr/local/lib/python3.7/dist-packages (from google-auth<3,>=1.6.3->tensorboard<2.9,>=2.8->tensorflow<2.9,>=2.8.0->tensorflow_text) (4.8)\n",
            "Requirement already satisfied: pyasn1-modules>=0.2.1 in /usr/local/lib/python3.7/dist-packages (from google-auth<3,>=1.6.3->tensorboard<2.9,>=2.8->tensorflow<2.9,>=2.8.0->tensorflow_text) (0.2.8)\n",
            "Requirement already satisfied: cachetools<5.0,>=2.0.0 in /usr/local/lib/python3.7/dist-packages (from google-auth<3,>=1.6.3->tensorboard<2.9,>=2.8->tensorflow<2.9,>=2.8.0->tensorflow_text) (4.2.4)\n",
            "Requirement already satisfied: requests-oauthlib>=0.7.0 in /usr/local/lib/python3.7/dist-packages (from google-auth-oauthlib<0.5,>=0.4.1->tensorboard<2.9,>=2.8->tensorflow<2.9,>=2.8.0->tensorflow_text) (1.3.1)\n",
            "Requirement already satisfied: importlib-metadata>=4.4 in /usr/local/lib/python3.7/dist-packages (from markdown>=2.6.8->tensorboard<2.9,>=2.8->tensorflow<2.9,>=2.8.0->tensorflow_text) (4.11.2)\n",
            "Requirement already satisfied: zipp>=0.5 in /usr/local/lib/python3.7/dist-packages (from importlib-metadata>=4.4->markdown>=2.6.8->tensorboard<2.9,>=2.8->tensorflow<2.9,>=2.8.0->tensorflow_text) (3.7.0)\n",
            "Requirement already satisfied: pyasn1<0.5.0,>=0.4.6 in /usr/local/lib/python3.7/dist-packages (from pyasn1-modules>=0.2.1->google-auth<3,>=1.6.3->tensorboard<2.9,>=2.8->tensorflow<2.9,>=2.8.0->tensorflow_text) (0.4.8)\n",
            "Requirement already satisfied: idna<3,>=2.5 in /usr/local/lib/python3.7/dist-packages (from requests<3,>=2.21.0->tensorboard<2.9,>=2.8->tensorflow<2.9,>=2.8.0->tensorflow_text) (2.10)\n",
            "Requirement already satisfied: certifi>=2017.4.17 in /usr/local/lib/python3.7/dist-packages (from requests<3,>=2.21.0->tensorboard<2.9,>=2.8->tensorflow<2.9,>=2.8.0->tensorflow_text) (2021.10.8)\n",
            "Requirement already satisfied: urllib3!=1.25.0,!=1.25.1,<1.26,>=1.21.1 in /usr/local/lib/python3.7/dist-packages (from requests<3,>=2.21.0->tensorboard<2.9,>=2.8->tensorflow<2.9,>=2.8.0->tensorflow_text) (1.24.3)\n",
            "Requirement already satisfied: chardet<4,>=3.0.2 in /usr/local/lib/python3.7/dist-packages (from requests<3,>=2.21.0->tensorboard<2.9,>=2.8->tensorflow<2.9,>=2.8.0->tensorflow_text) (3.0.4)\n",
            "Requirement already satisfied: oauthlib>=3.0.0 in /usr/local/lib/python3.7/dist-packages (from requests-oauthlib>=0.7.0->google-auth-oauthlib<0.5,>=0.4.1->tensorboard<2.9,>=2.8->tensorflow<2.9,>=2.8.0->tensorflow_text) (3.2.0)\n",
            "Installing collected packages: tf-estimator-nightly, tensorflow-text\n",
            "Successfully installed tensorflow-text-2.8.1 tf-estimator-nightly-2.8.0.dev2021122109\n"
          ]
        }
      ],
      "source": [
        "!pip install tensorflow_text"
      ]
    },
    {
      "cell_type": "code",
      "source": [
        "\n",
        "import numpy as np\n",
        "import pandas as pd\n",
        "import matplotlib.pyplot as plt\n",
        "import tensorflow_text as tf_text\n",
        "from tensorflow.keras.layers.experimental import preprocessing\n",
        "import typing\n",
        "from typing import Any,Tuple\n",
        "from google.colab import files\n",
        "import io\n",
        "import matplotlib"
      ],
      "metadata": {
        "id": "yP5qGZyCWue6"
      },
      "execution_count": null,
      "outputs": []
    },
    {
      "cell_type": "code",
      "source": [
        "use_builtins = True"
      ],
      "metadata": {
        "id": "xRE9gXw2Yr4T"
      },
      "execution_count": null,
      "outputs": []
    },
    {
      "cell_type": "code",
      "source": [
        "uploaded = files.upload()"
      ],
      "metadata": {
        "colab": {
          "resources": {
            "http://localhost:8080/nbextensions/google.colab/files.js": {
              "data": "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",
              "ok": true,
              "headers": [
                [
                  "content-type",
                  "application/javascript"
                ]
              ],
              "status": 200,
              "status_text": ""
            }
          },
          "base_uri": "https://localhost:8080/",
          "height": 73
        },
        "id": "8JYTKKdrc1Fp",
        "outputId": "62dccc7d-179f-4af9-c691-5416a422ee88"
      },
      "execution_count": null,
      "outputs": [
        {
          "output_type": "display_data",
          "data": {
            "text/plain": [
              "<IPython.core.display.HTML object>"
            ],
            "text/html": [
              "\n",
              "     <input type=\"file\" id=\"files-6be5a1bc-0fa7-4d1c-8056-1baa515e8421\" name=\"files[]\" multiple disabled\n",
              "        style=\"border:none\" />\n",
              "     <output id=\"result-6be5a1bc-0fa7-4d1c-8056-1baa515e8421\">\n",
              "      Upload widget is only available when the cell has been executed in the\n",
              "      current browser session. Please rerun this cell to enable.\n",
              "      </output>\n",
              "      <script src=\"/nbextensions/google.colab/files.js\"></script> "
            ]
          },
          "metadata": {}
        },
        {
          "output_type": "stream",
          "name": "stdout",
          "text": [
            "Saving Luganda.csv to Luganda.csv\n"
          ]
        }
      ]
    },
    {
      "cell_type": "code",
      "source": [
        "df = pd.read_csv(io.BytesIO(uploaded['Luganda.csv']))"
      ],
      "metadata": {
        "id": "-phyk5fBdKgN"
      },
      "execution_count": null,
      "outputs": []
    },
    {
      "cell_type": "code",
      "source": [
        "df.head()"
      ],
      "metadata": {
        "colab": {
          "base_uri": "https://localhost:8080/",
          "height": 206
        },
        "id": "f5kEgs6Gd6GI",
        "outputId": "7db81120-3063-4390-c74b-678b97a975df"
      },
      "execution_count": null,
      "outputs": [
        {
          "output_type": "execute_result",
          "data": {
            "text/plain": [
              "                                             English  \\\n",
              "0  All refugees were requested to register with t...   \n",
              "1     They called for a refugees' meeting yesterday.   \n",
              "2  Refugees had misunderstandings between   thems...   \n",
              "3  We were urged to welcome refugees into our com...   \n",
              "4  More development is achieved when we work toge...   \n",
              "\n",
              "                                             Luganda  Unnamed: 2  Unnamed: 3  \n",
              "0  Abanoonyiboobubudamu bonna baasabiddwa beewand...         NaN         NaN  \n",
              "1  Baayise olukungaana lw'abanoonyiboobubudamu eg...         NaN         NaN  \n",
              "2  Abanoonyiboobubudamu b'abadde n'obutakkaanya w...         NaN         NaN  \n",
              "3  Twakubirizibwa okwaniriza abanoonyiboobubudamu...         NaN         NaN  \n",
              "4  Bwe tukolera awamu enkulaakulana enyingi efuni...         NaN         NaN  "
            ],
            "text/html": [
              "\n",
              "  <div id=\"df-4b224146-66bb-439b-ae2e-8a527dc95d8a\">\n",
              "    <div class=\"colab-df-container\">\n",
              "      <div>\n",
              "<style scoped>\n",
              "    .dataframe tbody tr th:only-of-type {\n",
              "        vertical-align: middle;\n",
              "    }\n",
              "\n",
              "    .dataframe tbody tr th {\n",
              "        vertical-align: top;\n",
              "    }\n",
              "\n",
              "    .dataframe thead th {\n",
              "        text-align: right;\n",
              "    }\n",
              "</style>\n",
              "<table border=\"1\" class=\"dataframe\">\n",
              "  <thead>\n",
              "    <tr style=\"text-align: right;\">\n",
              "      <th></th>\n",
              "      <th>English</th>\n",
              "      <th>Luganda</th>\n",
              "      <th>Unnamed: 2</th>\n",
              "      <th>Unnamed: 3</th>\n",
              "    </tr>\n",
              "  </thead>\n",
              "  <tbody>\n",
              "    <tr>\n",
              "      <th>0</th>\n",
              "      <td>All refugees were requested to register with t...</td>\n",
              "      <td>Abanoonyiboobubudamu bonna baasabiddwa beewand...</td>\n",
              "      <td>NaN</td>\n",
              "      <td>NaN</td>\n",
              "    </tr>\n",
              "    <tr>\n",
              "      <th>1</th>\n",
              "      <td>They called for a refugees' meeting yesterday.</td>\n",
              "      <td>Baayise olukungaana lw'abanoonyiboobubudamu eg...</td>\n",
              "      <td>NaN</td>\n",
              "      <td>NaN</td>\n",
              "    </tr>\n",
              "    <tr>\n",
              "      <th>2</th>\n",
              "      <td>Refugees had misunderstandings between   thems...</td>\n",
              "      <td>Abanoonyiboobubudamu b'abadde n'obutakkaanya w...</td>\n",
              "      <td>NaN</td>\n",
              "      <td>NaN</td>\n",
              "    </tr>\n",
              "    <tr>\n",
              "      <th>3</th>\n",
              "      <td>We were urged to welcome refugees into our com...</td>\n",
              "      <td>Twakubirizibwa okwaniriza abanoonyiboobubudamu...</td>\n",
              "      <td>NaN</td>\n",
              "      <td>NaN</td>\n",
              "    </tr>\n",
              "    <tr>\n",
              "      <th>4</th>\n",
              "      <td>More development is achieved when we work toge...</td>\n",
              "      <td>Bwe tukolera awamu enkulaakulana enyingi efuni...</td>\n",
              "      <td>NaN</td>\n",
              "      <td>NaN</td>\n",
              "    </tr>\n",
              "  </tbody>\n",
              "</table>\n",
              "</div>\n",
              "      <button class=\"colab-df-convert\" onclick=\"convertToInteractive('df-4b224146-66bb-439b-ae2e-8a527dc95d8a')\"\n",
              "              title=\"Convert this dataframe to an interactive table.\"\n",
              "              style=\"display:none;\">\n",
              "        \n",
              "  <svg xmlns=\"http://www.w3.org/2000/svg\" height=\"24px\"viewBox=\"0 0 24 24\"\n",
              "       width=\"24px\">\n",
              "    <path d=\"M0 0h24v24H0V0z\" fill=\"none\"/>\n",
              "    <path d=\"M18.56 5.44l.94 2.06.94-2.06 2.06-.94-2.06-.94-.94-2.06-.94 2.06-2.06.94zm-11 1L8.5 8.5l.94-2.06 2.06-.94-2.06-.94L8.5 2.5l-.94 2.06-2.06.94zm10 10l.94 2.06.94-2.06 2.06-.94-2.06-.94-.94-2.06-.94 2.06-2.06.94z\"/><path d=\"M17.41 7.96l-1.37-1.37c-.4-.4-.92-.59-1.43-.59-.52 0-1.04.2-1.43.59L10.3 9.45l-7.72 7.72c-.78.78-.78 2.05 0 2.83L4 21.41c.39.39.9.59 1.41.59.51 0 1.02-.2 1.41-.59l7.78-7.78 2.81-2.81c.8-.78.8-2.07 0-2.86zM5.41 20L4 18.59l7.72-7.72 1.47 1.35L5.41 20z\"/>\n",
              "  </svg>\n",
              "      </button>\n",
              "      \n",
              "  <style>\n",
              "    .colab-df-container {\n",
              "      display:flex;\n",
              "      flex-wrap:wrap;\n",
              "      gap: 12px;\n",
              "    }\n",
              "\n",
              "    .colab-df-convert {\n",
              "      background-color: #E8F0FE;\n",
              "      border: none;\n",
              "      border-radius: 50%;\n",
              "      cursor: pointer;\n",
              "      display: none;\n",
              "      fill: #1967D2;\n",
              "      height: 32px;\n",
              "      padding: 0 0 0 0;\n",
              "      width: 32px;\n",
              "    }\n",
              "\n",
              "    .colab-df-convert:hover {\n",
              "      background-color: #E2EBFA;\n",
              "      box-shadow: 0px 1px 2px rgba(60, 64, 67, 0.3), 0px 1px 3px 1px rgba(60, 64, 67, 0.15);\n",
              "      fill: #174EA6;\n",
              "    }\n",
              "\n",
              "    [theme=dark] .colab-df-convert {\n",
              "      background-color: #3B4455;\n",
              "      fill: #D2E3FC;\n",
              "    }\n",
              "\n",
              "    [theme=dark] .colab-df-convert:hover {\n",
              "      background-color: #434B5C;\n",
              "      box-shadow: 0px 1px 3px 1px rgba(0, 0, 0, 0.15);\n",
              "      filter: drop-shadow(0px 1px 2px rgba(0, 0, 0, 0.3));\n",
              "      fill: #FFFFFF;\n",
              "    }\n",
              "  </style>\n",
              "\n",
              "      <script>\n",
              "        const buttonEl =\n",
              "          document.querySelector('#df-4b224146-66bb-439b-ae2e-8a527dc95d8a button.colab-df-convert');\n",
              "        buttonEl.style.display =\n",
              "          google.colab.kernel.accessAllowed ? 'block' : 'none';\n",
              "\n",
              "        async function convertToInteractive(key) {\n",
              "          const element = document.querySelector('#df-4b224146-66bb-439b-ae2e-8a527dc95d8a');\n",
              "          const dataTable =\n",
              "            await google.colab.kernel.invokeFunction('convertToInteractive',\n",
              "                                                     [key], {});\n",
              "          if (!dataTable) return;\n",
              "\n",
              "          const docLinkHtml = 'Like what you see? Visit the ' +\n",
              "            '<a target=\"_blank\" href=https://colab.research.google.com/notebooks/data_table.ipynb>data table notebook</a>'\n",
              "            + ' to learn more about interactive tables.';\n",
              "          element.innerHTML = '';\n",
              "          dataTable['output_type'] = 'display_data';\n",
              "          await google.colab.output.renderOutput(dataTable, element);\n",
              "          const docLink = document.createElement('div');\n",
              "          docLink.innerHTML = docLinkHtml;\n",
              "          element.appendChild(docLink);\n",
              "        }\n",
              "      </script>\n",
              "    </div>\n",
              "  </div>\n",
              "  "
            ]
          },
          "metadata": {},
          "execution_count": 7
        }
      ]
    },
    {
      "cell_type": "code",
      "source": [
        "df = df[['English','Luganda']]"
      ],
      "metadata": {
        "id": "JaZSvM-vd8ul"
      },
      "execution_count": null,
      "outputs": []
    },
    {
      "cell_type": "code",
      "source": [
        "df.head()"
      ],
      "metadata": {
        "colab": {
          "base_uri": "https://localhost:8080/",
          "height": 206
        },
        "id": "pH0lCS5IeCn2",
        "outputId": "0721f428-9d5e-40a7-9b3a-dae3e20a6e55"
      },
      "execution_count": null,
      "outputs": [
        {
          "output_type": "execute_result",
          "data": {
            "text/plain": [
              "                                             English  \\\n",
              "0  All refugees were requested to register with t...   \n",
              "1     They called for a refugees' meeting yesterday.   \n",
              "2  Refugees had misunderstandings between   thems...   \n",
              "3  We were urged to welcome refugees into our com...   \n",
              "4  More development is achieved when we work toge...   \n",
              "\n",
              "                                             Luganda  \n",
              "0  Abanoonyiboobubudamu bonna baasabiddwa beewand...  \n",
              "1  Baayise olukungaana lw'abanoonyiboobubudamu eg...  \n",
              "2  Abanoonyiboobubudamu b'abadde n'obutakkaanya w...  \n",
              "3  Twakubirizibwa okwaniriza abanoonyiboobubudamu...  \n",
              "4  Bwe tukolera awamu enkulaakulana enyingi efuni...  "
            ],
            "text/html": [
              "\n",
              "  <div id=\"df-6f31e49c-7af5-4aad-ba58-9e52cbaae28a\">\n",
              "    <div class=\"colab-df-container\">\n",
              "      <div>\n",
              "<style scoped>\n",
              "    .dataframe tbody tr th:only-of-type {\n",
              "        vertical-align: middle;\n",
              "    }\n",
              "\n",
              "    .dataframe tbody tr th {\n",
              "        vertical-align: top;\n",
              "    }\n",
              "\n",
              "    .dataframe thead th {\n",
              "        text-align: right;\n",
              "    }\n",
              "</style>\n",
              "<table border=\"1\" class=\"dataframe\">\n",
              "  <thead>\n",
              "    <tr style=\"text-align: right;\">\n",
              "      <th></th>\n",
              "      <th>English</th>\n",
              "      <th>Luganda</th>\n",
              "    </tr>\n",
              "  </thead>\n",
              "  <tbody>\n",
              "    <tr>\n",
              "      <th>0</th>\n",
              "      <td>All refugees were requested to register with t...</td>\n",
              "      <td>Abanoonyiboobubudamu bonna baasabiddwa beewand...</td>\n",
              "    </tr>\n",
              "    <tr>\n",
              "      <th>1</th>\n",
              "      <td>They called for a refugees' meeting yesterday.</td>\n",
              "      <td>Baayise olukungaana lw'abanoonyiboobubudamu eg...</td>\n",
              "    </tr>\n",
              "    <tr>\n",
              "      <th>2</th>\n",
              "      <td>Refugees had misunderstandings between   thems...</td>\n",
              "      <td>Abanoonyiboobubudamu b'abadde n'obutakkaanya w...</td>\n",
              "    </tr>\n",
              "    <tr>\n",
              "      <th>3</th>\n",
              "      <td>We were urged to welcome refugees into our com...</td>\n",
              "      <td>Twakubirizibwa okwaniriza abanoonyiboobubudamu...</td>\n",
              "    </tr>\n",
              "    <tr>\n",
              "      <th>4</th>\n",
              "      <td>More development is achieved when we work toge...</td>\n",
              "      <td>Bwe tukolera awamu enkulaakulana enyingi efuni...</td>\n",
              "    </tr>\n",
              "  </tbody>\n",
              "</table>\n",
              "</div>\n",
              "      <button class=\"colab-df-convert\" onclick=\"convertToInteractive('df-6f31e49c-7af5-4aad-ba58-9e52cbaae28a')\"\n",
              "              title=\"Convert this dataframe to an interactive table.\"\n",
              "              style=\"display:none;\">\n",
              "        \n",
              "  <svg xmlns=\"http://www.w3.org/2000/svg\" height=\"24px\"viewBox=\"0 0 24 24\"\n",
              "       width=\"24px\">\n",
              "    <path d=\"M0 0h24v24H0V0z\" fill=\"none\"/>\n",
              "    <path d=\"M18.56 5.44l.94 2.06.94-2.06 2.06-.94-2.06-.94-.94-2.06-.94 2.06-2.06.94zm-11 1L8.5 8.5l.94-2.06 2.06-.94-2.06-.94L8.5 2.5l-.94 2.06-2.06.94zm10 10l.94 2.06.94-2.06 2.06-.94-2.06-.94-.94-2.06-.94 2.06-2.06.94z\"/><path d=\"M17.41 7.96l-1.37-1.37c-.4-.4-.92-.59-1.43-.59-.52 0-1.04.2-1.43.59L10.3 9.45l-7.72 7.72c-.78.78-.78 2.05 0 2.83L4 21.41c.39.39.9.59 1.41.59.51 0 1.02-.2 1.41-.59l7.78-7.78 2.81-2.81c.8-.78.8-2.07 0-2.86zM5.41 20L4 18.59l7.72-7.72 1.47 1.35L5.41 20z\"/>\n",
              "  </svg>\n",
              "      </button>\n",
              "      \n",
              "  <style>\n",
              "    .colab-df-container {\n",
              "      display:flex;\n",
              "      flex-wrap:wrap;\n",
              "      gap: 12px;\n",
              "    }\n",
              "\n",
              "    .colab-df-convert {\n",
              "      background-color: #E8F0FE;\n",
              "      border: none;\n",
              "      border-radius: 50%;\n",
              "      cursor: pointer;\n",
              "      display: none;\n",
              "      fill: #1967D2;\n",
              "      height: 32px;\n",
              "      padding: 0 0 0 0;\n",
              "      width: 32px;\n",
              "    }\n",
              "\n",
              "    .colab-df-convert:hover {\n",
              "      background-color: #E2EBFA;\n",
              "      box-shadow: 0px 1px 2px rgba(60, 64, 67, 0.3), 0px 1px 3px 1px rgba(60, 64, 67, 0.15);\n",
              "      fill: #174EA6;\n",
              "    }\n",
              "\n",
              "    [theme=dark] .colab-df-convert {\n",
              "      background-color: #3B4455;\n",
              "      fill: #D2E3FC;\n",
              "    }\n",
              "\n",
              "    [theme=dark] .colab-df-convert:hover {\n",
              "      background-color: #434B5C;\n",
              "      box-shadow: 0px 1px 3px 1px rgba(0, 0, 0, 0.15);\n",
              "      filter: drop-shadow(0px 1px 2px rgba(0, 0, 0, 0.3));\n",
              "      fill: #FFFFFF;\n",
              "    }\n",
              "  </style>\n",
              "\n",
              "      <script>\n",
              "        const buttonEl =\n",
              "          document.querySelector('#df-6f31e49c-7af5-4aad-ba58-9e52cbaae28a button.colab-df-convert');\n",
              "        buttonEl.style.display =\n",
              "          google.colab.kernel.accessAllowed ? 'block' : 'none';\n",
              "\n",
              "        async function convertToInteractive(key) {\n",
              "          const element = document.querySelector('#df-6f31e49c-7af5-4aad-ba58-9e52cbaae28a');\n",
              "          const dataTable =\n",
              "            await google.colab.kernel.invokeFunction('convertToInteractive',\n",
              "                                                     [key], {});\n",
              "          if (!dataTable) return;\n",
              "\n",
              "          const docLinkHtml = 'Like what you see? Visit the ' +\n",
              "            '<a target=\"_blank\" href=https://colab.research.google.com/notebooks/data_table.ipynb>data table notebook</a>'\n",
              "            + ' to learn more about interactive tables.';\n",
              "          element.innerHTML = '';\n",
              "          dataTable['output_type'] = 'display_data';\n",
              "          await google.colab.output.renderOutput(dataTable, element);\n",
              "          const docLink = document.createElement('div');\n",
              "          docLink.innerHTML = docLinkHtml;\n",
              "          element.appendChild(docLink);\n",
              "        }\n",
              "      </script>\n",
              "    </div>\n",
              "  </div>\n",
              "  "
            ]
          },
          "metadata": {},
          "execution_count": 9
        }
      ]
    },
    {
      "cell_type": "code",
      "source": [
        "df.info()"
      ],
      "metadata": {
        "colab": {
          "base_uri": "https://localhost:8080/"
        },
        "id": "4Ti5AMxieD-X",
        "outputId": "8f81a62e-a419-458c-fcf3-b852599869d5"
      },
      "execution_count": null,
      "outputs": [
        {
          "output_type": "stream",
          "name": "stdout",
          "text": [
            "<class 'pandas.core.frame.DataFrame'>\n",
            "RangeIndex: 16000 entries, 0 to 15999\n",
            "Data columns (total 2 columns):\n",
            " #   Column   Non-Null Count  Dtype \n",
            "---  ------   --------------  ----- \n",
            " 0   English  15022 non-null  object\n",
            " 1   Luganda  15021 non-null  object\n",
            "dtypes: object(2)\n",
            "memory usage: 250.1+ KB\n"
          ]
        }
      ]
    },
    {
      "cell_type": "code",
      "source": [
        "df.dropna(inplace=True)"
      ],
      "metadata": {
        "id": "1_Fyag0JeFvg"
      },
      "execution_count": null,
      "outputs": []
    },
    {
      "cell_type": "code",
      "source": [
        "df.info()"
      ],
      "metadata": {
        "colab": {
          "base_uri": "https://localhost:8080/"
        },
        "id": "2BxlfDGheOle",
        "outputId": "5d171693-7608-45f7-c452-7e95e6f11680"
      },
      "execution_count": null,
      "outputs": [
        {
          "output_type": "stream",
          "name": "stdout",
          "text": [
            "<class 'pandas.core.frame.DataFrame'>\n",
            "Int64Index: 15021 entries, 0 to 15021\n",
            "Data columns (total 2 columns):\n",
            " #   Column   Non-Null Count  Dtype \n",
            "---  ------   --------------  ----- \n",
            " 0   English  15021 non-null  object\n",
            " 1   Luganda  15021 non-null  object\n",
            "dtypes: object(2)\n",
            "memory usage: 352.1+ KB\n"
          ]
        }
      ]
    },
    {
      "cell_type": "code",
      "source": [
        "df.shape[0],len(df.English)"
      ],
      "metadata": {
        "colab": {
          "base_uri": "https://localhost:8080/"
        },
        "id": "ELVLgrasfiPz",
        "outputId": "1fb7af29-0aa1-48b4-e2a7-dd6217e61893"
      },
      "execution_count": null,
      "outputs": [
        {
          "output_type": "execute_result",
          "data": {
            "text/plain": [
              "(15021, 15021)"
            ]
          },
          "metadata": {},
          "execution_count": 13
        }
      ]
    },
    {
      "cell_type": "code",
      "source": [
        "BUFFER_SIZE = df.shape[0]\n",
        "BATCH_SIZE = 64"
      ],
      "metadata": {
        "id": "_wgDTAeCeQ2e"
      },
      "execution_count": null,
      "outputs": []
    },
    {
      "cell_type": "code",
      "source": [
        "dataset = tf.data.Dataset.from_tensor_slices((df.English,df.Luganda)).shuffle(BUFFER_SIZE, seed = 42)"
      ],
      "metadata": {
        "id": "ogzzogTrgLRc"
      },
      "execution_count": null,
      "outputs": []
    },
    {
      "cell_type": "code",
      "source": [
        "dataset = dataset.batch(BATCH_SIZE)"
      ],
      "metadata": {
        "id": "XUaFOzCghwxm"
      },
      "execution_count": null,
      "outputs": []
    },
    {
      "cell_type": "code",
      "source": [
        "for example_input_batch,example_target_batch in dataset.take(1):\n",
        "  print(example_input_batch[:5])\n",
        "  print(\"/n\")\n",
        "  print(example_target_batch[:5])"
      ],
      "metadata": {
        "colab": {
          "base_uri": "https://localhost:8080/"
        },
        "id": "-DLBEfJwikbD",
        "outputId": "0847d038-fbd7-4f2f-888d-4be917993727"
      },
      "execution_count": null,
      "outputs": [
        {
          "output_type": "stream",
          "name": "stdout",
          "text": [
            "tf.Tensor(\n",
            "[b'The activity was to remember the missionaries who introduced Christianity in Uganda.'\n",
            " b'Constructing a building takes a while.'\n",
            " b'There is increased security in the refugee camps.'\n",
            " b'How much do you know about hepatitis?'\n",
            " b'More health camps should be organized to extend services to remote areas.'], shape=(5,), dtype=string)\n",
            "/n\n",
            "tf.Tensor(\n",
            "[b'Ebikolwa byakoleddwa okujjukira abaminsane abaleeta obukrisitu mu Uganda'\n",
            " b'Okuzimba ekizimbe kitwala obudde.'\n",
            " b\"Obukuumi bweyongedde mu nkambi z'Abanoonyiboobubudamu.\"\n",
            " b\"Omanyi kyenkanawa ku bulwadde bw'ekibumba?\"\n",
            " b\"Ensiisira z'ebyobulamu ziteekeddwa okutegekebwa okutuusa obuweereza mu byalo.\"], shape=(5,), dtype=string)\n"
          ]
        }
      ]
    },
    {
      "cell_type": "code",
      "source": [
        "test_ds = dataset.take(1)\n",
        "train_ds = dataset.skip(1)"
      ],
      "metadata": {
        "id": "LkJa9HBxCaHJ"
      },
      "execution_count": null,
      "outputs": []
    },
    {
      "cell_type": "code",
      "source": [
        "def text_preprocess(text):\n",
        "  text = tf.strings.lower(text)\n",
        "  text = tf.strings.regex_replace(text,'[^ a-z.?,\\']','')\n",
        "  text = tf.strings.regex_replace(text,'[.?,\\']',r' \\0 ')\n",
        "  text = tf.strings.strip(text)\n",
        "  text = tf.strings.join(['[START]',text,'[ENDS]'],separator= ' ')\n",
        "  return text\n",
        "\n"
      ],
      "metadata": {
        "id": "mHagEbSdjVKT"
      },
      "execution_count": null,
      "outputs": []
    },
    {
      "cell_type": "code",
      "source": [
        "example_text = tf.constant('Early childhood centers offer day care services for babies')"
      ],
      "metadata": {
        "id": "PzRy4D8Udg6n"
      },
      "execution_count": null,
      "outputs": []
    },
    {
      "cell_type": "code",
      "source": [
        "tf.strings.split(example_text).numpy()"
      ],
      "metadata": {
        "colab": {
          "base_uri": "https://localhost:8080/"
        },
        "id": "OkXb9sq9DoaX",
        "outputId": "f03b2afe-ec57-4681-f432-c18ab2d4335d"
      },
      "execution_count": null,
      "outputs": [
        {
          "output_type": "execute_result",
          "data": {
            "text/plain": [
              "array([b'Early', b'childhood', b'centers', b'offer', b'day', b'care',\n",
              "       b'services', b'for', b'babies'], dtype=object)"
            ]
          },
          "metadata": {},
          "execution_count": 21
        }
      ]
    },
    {
      "cell_type": "code",
      "source": [
        "print('Before Preprocessing: '+ example_text.numpy().decode())\n",
        "print('After Preprocessing: ' + text_preprocess(example_text).numpy().decode())"
      ],
      "metadata": {
        "colab": {
          "base_uri": "https://localhost:8080/"
        },
        "id": "sBLy0QzQdwQ4",
        "outputId": "7f2eb4e6-dce5-474b-c7fd-bb0f7a95842a"
      },
      "execution_count": null,
      "outputs": [
        {
          "output_type": "stream",
          "name": "stdout",
          "text": [
            "Before Preprocessing: Early childhood centers offer day care services for babies\n",
            "After Preprocessing: [START] early childhood centers offer day care services for babies [ENDS]\n"
          ]
        }
      ]
    },
    {
      "cell_type": "code",
      "source": [
        "tokenizer = tf.keras.preprocessing.text.Tokenizer()"
      ],
      "metadata": {
        "id": "77AEXkOx-qss"
      },
      "execution_count": null,
      "outputs": []
    },
    {
      "cell_type": "code",
      "source": [
        "text_corpus = ['Early childhood centers offer day care services for babies','Good early childhood centers are very expensive to some parents']"
      ],
      "metadata": {
        "id": "gtyWuwSuBV7N"
      },
      "execution_count": null,
      "outputs": []
    },
    {
      "cell_type": "code",
      "source": [
        "tokenizer.fit_on_texts(text_corpus)"
      ],
      "metadata": {
        "id": "rl1P8eTA_G_e"
      },
      "execution_count": null,
      "outputs": []
    },
    {
      "cell_type": "code",
      "source": [
        "max_vocab_size = 15000"
      ],
      "metadata": {
        "id": "4GYoOJ-tk-9w"
      },
      "execution_count": null,
      "outputs": []
    },
    {
      "cell_type": "code",
      "source": [
        "input_text_processor = preprocessing.TextVectorization(standardize=text_preprocess,max_tokens=max_vocab_size)"
      ],
      "metadata": {
        "id": "98sqvQ1HmcAD"
      },
      "execution_count": null,
      "outputs": []
    },
    {
      "cell_type": "code",
      "source": [
        "input_text_processor.adapt(df.English)"
      ],
      "metadata": {
        "id": "G5yspR7lnTIv"
      },
      "execution_count": null,
      "outputs": []
    },
    {
      "cell_type": "code",
      "source": [
        "input_text_processor.get_vocabulary()[:10]"
      ],
      "metadata": {
        "colab": {
          "base_uri": "https://localhost:8080/"
        },
        "id": "grkfs2f5naIn",
        "outputId": "561e2b6a-53b1-49e5-cf51-c4cb12d8feaf"
      },
      "execution_count": null,
      "outputs": [
        {
          "output_type": "execute_result",
          "data": {
            "text/plain": [
              "['', '[UNK]', '[START]', '[ENDS]', '.', 'the', 'to', 'in', 'of', 'a']"
            ]
          },
          "metadata": {},
          "execution_count": 27
        }
      ]
    },
    {
      "cell_type": "code",
      "source": [
        "output_text_processor = preprocessing.TextVectorization(standardize=text_preprocess,max_tokens=max_vocab_size)"
      ],
      "metadata": {
        "id": "o9JqMmNKnhRt"
      },
      "execution_count": null,
      "outputs": []
    },
    {
      "cell_type": "code",
      "source": [
        "output_text_processor.adapt(df.Luganda)"
      ],
      "metadata": {
        "id": "ivGcvXm0n4__"
      },
      "execution_count": null,
      "outputs": []
    },
    {
      "cell_type": "code",
      "source": [
        "output_text_processor.get_vocabulary()[:10]"
      ],
      "metadata": {
        "colab": {
          "base_uri": "https://localhost:8080/"
        },
        "id": "70iEdQ-ToDYK",
        "outputId": "09b54d34-b31f-405d-a8ca-04f93c26c61e"
      },
      "execution_count": null,
      "outputs": [
        {
          "output_type": "execute_result",
          "data": {
            "text/plain": [
              "['', '[UNK]', '[START]', '[ENDS]', '.', \"'\", 'mu', 'ku', 'abantu', 'n']"
            ]
          },
          "metadata": {},
          "execution_count": 30
        }
      ]
    },
    {
      "cell_type": "code",
      "source": [
        "example_tokens = input_text_processor(example_input_batch)"
      ],
      "metadata": {
        "id": "emxUXyQqoIO7"
      },
      "execution_count": null,
      "outputs": []
    },
    {
      "cell_type": "code",
      "source": [
        "example_input_batch[10].numpy()"
      ],
      "metadata": {
        "colab": {
          "base_uri": "https://localhost:8080/"
        },
        "id": "y-8HPBcpEOtb",
        "outputId": "29fb8158-f6d1-4dfe-e325-98d5d178d2f2"
      },
      "execution_count": null,
      "outputs": [
        {
          "output_type": "execute_result",
          "data": {
            "text/plain": [
              "b'Patients that have recovered are discharged from the hospital.'"
            ]
          },
          "metadata": {},
          "execution_count": 32
        }
      ]
    },
    {
      "cell_type": "code",
      "source": [
        "example_tokens[10].numpy()"
      ],
      "metadata": {
        "colab": {
          "base_uri": "https://localhost:8080/"
        },
        "id": "hpu_CrlPpb9w",
        "outputId": "658c392e-d5b3-4940-948b-8d69d44d2559"
      },
      "execution_count": null,
      "outputs": [
        {
          "output_type": "execute_result",
          "data": {
            "text/plain": [
              "array([   2,  184,   42,   17, 1379,   10, 1427,   24,    5,  107,    4,\n",
              "          3,    0,    0,    0,    0,    0,    0,    0,    0,    0,    0,\n",
              "          0,    0,    0,    0])"
            ]
          },
          "metadata": {},
          "execution_count": 33
        }
      ]
    },
    {
      "cell_type": "code",
      "source": [
        "embed_dim = 300\n",
        "units = 1024"
      ],
      "metadata": {
        "id": "f91481fYpe2h"
      },
      "execution_count": null,
      "outputs": []
    },
    {
      "cell_type": "code",
      "source": [
        "class Encoder(tf.keras.layers.Layer):\n",
        "  def __init__(self,input_vocab_size,embed_dim,enc_units):\n",
        "    super(Encoder,self).__init__()\n",
        "\n",
        "    self.vocab_size = input_vocab_size\n",
        "    self.enc_units = enc_units\n",
        "    self.embedding = tf.keras.layers.Embedding(self.vocab_size,embed_dim)\n",
        "    self.gru = tf.keras.layers.LSTM(enc_units, return_sequences=True, return_state=True)\n",
        "\n",
        "  def call(self,tokens,state=None):\n",
        "    vectors = self.embedding(tokens)\n",
        "    output, state_h, state_c = self.gru(vectors,state)\n",
        "    state = [state_h,state_c]\n",
        "\n",
        "    return output,state\n",
        "\n"
      ],
      "metadata": {
        "id": "2KhZv07KqKC9"
      },
      "execution_count": null,
      "outputs": []
    },
    {
      "cell_type": "code",
      "source": [
        "encoder = Encoder(input_text_processor.vocabulary_size(),embed_dim,units)"
      ],
      "metadata": {
        "id": "bmSW6cuAtGZi"
      },
      "execution_count": null,
      "outputs": []
    },
    {
      "cell_type": "code",
      "source": [
        "example_enc_output,example_enc_state = encoder(example_tokens)"
      ],
      "metadata": {
        "id": "0Qyoa7_Ktrsk"
      },
      "execution_count": null,
      "outputs": []
    },
    {
      "cell_type": "code",
      "source": [
        "example_enc_output.shape"
      ],
      "metadata": {
        "colab": {
          "base_uri": "https://localhost:8080/"
        },
        "id": "elGC6jxGuPhM",
        "outputId": "1a7a09b0-498c-4959-a5d9-87bffb71ade4"
      },
      "execution_count": null,
      "outputs": [
        {
          "output_type": "execute_result",
          "data": {
            "text/plain": [
              "TensorShape([64, 26, 1024])"
            ]
          },
          "metadata": {},
          "execution_count": 38
        }
      ]
    },
    {
      "cell_type": "code",
      "source": [
        "example_enc_state"
      ],
      "metadata": {
        "colab": {
          "base_uri": "https://localhost:8080/"
        },
        "id": "Gdgm0YeAvrrl",
        "outputId": "155a8bed-7fd0-41ea-ed4a-fd77921e4aa7"
      },
      "execution_count": null,
      "outputs": [
        {
          "output_type": "execute_result",
          "data": {
            "text/plain": [
              "[<tf.Tensor: shape=(64, 1024), dtype=float32, numpy=\n",
              " array([[ 0.00419069,  0.00784983, -0.00329083, ..., -0.0029636 ,\n",
              "          0.00575009, -0.00486247],\n",
              "        [ 0.00396747,  0.00950198, -0.00497685, ..., -0.00264027,\n",
              "          0.00748817, -0.00602653],\n",
              "        [ 0.00399008,  0.00907801, -0.00475239, ..., -0.00300182,\n",
              "          0.00704372, -0.00567601],\n",
              "        ...,\n",
              "        [ 0.0027853 ,  0.00555447, -0.00076775, ..., -0.0022939 ,\n",
              "          0.00378035, -0.00422401],\n",
              "        [ 0.00367785,  0.0087494 , -0.00414119, ..., -0.00290837,\n",
              "          0.00677881, -0.00580551],\n",
              "        [ 0.00404331,  0.00874286, -0.00436475, ..., -0.00287812,\n",
              "          0.00662063, -0.00574746]], dtype=float32)>,\n",
              " <tf.Tensor: shape=(64, 1024), dtype=float32, numpy=\n",
              " array([[ 0.00845583,  0.01572464, -0.00658719, ..., -0.00591872,\n",
              "          0.01159497, -0.00972656],\n",
              "        [ 0.00800358,  0.01904413, -0.00996308, ..., -0.00527275,\n",
              "          0.01510938, -0.01205408],\n",
              "        [ 0.00805052,  0.01819271, -0.00951248, ..., -0.00599538,\n",
              "          0.01421041, -0.01135342],\n",
              "        ...,\n",
              "        [ 0.0056223 ,  0.01111942, -0.00153742, ..., -0.00458082,\n",
              "          0.0076182 , -0.00845095],\n",
              "        [ 0.00742008,  0.01753104, -0.00828898, ..., -0.00580839,\n",
              "          0.01367666, -0.01161398],\n",
              "        [ 0.00815696,  0.01751886, -0.00873779, ..., -0.00574775,\n",
              "          0.01335693, -0.01149537]], dtype=float32)>]"
            ]
          },
          "metadata": {},
          "execution_count": 39
        }
      ]
    },
    {
      "cell_type": "code",
      "source": [
        "class BahdAttention(tf.keras.layers.Layer):\n",
        "  def __init__(self,units):\n",
        "    super().__init__()\n",
        "    self.w = tf.keras.layers.Dense(units)\n",
        "    self.u = tf.keras.layers.Dense(units)\n",
        "    self.attention = tf.keras.layers.AdditiveAttention()\n",
        "\n",
        "  def call(self,query,value,mask):\n",
        "    w_query = self.w(query)\n",
        "    u_key = self.u(value)\n",
        "\n",
        "    query_mask = tf.ones(tf.shape(query)[:-1],dtype = bool)\n",
        "    value_mask = mask\n",
        "\n",
        "    context_vector,attention_weights = self.attention(inputs=[w_query,value,u_key],mask=[query_mask,value_mask],return_attention_scores = True)\n",
        "\n",
        "    return context_vector,attention_weights\n"
      ],
      "metadata": {
        "id": "Nx-d8akPuVoF"
      },
      "execution_count": null,
      "outputs": []
    },
    {
      "cell_type": "code",
      "source": [
        "attention = BahdAttention(units)"
      ],
      "metadata": {
        "id": "0BW6DwI00pGA"
      },
      "execution_count": null,
      "outputs": []
    },
    {
      "cell_type": "code",
      "source": [
        "example_attention_query = tf.random.normal(shape=[len(example_tokens), 2, 10])"
      ],
      "metadata": {
        "id": "C4WTbOk242z9"
      },
      "execution_count": null,
      "outputs": []
    },
    {
      "cell_type": "code",
      "source": [
        "context_v, attention_w = attention(query=example_attention_query,value = example_enc_output,mask=(example_tokens!=0))"
      ],
      "metadata": {
        "id": "7KNHhjnL0wuC"
      },
      "execution_count": null,
      "outputs": []
    },
    {
      "cell_type": "code",
      "source": [
        "context_v.shape, attention_w.shape"
      ],
      "metadata": {
        "colab": {
          "base_uri": "https://localhost:8080/"
        },
        "id": "ETXzSZsL5Wz6",
        "outputId": "0ec71f59-cdfc-48d1-abd9-6dc795e3a897"
      },
      "execution_count": null,
      "outputs": [
        {
          "output_type": "execute_result",
          "data": {
            "text/plain": [
              "(TensorShape([64, 2, 1024]), TensorShape([64, 2, 26]))"
            ]
          },
          "metadata": {},
          "execution_count": 44
        }
      ]
    },
    {
      "cell_type": "code",
      "source": [
        "class DecoderInput(typing.NamedTuple):\n",
        "  new_tokens: Any\n",
        "  enc_output : Any\n",
        "  mask : Any"
      ],
      "metadata": {
        "id": "1ke1coZ_5cKM"
      },
      "execution_count": null,
      "outputs": []
    },
    {
      "cell_type": "code",
      "source": [
        "class DecoderOutput(typing.NamedTuple):\n",
        "  logits : Any\n",
        "  attention_weights : Any\n"
      ],
      "metadata": {
        "id": "GFEBeBL9-Qxb"
      },
      "execution_count": null,
      "outputs": []
    },
    {
      "cell_type": "code",
      "source": [
        "class Decoder(tf.keras.layers.Layer):\n",
        "  def __init__(self,output_vocab_size,embed_dim,dec_units):\n",
        "    super(Decoder,self).__init__()\n",
        "    self.vocab_size = output_vocab_size\n",
        "    self.dec_units = dec_units\n",
        "\n",
        "    self.embedding = tf.keras.layers.Embedding(self.vocab_size,embed_dim)\n",
        "    self.gru = tf.keras.layers.LSTM(self.dec_units,return_sequences=True,return_state=True)\n",
        "    self.attention = BahdAttention(self.dec_units)\n",
        "    self.Wc = tf.keras.layers.Dense(self.dec_units,activation = tf.math.tanh,use_bias=False)\n",
        "    self.fc = tf.keras.layers.Dense(self.vocab_size)\n",
        "\n",
        "  def call(self,inputs:DecoderInput,state=None) -> Tuple[DecoderOutput, tf.Tensor] :\n",
        "    vectors = self.embedding(inputs.new_tokens)\n",
        "    output, state_h, state_c = self.gru(vectors, initial_state=state)\n",
        "    state = [state_h,state_c]\n",
        "    context_vector, attention_weights = self.attention(query=output,value=inputs.enc_output,mask=inputs.mask)\n",
        "    context_output = tf.concat([context_vector,output],axis=-1)\n",
        "    attention_vector = self.Wc(context_output)\n",
        "    logits = self.fc(attention_vector)\n",
        "\n",
        "    return DecoderOutput(logits,attention_weights), state\n",
        "\n",
        "\n"
      ],
      "metadata": {
        "id": "iO260GKv-iHw"
      },
      "execution_count": null,
      "outputs": []
    },
    {
      "cell_type": "code",
      "source": [
        "decoder = Decoder(output_text_processor.vocabulary_size(),embed_dim,units)"
      ],
      "metadata": {
        "id": "YD0py9z7Fzf1"
      },
      "execution_count": null,
      "outputs": []
    },
    {
      "cell_type": "code",
      "source": [
        "example_output_tokens = output_text_processor(example_target_batch)"
      ],
      "metadata": {
        "id": "4M5ChRY4MPsV"
      },
      "execution_count": null,
      "outputs": []
    },
    {
      "cell_type": "code",
      "source": [
        "start_index = output_text_processor.get_vocabulary().index('[START]')"
      ],
      "metadata": {
        "id": "ZzCh-JA7M4TL"
      },
      "execution_count": null,
      "outputs": []
    },
    {
      "cell_type": "code",
      "source": [
        "first_token = tf.constant([[start_index]] * example_output_tokens.shape[0])"
      ],
      "metadata": {
        "id": "m5tVO19XOQ0v"
      },
      "execution_count": null,
      "outputs": []
    },
    {
      "cell_type": "code",
      "source": [
        "first_token.shape"
      ],
      "metadata": {
        "colab": {
          "base_uri": "https://localhost:8080/"
        },
        "id": "mcluPRHLOhvL",
        "outputId": "60b2dafa-8d0d-4578-aeb1-4c75abd4ca58"
      },
      "execution_count": null,
      "outputs": [
        {
          "output_type": "execute_result",
          "data": {
            "text/plain": [
              "TensorShape([64, 1])"
            ]
          },
          "metadata": {},
          "execution_count": 52
        }
      ]
    },
    {
      "cell_type": "code",
      "source": [
        "dec_result,dec_state = decoder(inputs= DecoderInput(new_tokens=first_token,enc_output=example_enc_output,mask=(example_tokens!=0)),state=example_enc_state)"
      ],
      "metadata": {
        "id": "DrwdbLQsOjNT"
      },
      "execution_count": null,
      "outputs": []
    },
    {
      "cell_type": "code",
      "source": [
        "dec_result.logits.shape"
      ],
      "metadata": {
        "colab": {
          "base_uri": "https://localhost:8080/"
        },
        "id": "cN6dGCiiPmUj",
        "outputId": "c1212c10-152c-4a28-bc03-b09a23399a05"
      },
      "execution_count": null,
      "outputs": [
        {
          "output_type": "execute_result",
          "data": {
            "text/plain": [
              "TensorShape([64, 1, 15000])"
            ]
          },
          "metadata": {},
          "execution_count": 54
        }
      ]
    },
    {
      "cell_type": "code",
      "source": [
        "dec_state[0].shape, dec_state[1].shape"
      ],
      "metadata": {
        "id": "BkOlw76NP9S2",
        "colab": {
          "base_uri": "https://localhost:8080/"
        },
        "outputId": "7590ad3f-a702-4268-afb4-da238fec8b9d"
      },
      "execution_count": null,
      "outputs": [
        {
          "output_type": "execute_result",
          "data": {
            "text/plain": [
              "(TensorShape([64, 1024]), TensorShape([64, 1024]))"
            ]
          },
          "metadata": {},
          "execution_count": 55
        }
      ]
    },
    {
      "cell_type": "code",
      "source": [
        "input_text_processor.vocabulary_size(),output_text_processor.vocabulary_size()"
      ],
      "metadata": {
        "colab": {
          "base_uri": "https://localhost:8080/"
        },
        "id": "ZoD6bWdAQ2jm",
        "outputId": "fa8e8a87-7e14-4c18-c286-f0f47f2a9c6d"
      },
      "execution_count": null,
      "outputs": [
        {
          "output_type": "execute_result",
          "data": {
            "text/plain": [
              "(7881, 15000)"
            ]
          },
          "metadata": {},
          "execution_count": 56
        }
      ]
    },
    {
      "cell_type": "code",
      "source": [
        "sampled_token = tf.random.categorical(dec_result.logits[:, 0, :], num_samples=1)"
      ],
      "metadata": {
        "id": "Amdd-JSBQ9Pj"
      },
      "execution_count": null,
      "outputs": []
    },
    {
      "cell_type": "code",
      "source": [
        "vocab = np.array(output_text_processor.get_vocabulary())\n",
        "first_word = vocab[sampled_token.numpy()]\n",
        "first_word[:5]"
      ],
      "metadata": {
        "colab": {
          "base_uri": "https://localhost:8080/"
        },
        "id": "X2UKls-ZRW4P",
        "outputId": "47033210-2265-46b8-f4af-da1af4f96a78"
      },
      "execution_count": null,
      "outputs": [
        {
          "output_type": "execute_result",
          "data": {
            "text/plain": [
              "array([['terinnafuuka'],\n",
              "       ['byenyigidde'],\n",
              "       ['zikyaliwo'],\n",
              "       ['bwonoona'],\n",
              "       ['ebitaliimu']], dtype='<U23')"
            ]
          },
          "metadata": {},
          "execution_count": 58
        }
      ]
    },
    {
      "cell_type": "code",
      "source": [
        "dec_result, dec_state = decoder(\n",
        "    DecoderInput(sampled_token,\n",
        "                 example_enc_output,\n",
        "                 mask=(example_tokens != 0)),\n",
        "    state=dec_state)"
      ],
      "metadata": {
        "id": "R_HWzSE5Raqu"
      },
      "execution_count": null,
      "outputs": []
    },
    {
      "cell_type": "code",
      "source": [
        "sampled_token = tf.random.categorical(dec_result.logits[:, 0, :], num_samples=1)\n",
        "first_word = vocab[sampled_token.numpy()]\n",
        "first_word[:5]"
      ],
      "metadata": {
        "colab": {
          "base_uri": "https://localhost:8080/"
        },
        "id": "D2HlaDgsRmon",
        "outputId": "1bc4ca9a-018f-4ae1-dab5-f2a2b2290c55"
      },
      "execution_count": null,
      "outputs": [
        {
          "output_type": "execute_result",
          "data": {
            "text/plain": [
              "array([['okusembeza'],\n",
              "       ['ebyama'],\n",
              "       ['ebyanunulwa'],\n",
              "       ['liweereza'],\n",
              "       ['okukwasibwa']], dtype='<U23')"
            ]
          },
          "metadata": {},
          "execution_count": 60
        }
      ]
    },
    {
      "cell_type": "code",
      "source": [],
      "metadata": {
        "id": "dX7I-S_WR6Gm"
      },
      "execution_count": null,
      "outputs": []
    },
    {
      "cell_type": "code",
      "source": [],
      "metadata": {
        "id": "Ak99-azTNhr5"
      },
      "execution_count": null,
      "outputs": []
    },
    {
      "cell_type": "code",
      "source": [
        "class MaskedLoss(tf.keras.losses.Loss):\n",
        "  def __init__(self):\n",
        "    self.name = 'masked_loss'\n",
        "    self.loss = tf.keras.losses.SparseCategoricalCrossentropy(from_logits=True,reduction='none')\n",
        "\n",
        "  def __call__(self,y_true,y_pred):\n",
        "    loss = self.loss(y_true,y_pred)\n",
        "    mask = tf.cast(y_true !=0 ,tf.float32)\n",
        "    loss *=mask\n",
        "\n",
        "    return tf.reduce_sum(loss)"
      ],
      "metadata": {
        "id": "Mo656Ni3RrkD"
      },
      "execution_count": null,
      "outputs": []
    },
    {
      "cell_type": "code",
      "source": [],
      "metadata": {
        "id": "jEkNidITTPWh"
      },
      "execution_count": null,
      "outputs": []
    },
    {
      "cell_type": "code",
      "source": [
        "class TrainTranslator(tf.keras.Model):\n",
        "  def __init__(self,embed_dim,units, input_text_processor, output_text_processor,use_tf_function=True):\n",
        "    super().__init__()\n",
        "\n",
        "    encoder = Encoder(input_text_processor.vocabulary_size(),embed_dim,units)\n",
        "    decoder = Decoder(output_text_processor.vocabulary_size(),embed_dim,units)\n",
        "\n",
        "    self.encoder = encoder\n",
        "    self.decoder = decoder\n",
        "    self.input_text_processor = input_text_processor\n",
        "    self.output_text_processor = output_text_processor\n",
        "    self.use_tf_function = use_tf_function\n",
        "\n",
        "  def train_step(self,inputs):\n",
        "      if self.use_tf_function:\n",
        "        return self._tf_train_step(inputs)\n",
        "      else:\n",
        "        return self._train_step(inputs)\n",
        "\n",
        "  def _preprocess(self,input_text,target_text):\n",
        "      input_tokens = input_text_processor(input_text)\n",
        "      target_tokens = output_text_processor(target_text)\n",
        "      input_mask = input_tokens!=0\n",
        "      target_mask = target_tokens!=0\n",
        "\n",
        "      return input_tokens,target_tokens,input_mask,target_mask\n",
        "\n",
        "  def _train_step(self,inputs):\n",
        "    input_text,target_text = inputs\n",
        "\n",
        "    input_tokens,target_tokens,input_mask,target_mask = self._preprocess(input_text,target_text)\n",
        "    max_target_length = tf.shape(target_tokens)[1]\n",
        "\n",
        "    with tf.GradientTape() as tape:\n",
        "      enc_output, enc_state = self.encoder(input_tokens)\n",
        "      dec_state = enc_state\n",
        "\n",
        "      loss = tf.constant(0.0)\n",
        "\n",
        "      for t in tf.range(max_target_length-1):\n",
        "\n",
        "    #    new_tokens = target_tokens[:,x:x+2]\n",
        "     #   dec_input_tokens = new_tokens[:,0:1]\n",
        "     #   dec_target_tokens = target_tokens[:,1:2]\n",
        "\n",
        "      #  dec_input = DecoderInput(dec_input_tokens,enc_output,input_mask)\n",
        "\n",
        "        new_tokens = target_tokens[:, t:t+2]\n",
        "        step_loss, dec_state = self._loop_step(new_tokens, input_mask,\n",
        "                                             enc_output, dec_state)\n",
        "        loss = loss + step_loss\n",
        "\n",
        "        #dec_result,dec_state = decoder(dec_input,dec_state)\n",
        "\n",
        "        #y_pred = dec_result.logits\n",
        "        #y = dec_target_tokens\n",
        "        #step_loss = self.loss(y,y_pred)\n",
        "        #loss = loss + step_loss\n",
        "\n",
        "      average_loss = loss / tf.reduce_sum(tf.cast(target_mask, tf.float32))\n",
        "\n",
        "    variables = self.trainable_variables\n",
        "    gradients = tape.gradient(average_loss,variables)\n",
        "    self.optimizer.apply_gradients(zip(gradients,variables))\n",
        "\n",
        "    return {'batch_loss' : average_loss}\n",
        "\n",
        "  def _loop_step(self, new_tokens, input_mask, enc_output, dec_state):\n",
        "    input_token, target_token = new_tokens[:, 0:1], new_tokens[:, 1:2]\n",
        "\n",
        "  # Run the decoder one step.\n",
        "    decoder_input = DecoderInput(new_tokens=input_token,\n",
        "                               enc_output=enc_output,\n",
        "                               mask=input_mask)\n",
        "\n",
        "    dec_result, dec_state = self.decoder(decoder_input, state=dec_state)\n",
        "\n",
        "  # `self.loss` returns the total for non-padded tokens\n",
        "    y = target_token\n",
        "    y_pred = dec_result.logits\n",
        "    step_loss = self.loss(y, y_pred)\n",
        "\n",
        "    return step_loss, dec_state\n",
        "\n",
        "  @tf.function(input_signature=[[tf.TensorSpec(dtype=tf.string, shape=[None]),\n",
        "                               tf.TensorSpec(dtype=tf.string, shape=[None])]])\n",
        "  def _tf_train_step(self,inputs):\n",
        "    return self._train_step(inputs)\n",
        "\n",
        "\n",
        "\n",
        "\n"
      ],
      "metadata": {
        "id": "eU0vNtrsYBn5"
      },
      "execution_count": null,
      "outputs": []
    },
    {
      "cell_type": "code",
      "source": [
        "translator = TrainTranslator(embed_dim,units, input_text_processor=input_text_processor, output_text_processor = output_text_processor,use_tf_function=True)"
      ],
      "metadata": {
        "id": "qn5wfgE7GuHc"
      },
      "execution_count": null,
      "outputs": []
    },
    {
      "cell_type": "code",
      "source": [
        "translator.compile(optimizer = tf.optimizers.Adam(), loss = MaskedLoss())"
      ],
      "metadata": {
        "id": "D3qNZCu3HLJ_"
      },
      "execution_count": null,
      "outputs": []
    },
    {
      "cell_type": "code",
      "source": [
        "np.log(output_text_processor.vocabulary_size())"
      ],
      "metadata": {
        "colab": {
          "base_uri": "https://localhost:8080/"
        },
        "id": "Ssv-U2aqHc3F",
        "outputId": "0ce492a3-9bdf-4d21-e143-15014ff7618c"
      },
      "execution_count": null,
      "outputs": [
        {
          "output_type": "execute_result",
          "data": {
            "text/plain": [
              "9.615805480084347"
            ]
          },
          "metadata": {},
          "execution_count": 65
        }
      ]
    },
    {
      "cell_type": "code",
      "source": [
        "%%time\n",
        "for n in range(10):\n",
        "  print(translator.train_step([example_input_batch, example_target_batch]))\n",
        "print()"
      ],
      "metadata": {
        "colab": {
          "base_uri": "https://localhost:8080/"
        },
        "id": "ki8pvobcH2WD",
        "outputId": "b28828d0-fe7a-4a9b-9aef-4ea561d67fde"
      },
      "execution_count": null,
      "outputs": [
        {
          "output_type": "stream",
          "name": "stdout",
          "text": [
            "{'batch_loss': <tf.Tensor: shape=(), dtype=float32, numpy=8.761132>}\n",
            "{'batch_loss': <tf.Tensor: shape=(), dtype=float32, numpy=8.747851>}\n",
            "{'batch_loss': <tf.Tensor: shape=(), dtype=float32, numpy=8.687088>}\n",
            "{'batch_loss': <tf.Tensor: shape=(), dtype=float32, numpy=8.0126>}\n",
            "{'batch_loss': <tf.Tensor: shape=(), dtype=float32, numpy=6.1959314>}\n",
            "{'batch_loss': <tf.Tensor: shape=(), dtype=float32, numpy=5.201683>}\n",
            "{'batch_loss': <tf.Tensor: shape=(), dtype=float32, numpy=4.8024735>}\n",
            "{'batch_loss': <tf.Tensor: shape=(), dtype=float32, numpy=4.659678>}\n",
            "{'batch_loss': <tf.Tensor: shape=(), dtype=float32, numpy=4.5900745>}\n",
            "{'batch_loss': <tf.Tensor: shape=(), dtype=float32, numpy=4.533132>}\n",
            "\n",
            "CPU times: user 18 s, sys: 1.14 s, total: 19.2 s\n",
            "Wall time: 16.9 s\n"
          ]
        }
      ]
    },
    {
      "cell_type": "code",
      "source": [
        "losses = []\n",
        "for n in range(100):\n",
        "  print('.', end='')\n",
        "  logs = translator.train_step([example_input_batch, example_target_batch])\n",
        "  losses.append(logs['batch_loss'].numpy())\n",
        "\n",
        "print()\n",
        "plt.plot(losses)"
      ],
      "metadata": {
        "colab": {
          "base_uri": "https://localhost:8080/",
          "height": 300
        },
        "id": "2FuquJ_oIBpt",
        "outputId": "385b3c95-466f-4df0-b094-5efc054a5e61"
      },
      "execution_count": null,
      "outputs": [
        {
          "output_type": "stream",
          "name": "stdout",
          "text": [
            "....................................................................................................\n"
          ]
        },
        {
          "output_type": "execute_result",
          "data": {
            "text/plain": [
              "[<matplotlib.lines.Line2D at 0x7f2765218950>]"
            ]
          },
          "metadata": {},
          "execution_count": 67
        },
        {
          "output_type": "display_data",
          "data": {
            "text/plain": [
              "<Figure size 432x288 with 1 Axes>"
            ],
            "image/png": "[encoded data removed]"
          },
          "metadata": {
            "needs_background": "light"
          }
        }
      ]
    },
    {
      "cell_type": "code",
      "source": [
        "train_translator = TrainTranslator(\n",
        "    embed_dim, units,\n",
        "    input_text_processor=input_text_processor,\n",
        "    output_text_processor=output_text_processor)\n",
        "\n",
        "# Configure the loss and optimizer\n",
        "train_translator.compile(\n",
        "    optimizer=tf.optimizers.Adam(),\n",
        "    loss=MaskedLoss(),\n",
        ")"
      ],
      "metadata": {
        "id": "DUZeqLxsiv_e"
      },
      "execution_count": null,
      "outputs": []
    },
    {
      "cell_type": "code",
      "source": [],
      "metadata": {
        "id": "nRk89eS-wR2d"
      },
      "execution_count": null,
      "outputs": []
    },
    {
      "cell_type": "code",
      "source": [
        "class BatchLogs(tf.keras.callbacks.Callback):\n",
        "  def __init__(self,key):\n",
        "    self.key = key\n",
        "    self.logs = []\n",
        "\n",
        "  def on_train_batch_end(self,n,logs):\n",
        "    self.logs.append(logs[self.key])\n"
      ],
      "metadata": {
        "id": "pJHq8E4ImPM9"
      },
      "execution_count": null,
      "outputs": []
    },
    {
      "cell_type": "code",
      "source": [
        "batch_loss = BatchLogs('batch_loss')"
      ],
      "metadata": {
        "id": "fIh1cYPtn62q"
      },
      "execution_count": null,
      "outputs": []
    },
    {
      "cell_type": "code",
      "source": [],
      "metadata": {
        "id": "ju2fSXUMprf3"
      },
      "execution_count": null,
      "outputs": []
    },
    {
      "cell_type": "code",
      "source": [
        "train_translator.fit(train_ds, epochs=20,callbacks=[batch_loss])"
      ],
      "metadata": {
        "colab": {
          "base_uri": "https://localhost:8080/"
        },
        "id": "zIdo76PQoDND",
        "outputId": "e5c2dcf3-f674-4fbe-f891-762132a8670d"
      },
      "execution_count": null,
      "outputs": [
        {
          "output_type": "stream",
          "name": "stdout",
          "text": [
            "Epoch 1/20\n",
            "234/234 [==============================] - 170s 686ms/step - batch_loss: 5.6155\n",
            "Epoch 2/20\n",
            "234/234 [==============================] - 160s 684ms/step - batch_loss: 4.7818\n",
            "Epoch 3/20\n",
            "234/234 [==============================] - 160s 683ms/step - batch_loss: 4.6599\n",
            "Epoch 4/20\n",
            "234/234 [==============================] - 162s 691ms/step - batch_loss: 4.0126\n",
            "Epoch 5/20\n",
            "234/234 [==============================] - 161s 686ms/step - batch_loss: 3.5934\n",
            "Epoch 6/20\n",
            "234/234 [==============================] - 160s 684ms/step - batch_loss: 3.1322\n",
            "Epoch 7/20\n",
            "234/234 [==============================] - 159s 681ms/step - batch_loss: 2.5771\n",
            "Epoch 8/20\n",
            "234/234 [==============================] - 159s 680ms/step - batch_loss: 2.0014\n",
            "Epoch 9/20\n",
            "234/234 [==============================] - 158s 675ms/step - batch_loss: 1.4927\n",
            "Epoch 10/20\n",
            "234/234 [==============================] - 159s 678ms/step - batch_loss: 1.0913\n",
            "Epoch 11/20\n",
            "234/234 [==============================] - 160s 685ms/step - batch_loss: 0.7845\n",
            "Epoch 12/20\n",
            "234/234 [==============================] - 159s 680ms/step - batch_loss: 0.5434\n",
            "Epoch 13/20\n",
            "234/234 [==============================] - 158s 676ms/step - batch_loss: 0.3784\n",
            "Epoch 14/20\n",
            "234/234 [==============================] - 159s 680ms/step - batch_loss: 0.2618\n",
            "Epoch 15/20\n",
            "234/234 [==============================] - 159s 678ms/step - batch_loss: 0.1847\n",
            "Epoch 16/20\n",
            "234/234 [==============================] - 159s 680ms/step - batch_loss: 0.1379\n",
            "Epoch 17/20\n",
            "234/234 [==============================] - 160s 682ms/step - batch_loss: 0.1094\n",
            "Epoch 18/20\n",
            "234/234 [==============================] - 160s 685ms/step - batch_loss: 0.0876\n",
            "Epoch 19/20\n",
            "234/234 [==============================] - 163s 699ms/step - batch_loss: 0.0793\n",
            "Epoch 20/20\n",
            "234/234 [==============================] - 161s 687ms/step - batch_loss: 0.0714\n"
          ]
        },
        {
          "output_type": "execute_result",
          "data": {
            "text/plain": [
              "<keras.callbacks.History at 0x7f2764d6e0d0>"
            ]
          },
          "metadata": {},
          "execution_count": 71
        }
      ]
    },
    {
      "cell_type": "code",
      "source": [
        "batch_loss.logs"
      ],
      "metadata": {
        "colab": {
          "base_uri": "https://localhost:8080/"
        },
        "id": "NypTYDGC0_LF",
        "outputId": "f02b03ad-b3d9-4813-abe3-78424aa8a814"
      },
      "execution_count": null,
      "outputs": [
        {
          "output_type": "execute_result",
          "data": {
            "text/plain": [
              "[8.798468589782715,\n",
              " 8.733905792236328,\n",
              " 8.707443237304688,\n",
              " 8.459784507751465,\n",
              " 7.273426532745361,\n",
              " 6.487459182739258,\n",
              " 6.207139492034912,\n",
              " 6.210538387298584,\n",
              " 6.184382438659668,\n",
              " 6.303684711456299,\n",
              " 6.156476974487305,\n",
              " 6.393448352813721,\n",
              " 6.273400783538818,\n",
              " 6.149407386779785,\n",
              " 6.042700290679932,\n",
              " 6.289069652557373,\n",
              " 6.375199317932129,\n",
              " 6.082449436187744,\n",
              " 6.288249492645264,\n",
              " 6.1979146003723145,\n",
              " 6.204837322235107,\n",
              " 6.114953517913818,\n",
              " 5.912710189819336,\n",
              " 6.06814432144165,\n",
              " 6.266837120056152,\n",
              " 6.111166000366211,\n",
              " 6.286511421203613,\n",
              " 6.173669815063477,\n",
              " 5.970661163330078,\n",
              " 6.179229259490967,\n",
              " 6.066042423248291,\n",
              " 6.180558681488037,\n",
              " 5.854885578155518,\n",
              " 6.199954032897949,\n",
              " 5.995820999145508,\n",
              " 6.052000522613525,\n",
              " 6.032338619232178,\n",
              " 5.86350154876709,\n",
              " 6.070072174072266,\n",
              " 5.908779621124268,\n",
              " 5.867590427398682,\n",
              " 5.8536176681518555,\n",
              " 6.034265518188477,\n",
              " 5.783714771270752,\n",
              " 5.840068817138672,\n",
              " 5.835540771484375,\n",
              " 5.817277431488037,\n",
              " 5.821218490600586,\n",
              " 5.862257957458496,\n",
              " 5.725565433502197,\n",
              " 5.673923492431641,\n",
              " 5.829859733581543,\n",
              " 5.872757911682129,\n",
              " 5.68168830871582,\n",
              " 5.682059288024902,\n",
              " 5.6638264656066895,\n",
              " 5.701588153839111,\n",
              " 5.533999919891357,\n",
              " 5.693352699279785,\n",
              " 5.7510199546813965,\n",
              " 5.749933242797852,\n",
              " 5.552434921264648,\n",
              " 5.737638473510742,\n",
              " 5.736924648284912,\n",
              " 5.7956671714782715,\n",
              " 5.722297191619873,\n",
              " 5.642512798309326,\n",
              " 5.658987522125244,\n",
              " 5.567651271820068,\n",
              " 5.697226524353027,\n",
              " 5.712029457092285,\n",
              " 5.856124401092529,\n",
              " 5.514683246612549,\n",
              " 5.662230968475342,\n",
              " 5.656246185302734,\n",
              " 5.652439594268799,\n",
              " 5.643672466278076,\n",
              " 5.836130142211914,\n",
              " 5.382686138153076,\n",
              " 5.437929630279541,\n",
              " 5.829812526702881,\n",
              " 5.381044387817383,\n",
              " 5.7950615882873535,\n",
              " 5.717986583709717,\n",
              " 5.484861850738525,\n",
              " 5.536234378814697,\n",
              " 5.7604875564575195,\n",
              " 5.567932605743408,\n",
              " 5.592709541320801,\n",
              " 5.640380859375,\n",
              " 5.522317409515381,\n",
              " 5.690515995025635,\n",
              " 5.494429111480713,\n",
              " 5.649752616882324,\n",
              " 5.694494724273682,\n",
              " 5.464833736419678,\n",
              " 5.62106466293335,\n",
              " 5.548720836639404,\n",
              " 5.544332981109619,\n",
              " 5.532402038574219,\n",
              " 5.645618438720703,\n",
              " 5.572836399078369,\n",
              " 5.770801067352295,\n",
              " 5.551501750946045,\n",
              " 5.616002559661865,\n",
              " 5.6358232498168945,\n",
              " 5.656853199005127,\n",
              " 5.713528156280518,\n",
              " 5.4839911460876465,\n",
              " 5.459587097167969,\n",
              " 5.599997043609619,\n",
              " 5.480785369873047,\n",
              " 5.414771556854248,\n",
              " 5.633373737335205,\n",
              " 5.437583923339844,\n",
              " 5.2642059326171875,\n",
              " 5.470870018005371,\n",
              " 5.275027751922607,\n",
              " 5.614645481109619,\n",
              " 5.370800495147705,\n",
              " 5.4408040046691895,\n",
              " 5.409636497497559,\n",
              " 5.340877532958984,\n",
              " 5.49918270111084,\n",
              " 5.535552978515625,\n",
              " 5.393620491027832,\n",
              " 5.526601314544678,\n",
              " 5.584733963012695,\n",
              " 5.459436893463135,\n",
              " 5.4460978507995605,\n",
              " 5.405389308929443,\n",
              " 5.337393760681152,\n",
              " 5.397568702697754,\n",
              " 5.557149887084961,\n",
              " 5.356674671173096,\n",
              " 5.607517242431641,\n",
              " 5.38370418548584,\n",
              " 5.435000896453857,\n",
              " 5.306334018707275,\n",
              " 5.406001091003418,\n",
              " 5.315471172332764,\n",
              " 5.3882293701171875,\n",
              " 5.3289875984191895,\n",
              " 5.397583484649658,\n",
              " 5.517007827758789,\n",
              " 5.3970794677734375,\n",
              " 5.557880878448486,\n",
              " 5.446218490600586,\n",
              " 5.416512489318848,\n",
              " 5.257508754730225,\n",
              " 5.3287224769592285,\n",
              " 5.230885028839111,\n",
              " 5.54821252822876,\n",
              " 5.411823749542236,\n",
              " 5.380621910095215,\n",
              " 5.586633682250977,\n",
              " 5.345607757568359,\n",
              " 5.362800121307373,\n",
              " 5.486506938934326,\n",
              " 5.547945499420166,\n",
              " 5.446846961975098,\n",
              " 5.32968282699585,\n",
              " 5.339904308319092,\n",
              " 5.379777908325195,\n",
              " 5.49945592880249,\n",
              " 5.433060169219971,\n",
              " 5.504473686218262,\n",
              " 5.55076265335083,\n",
              " 5.36710262298584,\n",
              " 5.327611446380615,\n",
              " 5.26204252243042,\n",
              " 5.231085777282715,\n",
              " 5.377087116241455,\n",
              " 5.468507289886475,\n",
              " 5.395598888397217,\n",
              " 5.412407398223877,\n",
              " 5.49841833114624,\n",
              " 5.305174350738525,\n",
              " 5.344996929168701,\n",
              " 5.416345596313477,\n",
              " 5.255240440368652,\n",
              " 5.306826114654541,\n",
              " 5.071306228637695,\n",
              " 5.115767478942871,\n",
              " 5.093502521514893,\n",
              " 5.133214950561523,\n",
              " 5.368749141693115,\n",
              " 5.4354753494262695,\n",
              " 5.485060691833496,\n",
              " 5.4350433349609375,\n",
              " 5.262693405151367,\n",
              " 5.165831089019775,\n",
              " 5.1419758796691895,\n",
              " 5.166018962860107,\n",
              " 5.256048679351807,\n",
              " 5.326151371002197,\n",
              " 5.104005336761475,\n",
              " 5.298586845397949,\n",
              " 5.288857936859131,\n",
              " 5.165358066558838,\n",
              " 5.039279937744141,\n",
              " 5.1176323890686035,\n",
              " 5.224808216094971,\n",
              " 5.189934730529785,\n",
              " 5.408149719238281,\n",
              " 5.250824928283691,\n",
              " 5.249823570251465,\n",
              " 5.079793930053711,\n",
              " 5.155035018920898,\n",
              " 5.082986831665039,\n",
              " 5.399823188781738,\n",
              " 5.210132598876953,\n",
              " 5.350022792816162,\n",
              " 5.330589294433594,\n",
              " 5.342763423919678,\n",
              " 5.133837699890137,\n",
              " 4.973875522613525,\n",
              " 4.97920036315918,\n",
              " 5.04209566116333,\n",
              " 5.126308441162109,\n",
              " 5.161535263061523,\n",
              " 5.004051208496094,\n",
              " 5.175848960876465,\n",
              " 5.532609462738037,\n",
              " 5.126729488372803,\n",
              " 5.173612594604492,\n",
              " 5.1061482429504395,\n",
              " 5.2812180519104,\n",
              " 5.212710857391357,\n",
              " 5.093156337738037,\n",
              " 5.09076452255249,\n",
              " 5.409611225128174,\n",
              " 5.061317443847656,\n",
              " 5.03980827331543,\n",
              " 4.952986717224121,\n",
              " 4.95692777633667,\n",
              " 5.062486171722412,\n",
              " 4.768211364746094,\n",
              " 4.760898590087891,\n",
              " 4.973505973815918,\n",
              " 4.678292751312256,\n",
              " 4.953054428100586,\n",
              " 4.94000768661499,\n",
              " 4.954696178436279,\n",
              " 4.913268566131592,\n",
              " 4.994335651397705,\n",
              " 5.119029998779297,\n",
              " 4.958789348602295,\n",
              " 4.964179515838623,\n",
              " 4.967161655426025,\n",
              " 4.870667934417725,\n",
              " 4.946819305419922,\n",
              " 4.92338752746582,\n",
              " 5.053798198699951,\n",
              " 5.193497180938721,\n",
              " 4.8972859382629395,\n",
              " 4.937474727630615,\n",
              " 4.754083156585693,\n",
              " 4.938296318054199,\n",
              " 4.896456718444824,\n",
              " 5.04771089553833,\n",
              " 4.791456699371338,\n",
              " 4.856179714202881,\n",
              " 5.043651580810547,\n",
              " 4.946699142456055,\n",
              " 4.881059169769287,\n",
              " 4.794658660888672,\n",
              " 4.791087627410889,\n",
              " 4.888311386108398,\n",
              " 4.829732894897461,\n",
              " 4.614750862121582,\n",
              " 4.822493076324463,\n",
              " 4.885272026062012,\n",
              " 4.993625164031982,\n",
              " 4.842155933380127,\n",
              " 5.011676788330078,\n",
              " 4.617602348327637,\n",
              " 4.948067665100098,\n",
              " 4.908636569976807,\n",
              " 4.822101593017578,\n",
              " 4.825045108795166,\n",
              " 4.9426398277282715,\n",
              " 4.790487766265869,\n",
              " 5.008613586425781,\n",
              " 4.784666538238525,\n",
              " 4.853237152099609,\n",
              " 4.884861946105957,\n",
              " 4.883387565612793,\n",
              " 4.730731964111328,\n",
              " 4.879145622253418,\n",
              " 4.889447212219238,\n",
              " 4.9014363288879395,\n",
              " 5.03570556640625,\n",
              " 4.909531593322754,\n",
              " 4.973060607910156,\n",
              " 4.6291399002075195,\n",
              " 4.9547624588012695,\n",
              " 4.908581733703613,\n",
              " 4.658345699310303,\n",
              " 4.89447546005249,\n",
              " 4.921304702758789,\n",
              " 4.817931175231934,\n",
              " 4.739174842834473,\n",
              " 4.783968925476074,\n",
              " 4.863049507141113,\n",
              " 4.78550910949707,\n",
              " 4.925572872161865,\n",
              " 4.849766731262207,\n",
              " 5.041843891143799,\n",
              " 4.837457180023193,\n",
              " 4.736790180206299,\n",
              " 4.769564628601074,\n",
              " 4.825405120849609,\n",
              " 4.59050178527832,\n",
              " 4.828124046325684,\n",
              " 4.7188496589660645,\n",
              " 4.845362186431885,\n",
              " 4.966150283813477,\n",
              " 4.8281073570251465,\n",
              " 4.94492769241333,\n",
              " 4.870201110839844,\n",
              " 4.897480010986328,\n",
              " 4.879966735839844,\n",
              " 5.110798358917236,\n",
              " 4.91709566116333,\n",
              " 4.792389392852783,\n",
              " 4.8979668617248535,\n",
              " 4.664278507232666,\n",
              " 4.756310939788818,\n",
              " 5.030206203460693,\n",
              " 4.814627170562744,\n",
              " 4.729696750640869,\n",
              " 4.844398021697998,\n",
              " 4.926308631896973,\n",
              " 4.893431663513184,\n",
              " 4.823946952819824,\n",
              " 4.681583404541016,\n",
              " 4.755470275878906,\n",
              " 4.902920246124268,\n",
              " 4.799929618835449,\n",
              " 4.657711029052734,\n",
              " 4.631339073181152,\n",
              " 4.715474605560303,\n",
              " 4.765192985534668,\n",
              " 4.692166328430176,\n",
              " 4.750749111175537,\n",
              " 4.777577877044678,\n",
              " 4.719107151031494,\n",
              " 4.8132524490356445,\n",
              " 4.779430866241455,\n",
              " 4.77308464050293,\n",
              " 4.672762393951416,\n",
              " 4.779952526092529,\n",
              " 4.527629375457764,\n",
              " 4.714172840118408,\n",
              " 4.774085998535156,\n",
              " 4.807185173034668,\n",
              " 4.695521831512451,\n",
              " 4.871186256408691,\n",
              " 4.839855670928955,\n",
              " 4.769415378570557,\n",
              " 4.817084789276123,\n",
              " 4.681963920593262,\n",
              " 4.849969863891602,\n",
              " 4.8289947509765625,\n",
              " 4.773712158203125,\n",
              " 4.981935977935791,\n",
              " 4.800278663635254,\n",
              " 4.5785369873046875,\n",
              " 4.853236198425293,\n",
              " 4.634827136993408,\n",
              " 4.880577564239502,\n",
              " 4.666952133178711,\n",
              " 4.761312007904053,\n",
              " 4.80966854095459,\n",
              " 4.721330165863037,\n",
              " 4.84272575378418,\n",
              " 4.836002349853516,\n",
              " 4.853025436401367,\n",
              " 4.717990398406982,\n",
              " 4.886887550354004,\n",
              " 4.855964183807373,\n",
              " 4.439193248748779,\n",
              " 4.725586414337158,\n",
              " 4.762832164764404,\n",
              " 4.66771936416626,\n",
              " 4.752119064331055,\n",
              " 5.082184791564941,\n",
              " 4.743105411529541,\n",
              " 4.817101955413818,\n",
              " 4.691629409790039,\n",
              " 4.689204692840576,\n",
              " 4.866340160369873,\n",
              " 4.749302864074707,\n",
              " 4.937966823577881,\n",
              " 4.865044593811035,\n",
              " 4.938514709472656,\n",
              " 4.689287185668945,\n",
              " 4.4415435791015625,\n",
              " 4.7229905128479,\n",
              " 4.703662395477295,\n",
              " 4.628511428833008,\n",
              " 4.78675651550293,\n",
              " 4.874144077301025,\n",
              " 4.668558597564697,\n",
              " 4.6310625076293945,\n",
              " 4.76366662979126,\n",
              " 4.6430888175964355,\n",
              " 4.810112476348877,\n",
              " 4.764969348907471,\n",
              " 4.548291206359863,\n",
              " 4.801954746246338,\n",
              " 4.725543975830078,\n",
              " 4.6848602294921875,\n",
              " 4.754766464233398,\n",
              " 4.7501397132873535,\n",
              " 4.685946941375732,\n",
              " 4.805276393890381,\n",
              " 4.648880958557129,\n",
              " 4.677395343780518,\n",
              " 4.79697847366333,\n",
              " 4.694664478302002,\n",
              " 4.767865180969238,\n",
              " 4.789278030395508,\n",
              " 4.613653182983398,\n",
              " 4.670209884643555,\n",
              " 4.779669761657715,\n",
              " 4.517066955566406,\n",
              " 4.851047992706299,\n",
              " 4.6037139892578125,\n",
              " 4.503747463226318,\n",
              " 4.6134352684021,\n",
              " 4.635275363922119,\n",
              " 4.575018882751465,\n",
              " 4.635033130645752,\n",
              " 4.6075029373168945,\n",
              " 4.707780838012695,\n",
              " 4.5312581062316895,\n",
              " 4.629576206207275,\n",
              " 4.736871719360352,\n",
              " 4.74697208404541,\n",
              " 4.570944309234619,\n",
              " 4.784364223480225,\n",
              " 4.6041741371154785,\n",
              " 4.65827751159668,\n",
              " 4.702732086181641,\n",
              " 4.592142581939697,\n",
              " 4.728782653808594,\n",
              " 4.61890172958374,\n",
              " 4.5758562088012695,\n",
              " 4.616505146026611,\n",
              " 4.5982818603515625,\n",
              " 4.591688632965088,\n",
              " 4.562251567840576,\n",
              " 4.596687316894531,\n",
              " 4.529321193695068,\n",
              " 4.809486389160156,\n",
              " 4.434240818023682,\n",
              " 4.531529903411865,\n",
              " 4.694479942321777,\n",
              " 4.596287727355957,\n",
              " 4.469913005828857,\n",
              " 4.600057601928711,\n",
              " 4.636658191680908,\n",
              " 4.479065895080566,\n",
              " 4.760406970977783,\n",
              " 4.783306121826172,\n",
              " 4.436918258666992,\n",
              " 4.164793014526367,\n",
              " 4.239692211151123,\n",
              " 4.180005073547363,\n",
              " 4.3038225173950195,\n",
              " 4.369925022125244,\n",
              " 4.339209079742432,\n",
              " 4.226649761199951,\n",
              " 4.297455310821533,\n",
              " 4.533931255340576,\n",
              " 4.2948784828186035,\n",
              " 4.346188545227051,\n",
              " 4.241281032562256,\n",
              " 4.285000801086426,\n",
              " 4.338632583618164,\n",
              " 4.429650783538818,\n",
              " 4.363260269165039,\n",
              " 4.223465442657471,\n",
              " 4.288891315460205,\n",
              " 4.355082988739014,\n",
              " 4.233212947845459,\n",
              " 4.321284294128418,\n",
              " 4.384042263031006,\n",
              " 4.328126907348633,\n",
              " 4.365306377410889,\n",
              " 4.256823539733887,\n",
              " 4.264164447784424,\n",
              " 4.45703649520874,\n",
              " 4.413494110107422,\n",
              " 4.508289337158203,\n",
              " 4.2458176612854,\n",
              " 4.327207088470459,\n",
              " 4.2348480224609375,\n",
              " 4.392882347106934,\n",
              " 4.148815155029297,\n",
              " 4.284735202789307,\n",
              " 4.297855854034424,\n",
              " 4.373261451721191,\n",
              " 4.284181118011475,\n",
              " 4.368540287017822,\n",
              " 4.181684494018555,\n",
              " 4.321086883544922,\n",
              " 4.310389041900635,\n",
              " 4.539785385131836,\n",
              " 7.929343223571777,\n",
              " 7.11417293548584,\n",
              " 7.525794982910156,\n",
              " 6.967960834503174,\n",
              " 6.658116817474365,\n",
              " 6.531797885894775,\n",
              " 6.603251934051514,\n",
              " 6.473311424255371,\n",
              " 6.326383113861084,\n",
              " 6.180809497833252,\n",
              " 6.14900541305542,\n",
              " 6.18317174911499,\n",
              " 5.956568717956543,\n",
              " 5.965774059295654,\n",
              " 5.85227632522583,\n",
              " 5.656564712524414,\n",
              " 5.610547065734863,\n",
              " 5.560910224914551,\n",
              " 5.615642547607422,\n",
              " 5.686614036560059,\n",
              " 5.490045070648193,\n",
              " 5.374955654144287,\n",
              " 5.131239414215088,\n",
              " 5.213225364685059,\n",
              " 5.109185218811035,\n",
              " 5.101322650909424,\n",
              " 5.784477233886719,\n",
              " 5.358803749084473,\n",
              " 5.322862148284912,\n",
              " 5.158855438232422,\n",
              " 5.194469451904297,\n",
              " 5.117292881011963,\n",
              " 5.185855865478516,\n",
              " 5.194934844970703,\n",
              " 5.348013401031494,\n",
              " 5.174983024597168,\n",
              " 5.025963306427002,\n",
              " 5.003929615020752,\n",
              " 4.862316608428955,\n",
              " 4.861353874206543,\n",
              " 4.811427593231201,\n",
              " 5.061183452606201,\n",
              " 4.982069492340088,\n",
              " 4.644442081451416,\n",
              " 4.668644905090332,\n",
              " 4.769647121429443,\n",
              " 4.889886856079102,\n",
              " 4.618900775909424,\n",
              " 4.7413201332092285,\n",
              " 4.696949005126953,\n",
              " 4.880838871002197,\n",
              " 4.7686638832092285,\n",
              " 4.51162052154541,\n",
              " 4.5739827156066895,\n",
              " 4.639252662658691,\n",
              " 4.614650726318359,\n",
              " 4.722235679626465,\n",
              " 4.659233570098877,\n",
              " 4.765742301940918,\n",
              " 4.632287502288818,\n",
              " 4.6356201171875,\n",
              " 4.608168125152588,\n",
              " 4.606723308563232,\n",
              " 4.6896491050720215,\n",
              " 4.572126865386963,\n",
              " 4.499557018280029,\n",
              " 4.6344828605651855,\n",
              " 4.715538024902344,\n",
              " 4.605706214904785,\n",
              " 4.499979019165039,\n",
              " 4.694654941558838,\n",
              " 4.6354546546936035,\n",
              " 4.661655426025391,\n",
              " 4.672643661499023,\n",
              " 4.460395336151123,\n",
              " 4.4327778816223145,\n",
              " 4.685116291046143,\n",
              " 4.3478569984436035,\n",
              " 4.552463054656982,\n",
              " 4.522620677947998,\n",
              " 4.487464904785156,\n",
              " 4.626119136810303,\n",
              " 4.598982810974121,\n",
              " 4.368551731109619,\n",
              " 4.460188388824463,\n",
              " 4.336297512054443,\n",
              " 4.643879413604736,\n",
              " 4.326909065246582,\n",
              " 4.551682472229004,\n",
              " 4.456770896911621,\n",
              " 4.736327171325684,\n",
              " 4.507608890533447,\n",
              " 4.438401699066162,\n",
              " 4.445658206939697,\n",
              " 4.566839218139648,\n",
              " 4.564089775085449,\n",
              " 4.555027008056641,\n",
              " 4.4969282150268555,\n",
              " 4.49517297744751,\n",
              " 4.45708703994751,\n",
              " 4.409843921661377,\n",
              " 4.433958053588867,\n",
              " 4.290760517120361,\n",
              " 4.137899398803711,\n",
              " 4.379554271697998,\n",
              " 4.529349327087402,\n",
              " 4.336843490600586,\n",
              " 4.483201503753662,\n",
              " 4.27669095993042,\n",
              " 4.3870344161987305,\n",
              " 4.552204132080078,\n",
              " 4.329972267150879,\n",
              " 4.143665790557861,\n",
              " 4.393503665924072,\n",
              " 4.426976680755615,\n",
              " 4.684071063995361,\n",
              " 4.373870372772217,\n",
              " 4.465812683105469,\n",
              " 4.538937091827393,\n",
              " 4.405076026916504,\n",
              " 4.457108020782471,\n",
              " 4.322803020477295,\n",
              " 4.47481632232666,\n",
              " 4.428492546081543,\n",
              " 4.513956069946289,\n",
              " 4.363977909088135,\n",
              " 4.414628982543945,\n",
              " 4.277072429656982,\n",
              " 4.341039657592773,\n",
              " 4.429026126861572,\n",
              " 4.307276725769043,\n",
              " 4.546823024749756,\n",
              " 4.303606033325195,\n",
              " 4.2798357009887695,\n",
              " 4.325442790985107,\n",
              " 4.426307201385498,\n",
              " 4.3719258308410645,\n",
              " 4.326498031616211,\n",
              " 4.383155345916748,\n",
              " 4.246007919311523,\n",
              " 4.522204399108887,\n",
              " 4.44961404800415,\n",
              " 4.455763816833496,\n",
              " 4.230395317077637,\n",
              " 4.425951957702637,\n",
              " 4.428458213806152,\n",
              " 4.372005939483643,\n",
              " 4.40349006652832,\n",
              " 4.326452732086182,\n",
              " 4.549617767333984,\n",
              " 4.3015899658203125,\n",
              " 4.4907426834106445,\n",
              " 4.210162162780762,\n",
              " 4.4058003425598145,\n",
              " 4.626839637756348,\n",
              " 4.325680255889893,\n",
              " 4.506330966949463,\n",
              " 4.28335428237915,\n",
              " 4.255435943603516,\n",
              " 4.427369117736816,\n",
              " 4.30029296875,\n",
              " 4.319247722625732,\n",
              " 4.1961259841918945,\n",
              " 4.297891139984131,\n",
              " 4.334483623504639,\n",
              " 4.376502990722656,\n",
              " 4.361396312713623,\n",
              " 4.224817752838135,\n",
              " 4.558322906494141,\n",
              " 4.366756916046143,\n",
              " 4.322332859039307,\n",
              " 4.372410774230957,\n",
              " 4.447919845581055,\n",
              " 4.548676490783691,\n",
              " 4.0576605796813965,\n",
              " 4.325677871704102,\n",
              " 4.183352947235107,\n",
              " 4.222837448120117,\n",
              " 4.369958400726318,\n",
              " 4.405409812927246,\n",
              " 4.355319023132324,\n",
              " 4.217906475067139,\n",
              " 4.389333724975586,\n",
              " 4.434141635894775,\n",
              " 4.385875701904297,\n",
              " 4.285180568695068,\n",
              " 4.5089335441589355,\n",
              " 4.269960880279541,\n",
              " 4.267569065093994,\n",
              " 4.256717681884766,\n",
              " 4.43324613571167,\n",
              " 4.043197154998779,\n",
              " 4.064350128173828,\n",
              " 4.277392387390137,\n",
              " 3.956239938735962,\n",
              " 3.9470040798187256,\n",
              " 4.01477575302124,\n",
              " 4.117012977600098,\n",
              " 4.062994956970215,\n",
              " 3.8903841972351074,\n",
              " 3.906601905822754,\n",
              " 3.862795352935791,\n",
              " 4.0542683601379395,\n",
              " 4.038985729217529,\n",
              " 3.9386954307556152,\n",
              " 3.902754068374634,\n",
              " 3.9063777923583984,\n",
              " 3.9842026233673096,\n",
              " 3.945133924484253,\n",
              " 3.9608099460601807,\n",
              " 4.111269950866699,\n",
              " 4.013160705566406,\n",
              " 4.100157260894775,\n",
              " 3.9416136741638184,\n",
              " 3.8526337146759033,\n",
              " 4.046508312225342,\n",
              " 4.03831672668457,\n",
              " 4.097367286682129,\n",
              " 4.300063133239746,\n",
              " 3.859531879425049,\n",
              " 4.133726596832275,\n",
              " 4.100710391998291,\n",
              " 4.087307929992676,\n",
              " 4.052087306976318,\n",
              " 4.298734664916992,\n",
              " 4.037248134613037,\n",
              " 4.057779788970947,\n",
              " 4.091989994049072,\n",
              " 4.160399913787842,\n",
              " 3.961750030517578,\n",
              " 4.22227668762207,\n",
              " 3.9625349044799805,\n",
              " 3.9580986499786377,\n",
              " 4.054538726806641,\n",
              " 3.928351640701294,\n",
              " 3.7958357334136963,\n",
              " 4.042677879333496,\n",
              " 4.021303653717041,\n",
              " 4.06661319732666,\n",
              " 3.9440600872039795,\n",
              " 4.151754856109619,\n",
              " 3.8960466384887695,\n",
              " 3.833005905151367,\n",
              " 3.8235998153686523,\n",
              " 4.233870029449463,\n",
              " 4.039258003234863,\n",
              " 4.046886920928955,\n",
              " 3.9707181453704834,\n",
              " 4.093647003173828,\n",
              " 3.9509212970733643,\n",
              " 3.979067325592041,\n",
              " 4.018352031707764,\n",
              " 4.057913780212402,\n",
              " 4.121599197387695,\n",
              " 4.093376159667969,\n",
              " 4.077646732330322,\n",
              " 4.012598514556885,\n",
              " 4.168541431427002,\n",
              " 4.154764652252197,\n",
              " 4.063233375549316,\n",
              " 4.048849582672119,\n",
              " 4.095681190490723,\n",
              " 4.171769618988037,\n",
              " 3.9492523670196533,\n",
              " 4.015483856201172,\n",
              " 3.9989328384399414,\n",
              " 3.943046808242798,\n",
              " 3.9348695278167725,\n",
              " 4.042994499206543,\n",
              " 4.1459221839904785,\n",
              " 4.196506023406982,\n",
              " 3.8834152221679688,\n",
              " 3.9818544387817383,\n",
              " 3.9653384685516357,\n",
              " 3.9785869121551514,\n",
              " 4.033017635345459,\n",
              " 4.124377250671387,\n",
              " 3.9025449752807617,\n",
              " 4.189993858337402,\n",
              " 4.0366010665893555,\n",
              " 3.8868002891540527,\n",
              " 4.043895721435547,\n",
              " 4.171955585479736,\n",
              " 4.01624059677124,\n",
              " 3.8873157501220703,\n",
              " 4.120367050170898,\n",
              " 3.810744524002075,\n",
              " 4.204457759857178,\n",
              " 4.034328937530518,\n",
              " 4.156100749969482,\n",
              " 4.034897327423096,\n",
              " 4.100462913513184,\n",
              " 4.01320743560791,\n",
              " 3.8419339656829834,\n",
              " 3.9512546062469482,\n",
              " 4.010549068450928,\n",
              " 4.124758720397949,\n",
              " 3.9192965030670166,\n",
              " 4.0153632164001465,\n",
              " 4.017368316650391,\n",
              " 4.02842378616333,\n",
              " 4.016358375549316,\n",
              " 3.9459950923919678,\n",
              " 3.919050931930542,\n",
              " 3.9686026573181152,\n",
              " 3.9230592250823975,\n",
              " 4.084104061126709,\n",
              " 4.147134780883789,\n",
              " 3.979200839996338,\n",
              " 3.9883456230163574,\n",
              " 4.169946670532227,\n",
              " 4.0417561531066895,\n",
              " 3.926159620285034,\n",
              " 4.219914436340332,\n",
              " 4.102541446685791,\n",
              " 3.934852361679077,\n",
              " 3.971184492111206,\n",
              " 4.036078929901123,\n",
              " 3.8401150703430176,\n",
              " 3.9945573806762695,\n",
              " 3.868542194366455,\n",
              " 3.9544131755828857,\n",
              " 4.166674613952637,\n",
              " 3.9787299633026123,\n",
              " 4.25101900100708,\n",
              " 3.9270131587982178,\n",
              " 3.953784465789795,\n",
              " 4.123805046081543,\n",
              " 4.0441389083862305,\n",
              " 3.8372304439544678,\n",
              " 4.064822673797607,\n",
              " 3.902874708175659,\n",
              " 4.036861419677734,\n",
              " 4.074725151062012,\n",
              " 3.9970874786376953,\n",
              " 4.0451836585998535,\n",
              " 4.158498287200928,\n",
              " 4.052391529083252,\n",
              " 3.939403772354126,\n",
              " 4.031079292297363,\n",
              " 3.939265012741089,\n",
              " 3.967456102371216,\n",
              " 3.9763219356536865,\n",
              " 3.9160561561584473,\n",
              " 3.864605188369751,\n",
              " 4.139704704284668,\n",
              " 3.971648931503296,\n",
              " 4.118505954742432,\n",
              " 4.241827964782715,\n",
              " 3.853015184402466,\n",
              " 4.1036787033081055,\n",
              " 4.060493469238281,\n",
              " 4.269570350646973,\n",
              " 3.920872211456299,\n",
              " 3.9090933799743652,\n",
              " 3.9431703090667725,\n",
              " 3.8896875381469727,\n",
              " 3.9804396629333496,\n",
              " 4.073767185211182,\n",
              " 4.093274116516113,\n",
              " 4.10211706161499,\n",
              " 4.059401035308838,\n",
              " 4.061190605163574,\n",
              " 4.12757682800293,\n",
              " 3.8959202766418457,\n",
              " 3.9031002521514893,\n",
              " 4.06717586517334,\n",
              " 4.062185764312744,\n",
              " 4.006992340087891,\n",
              " 3.9795830249786377,\n",
              " 3.9653077125549316,\n",
              " 3.8801157474517822,\n",
              " 3.979997158050537,\n",
              " 4.298158168792725,\n",
              " 3.899266481399536,\n",
              " 3.9054689407348633,\n",
              " 4.039971828460693,\n",
              " 4.102459907531738,\n",
              " 3.934556484222412,\n",
              " 3.759686231613159,\n",
              " 4.041621685028076,\n",
              " 4.209392547607422,\n",
              " 3.90440034866333,\n",
              " 4.0645647048950195,\n",
              " 4.171071529388428,\n",
              " 3.8537168502807617,\n",
              " 4.345582008361816,\n",
              " 3.7523348331451416,\n",
              " 4.044426918029785,\n",
              " 4.095389366149902,\n",
              " 3.8806519508361816,\n",
              " 4.0488386154174805,\n",
              " 4.0759429931640625,\n",
              " 3.9316184520721436,\n",
              " 3.8683133125305176,\n",
              " 3.9399547576904297,\n",
              " 4.106410980224609,\n",
              " 4.004217624664307,\n",
              " 4.080905914306641,\n",
              " 4.049257278442383,\n",
              " 4.027949333190918,\n",
              " 4.1306891441345215,\n",
              " 3.8008346557617188,\n",
              " 3.9253900051116943,\n",
              " 3.9145593643188477,\n",
              " 3.806943416595459,\n",
              " 3.9182307720184326,\n",
              " 3.9620683193206787,\n",
              " 4.104496479034424,\n",
              " 3.684757709503174,\n",
              " 3.9635205268859863,\n",
              " 3.830951452255249,\n",
              " 4.067939281463623,\n",
              " 4.102845191955566,\n",
              " 4.058732509613037,\n",
              " 3.804424524307251,\n",
              " 3.833035469055176,\n",
              " 3.901304006576538,\n",
              " 3.848745346069336,\n",
              " 4.028607368469238,\n",
              " 3.946455717086792,\n",
              " 4.170948028564453,\n",
              " 4.097004413604736,\n",
              " 4.010446548461914,\n",
              " 3.82053542137146,\n",
              " 3.715768337249756,\n",
              " 3.6357953548431396,\n",
              " 3.4810993671417236,\n",
              " 3.53296160697937,\n",
              " 3.439241886138916,\n",
              " 3.6291773319244385,\n",
              " 3.5680325031280518,\n",
              " 3.438983678817749,\n",
              " 3.5359482765197754,\n",
              " 3.499340295791626,\n",
              " 3.485177516937256,\n",
              " 3.4568192958831787,\n",
              " 3.2813053131103516,\n",
              " 3.42869234085083,\n",
              " 3.3365261554718018,\n",
              " 3.5119168758392334,\n",
              " 3.5478854179382324,\n",
              " 3.3832788467407227,\n",
              " 3.6310434341430664,\n",
              " 3.425711154937744,\n",
              " 3.4613125324249268,\n",
              " 3.591961145401001,\n",
              " 3.6260650157928467,\n",
              " 3.5816261768341064,\n",
              " 3.6348533630371094,\n",
              " 3.5499725341796875,\n",
              " 3.4914112091064453,\n",
              " 3.5227572917938232,\n",
              " 3.462614059448242,\n",
              " 3.4898345470428467,\n",
              " 3.5049662590026855,\n",
              " 3.5485570430755615,\n",
              " 3.759110927581787,\n",
              " 3.575657844543457,\n",
              " 3.7058498859405518,\n",
              " 3.856443166732788,\n",
              " 3.6245744228363037,\n",
              " 3.7421743869781494,\n",
              " 3.6715903282165527,\n",
              " 3.544039249420166,\n",
              " 3.3299663066864014,\n",
              " 3.514707565307617,\n",
              " 3.677274703979492,\n",
              " 3.572303056716919,\n",
              " 3.5148820877075195,\n",
              " 3.4403889179229736,\n",
              " 3.4643099308013916,\n",
              " 3.492245674133301,\n",
              " 3.571436643600464,\n",
              " 3.3850855827331543,\n",
              " 3.5266172885894775,\n",
              " 3.4938647747039795,\n",
              " 3.5181567668914795,\n",
              " 3.4685957431793213,\n",
              " 3.80672550201416,\n",
              " 3.617278575897217,\n",
              " 3.4231326580047607,\n",
              " 3.571798801422119,\n",
              " 3.449436902999878,\n",
              " 3.556368350982666,\n",
              " 3.512620687484741,\n",
              " 3.7055602073669434,\n",
              " 3.75543475151062,\n",
              " 3.53336238861084,\n",
              " ...]"
            ]
          },
          "metadata": {},
          "execution_count": 72
        }
      ]
    },
    {
      "cell_type": "code",
      "source": [
        "plt.plot(batch_loss.logs)"
      ],
      "metadata": {
        "colab": {
          "base_uri": "https://localhost:8080/",
          "height": 282
        },
        "id": "k1xv1g-q1IAB",
        "outputId": "a77e203c-477f-41ec-e3d4-f290a85f0a26"
      },
      "execution_count": null,
      "outputs": [
        {
          "output_type": "execute_result",
          "data": {
            "text/plain": [
              "[<matplotlib.lines.Line2D at 0x7f278c6d5390>]"
            ]
          },
          "metadata": {},
          "execution_count": 73
        },
        {
          "output_type": "display_data",
          "data": {
            "text/plain": [
              "<Figure size 432x288 with 1 Axes>"
            ],
            "image/png": "[encoded data removed]"
          },
          "metadata": {
            "needs_background": "light"
          }
        }
      ]
    },
    {
      "cell_type": "code",
      "source": [
        "plt.plot(batch_loss.logs)\n",
        "plt.ylim([0, 8])\n",
        "plt.xlabel('Batch #')\n",
        "plt.ylabel('CE/token')"
      ],
      "metadata": {
        "colab": {
          "base_uri": "https://localhost:8080/",
          "height": 300
        },
        "id": "BRS2fFCxoTLm",
        "outputId": "a60d2e5f-f9c1-49be-d3f3-7cc8092be51e"
      },
      "execution_count": null,
      "outputs": [
        {
          "output_type": "execute_result",
          "data": {
            "text/plain": [
              "Text(0, 0.5, 'CE/token')"
            ]
          },
          "metadata": {},
          "execution_count": 74
        },
        {
          "output_type": "display_data",
          "data": {
            "text/plain": [
              "<Figure size 432x288 with 1 Axes>"
            ],
            "image/png": "[encoded data removed]"
          },
          "metadata": {
            "needs_background": "light"
          }
        }
      ]
    },
    {
      "cell_type": "code",
      "source": [
        "tf.constant('[START]').numpy()"
      ],
      "metadata": {
        "colab": {
          "base_uri": "https://localhost:8080/"
        },
        "id": "nQtWNRofeFyv",
        "outputId": "c36d40b2-fd96-42bb-ff61-8ab057970d64"
      },
      "execution_count": null,
      "outputs": [
        {
          "output_type": "execute_result",
          "data": {
            "text/plain": [
              "b'[START]'"
            ]
          },
          "metadata": {},
          "execution_count": 73
        }
      ]
    },
    {
      "cell_type": "code",
      "source": [
        "loog = tf.squeeze(dec_result.logits, axis=1)\n",
        "new_t = tf.random.categorical(loog/1.0,num_samples=1)"
      ],
      "metadata": {
        "id": "tJLD2yTdtG1v"
      },
      "execution_count": null,
      "outputs": []
    },
    {
      "cell_type": "code",
      "source": [
        "class Translator(tf.Module):\n",
        "  def __init__(self,encoder,decoder,input_text_processor,output_text_processor):\n",
        "    self.encoder = encoder\n",
        "    self.decoder = decoder\n",
        "    self.input_text_processor = input_text_processor\n",
        "    self.output_text_processor = output_text_processor\n",
        "\n",
        "    self.output_token_string_fromidx = (tf.keras.layers.StringLookup(vocabulary = output_text_processor.get_vocabulary(),mask_token = '',invert = True ))\n",
        "\n",
        "    idx_from_string = tf.keras.layers.StringLookup(vocabulary = output_text_processor.get_vocabulary(), mask_token = '')\n",
        "    token_mask_ids = idx_from_string(['','[UNK]','[START]']).numpy()\n",
        "\n",
        "    token_mask = np.zeros([idx_from_string.vocabulary_size()],dtype=np.bool)\n",
        "    token_mask[np.array(token_mask_ids)] = True\n",
        "\n",
        "    self.token_mask= token_mask\n",
        "    self.start_token = idx_from_string(tf.constant('[START]'))\n",
        "    self.end_token = idx_from_string(tf.constant('[ENDS]'))\n",
        "\n",
        "  def tokens_to_text(self,result_tokens):\n",
        "    result_text_tokens = self.output_token_string_fromidx(result_tokens)\n",
        "    result_text = tf.strings.reduce_join(result_text_tokens,axis=1,separator=' ')\n",
        "    result_text = tf.strings.strip(result_text)\n",
        "    return result_text\n",
        "\n",
        "  def sample(self,logits,temperature):\n",
        "    token_mask = self.token_mask[tf.newaxis,tf.newaxis,:]\n",
        "\n",
        "    logits = tf.where(token_mask, -np.inf, logits)\n",
        "\n",
        "    if (temperature == 0.0):\n",
        "      new_tokens = tf.argmax(logits, axis=-1)\n",
        "    else:\n",
        "      logits = tf.squeeze(logits, axis=1)\n",
        "      new_tokens = tf.random.categorical(logits/temperature,num_samples=1)\n",
        "\n",
        "    return new_tokens\n",
        "\n",
        "  def translate(self, input_text, *, max_length=50,return_attention = True,temperature =1.0):\n",
        "    batch_size = tf.shape(input_text)[0]\n",
        "    input_tokens = self.input_text_processor(input_text)\n",
        "    enc_output, enc_state = self.encoder(input_tokens)\n",
        "\n",
        "    dec_state = enc_state\n",
        "    new_tokens = tf.fill([batch_size,1], self.start_token)\n",
        "\n",
        "    result_tokens = []\n",
        "    attention = []\n",
        "    done = tf.zeros([batch_size,1], dtype = tf.bool)\n",
        "\n",
        "    for _ in tf.range(max_length):\n",
        "      dec_input = DecoderInput(new_tokens=new_tokens,enc_output= enc_output,mask = (input_tokens !=0))\n",
        "\n",
        "      dec_result, dec_state = self.decoder(dec_input,dec_state)\n",
        "\n",
        "      attention.append(dec_result.attention_weights)\n",
        "      new_tokens = self.sample(dec_result.logits, temperature)\n",
        "\n",
        "      done  = done | (new_tokens == self.end_token)\n",
        "      new_tokens = tf.where(done, tf.constant(0,dtype=tf.int64), new_tokens)\n",
        "\n",
        "      result_tokens.append(new_tokens)\n",
        "\n",
        "      if tf.executing_eagerly() and tf.reduce_all(done):\n",
        "        break\n",
        "\n",
        "    result_tokens = tf.concat(result_tokens,axis=-1)\n",
        "    result_text = self.tokens_to_text(result_tokens)\n",
        "\n",
        "    if return_attention:\n",
        "      attention_stack = tf.concat(attention, axis=1)\n",
        "      return {'text': result_text, 'attention': attention_stack}\n",
        "    else:\n",
        "      return {'text': result_text}\n",
        "\n",
        "\n",
        "\n",
        "\n",
        "\n",
        "\n"
      ],
      "metadata": {
        "id": "MwLOVDnE0zWn"
      },
      "execution_count": null,
      "outputs": []
    },
    {
      "cell_type": "code",
      "source": [],
      "metadata": {
        "id": "yajFR9I5gb0e"
      },
      "execution_count": null,
      "outputs": []
    },
    {
      "cell_type": "code",
      "source": [
        "translator = Translator(train_translator.encoder,train_translator.decoder,input_text_processor,output_text_processor)"
      ],
      "metadata": {
        "id": "1imwUgfBanr1",
        "colab": {
          "base_uri": "https://localhost:8080/"
        },
        "outputId": "d714cf8b-c913-49e7-afc9-66716e0c7ace"
      },
      "execution_count": null,
      "outputs": [
        {
          "output_type": "stream",
          "name": "stderr",
          "text": [
            "/usr/local/lib/python3.7/dist-packages/ipykernel_launcher.py:13: DeprecationWarning: `np.bool` is a deprecated alias for the builtin `bool`. To silence this warning, use `bool` by itself. Doing this will not modify any behavior and is safe. If you specifically wanted the numpy scalar type, use `np.bool_` here.\n",
            "Deprecated in NumPy 1.20; for more details and guidance: https://numpy.org/devdocs/release/1.20.0-notes.html#deprecations\n",
            "  del sys.path[0]\n"
          ]
        }
      ]
    },
    {
      "cell_type": "code",
      "source": [
        "for i,v in test_ds.take(1):\n",
        "  input_text = i\n",
        "  output_text = v[:5]"
      ],
      "metadata": {
        "id": "_m7ykXY2QVBC"
      },
      "execution_count": null,
      "outputs": []
    },
    {
      "cell_type": "code",
      "source": [
        "len(input_text)"
      ],
      "metadata": {
        "colab": {
          "base_uri": "https://localhost:8080/"
        },
        "id": "FRstYIxhin8K",
        "outputId": "fc8c62b7-3cba-4b00-bf61-23a319388551"
      },
      "execution_count": null,
      "outputs": [
        {
          "output_type": "execute_result",
          "data": {
            "text/plain": [
              "64"
            ]
          },
          "metadata": {},
          "execution_count": 78
        }
      ]
    },
    {
      "cell_type": "code",
      "source": [
        "input_text"
      ],
      "metadata": {
        "colab": {
          "base_uri": "https://localhost:8080/"
        },
        "id": "gSYwZEYCi1Fl",
        "outputId": "2305cada-fd94-4aeb-f0b2-79e9b44d0474"
      },
      "execution_count": null,
      "outputs": [
        {
          "output_type": "execute_result",
          "data": {
            "text/plain": [
              "<tf.Tensor: shape=(64,), dtype=string, numpy=\n",
              "array([b'He is a cattle keeper.',\n",
              "       b'The opposition party leader was also arrested.',\n",
              "       b'People are advised to engage in development     al activities.',\n",
              "       b'The police need information from bus managers to arrest the thieves.',\n",
              "       b'Universities offer a variety of courses for students.',\n",
              "       b'In order to follow the curriculum principal individual-study material for learners have been synchronized.',\n",
              "       b'Why should commemoration activities be done?',\n",
              "       b'We have a three days conference about leadership.',\n",
              "       b'The Government of Uganda and the Ministry of Education and Sports are fighting so hard to improve the Education provided to Ugandans by conducting reviews on the activities in Education and Sports sector.',\n",
              "       b'The chairman advised us to read newspapers.',\n",
              "       b'He was involved in an accident.',\n",
              "       b'The district has sensitized people to create food reserves in their homes.',\n",
              "       b'Male partners can attend antenatal care as a way to support pregnant mothers.',\n",
              "       b'Which district of Uganda do you come from?',\n",
              "       b'He is the outgoing chairman.',\n",
              "       b'Animal traction is mainly used in Northern Uganda.',\n",
              "       b'The organization promised to get for them a trusted driver.',\n",
              "       b'Steps are being taken to improve sanitation.',\n",
              "       b'Local government leaders prefer natural birth control methods to scientific ones.',\n",
              "       b'We are experiencing a nationwide blackout.',\n",
              "       b'There are proper guiderines to follow to prevent the spread of the coronavirus  .',\n",
              "       b'Fruits are very good for our health.',\n",
              "       b'People need to be informed of the different types of taxes.',\n",
              "       b'When should mothers start vaccinating their children?',\n",
              "       b'The government distributed tarpaulin to the people to take sherter.',\n",
              "       b'This is a very small town.',\n",
              "       b'Hospitable communities usually promote unity.',\n",
              "       b'The government supports farmers with quality crop seeds to increase output.',\n",
              "       b'The meeting was held at Hilltop hoter in Northern Uganda.',\n",
              "       b'Private schools give quality education but they are very expensive.',\n",
              "       b'What could be some of the clearance documents?',\n",
              "       b'Some refugees cannot attend the workshop.',\n",
              "       b'How can development     be enhanced?',\n",
              "       b\"How do you assess a student's performance?\",\n",
              "       b'The church will support existing departments.',\n",
              "       b'Landing sites are common near lakes',\n",
              "       b'The pubic protests are usually interrupted by police.',\n",
              "       b'The officer died because of a mistake during deployment.',\n",
              "       b'Government has increased salary for science teachers',\n",
              "       b'Why is self-confidence important in leadership?',\n",
              "       b'Most people purchase drugs from the pharmacy.',\n",
              "       b'How should a school be operated?',\n",
              "       b'The guards stopped further spread of fire apart from the doors that got burnt .',\n",
              "       b'The market for food items is readily available.',\n",
              "       b'The police will carry out its investigations.',\n",
              "       b'We are witnessing new cases of the infection.',\n",
              "       b'The political rally was very disorganized.',\n",
              "       b'The catholic faith builds its churches on hills.',\n",
              "       b'It is not good to bath from water sources.',\n",
              "       b'The closure of schools and health centres leaves girls increasingly vulnerable.',\n",
              "       b'People have found alternative medicines because health centres are expensive.',\n",
              "       b'How does electricity supply influence development     ?',\n",
              "       b'Leaders should empower citizens.',\n",
              "       b'She has always been the top-performing student in that school',\n",
              "       b'Printers have stopped working.',\n",
              "       b'Farming also involves selling of the harvested plants.',\n",
              "       b'She has been studying so hard latery',\n",
              "       b'The exercise ferl victim to thieves and livestock.',\n",
              "       b'The budget reading session was aired on radio.',\n",
              "       b'We have South Sudanese nationals living in Uganda.',\n",
              "       b'All the candidates belonged to a political party.',\n",
              "       b'Market vendors also pay tax.',\n",
              "       b'Uganda coronavirus cases have put the country on tension.',\n",
              "       b'Borrowing funds is acceptable.'], dtype=object)>"
            ]
          },
          "metadata": {},
          "execution_count": 79
        }
      ]
    },
    {
      "cell_type": "code",
      "source": [
        "result = translator.translate(\n",
        "    input_text = input_text)"
      ],
      "metadata": {
        "id": "1SBXojrlQkfs"
      },
      "execution_count": null,
      "outputs": []
    },
    {
      "cell_type": "code",
      "execution_count": null,
      "metadata": {
        "id": "Am6ixTalxc_7"
      },
      "outputs": [],
      "source": [
        "m = 0"
      ]
    },
    {
      "cell_type": "code",
      "execution_count": null,
      "metadata": {
        "colab": {
          "base_uri": "https://localhost:8080/"
        },
        "id": "Vz36Agsew_ku",
        "outputId": "af2fc4ae-b4ad-493b-bf74-a87431622413"
      },
      "outputs": [
        {
          "output_type": "stream",
          "name": "stdout",
          "text": [
            "English: He is a cattle keeper.\n",
            "Predicted: omusajja alina kuwasa ente .\n",
            "Target: Omusajja mulaalo.\n",
            "-------------------------------------\n",
            "English: The opposition party leader was also arrested.\n",
            "Predicted: akulira ekibiina ekivuganya gavumenti naye yakwatiddwa .\n",
            "Target: Akulira ekibiina ekivuganya gavumenti naye yakwatiddwa.\n",
            "-------------------------------------\n",
            "English: People are advised to engage in development     al activities.\n",
            "Predicted: abantu baweebwa amagezi okwetaba mu mirimu gy ' enkulaakulana .\n",
            "Target: Abantu basabiddwa okwenyigira mu mirimu egikulaakulanya.\n",
            "-------------------------------------\n",
            "English: The police need information from bus managers to arrest the thieves.\n",
            "Predicted: poliisi yeetaaga obubaka okuva mu bamaneja ba bbaasi okukwata ababbi .\n",
            "Target: Poliisi yeetaaga obubaka okuva mu bamaneja ba bbaasi okukwata ababbi.\n",
            "-------------------------------------\n",
            "English: Universities offer a variety of courses for students.\n",
            "Predicted: zi ssettendekero kiyamba bammemba amasomo ag ' enjawulo .\n",
            "Target: Zi ssettendekero ziwa abayizi amasomo ag'enjawulo.\n",
            "-------------------------------------\n"
          ]
        }
      ],
      "source": [
        "for tr in result['text']:\n",
        "  tf.print(\"English: \" + input_text[m])\n",
        "  print(\"Predicted: \" + tr.numpy().decode())\n",
        "  tf.print(\"Target: \" + output_text[m])\n",
        "  print(\"-------------------------------------\")\n",
        "  m +=1\n"
      ]
    },
    {
      "cell_type": "code",
      "source": [],
      "metadata": {
        "id": "URi1lIwBQtu4"
      },
      "execution_count": null,
      "outputs": []
    },
    {
      "cell_type": "code",
      "source": [
        "input_text = tf.constant([\n",
        "    'Most of the farmers today use fertilizers to improve on their yields', # \"Obusosoze mu langi bungi nnyo mu nkambi.\"\n",
        "    'Uganda receives enough rainfall annually favorable for farming activities.', # \"Aba south Sudan bangi baddukidde mu Uganda olw'olutalo.\"\"\n",
        "])\n",
        "\n",
        "result = translator.translate(\n",
        "    input_text = input_text)\n",
        "\n",
        "print(result['text'][0].numpy().decode())\n",
        "print(result['text'][1].numpy().decode())\n",
        "print()"
      ],
      "metadata": {
        "colab": {
          "base_uri": "https://localhost:8080/"
        },
        "id": "IPeYOC3KAnGK",
        "outputId": "33d47cd9-3e5e-43f2-92eb-dd3c77183094"
      },
      "execution_count": null,
      "outputs": [
        {
          "output_type": "stream",
          "name": "stdout",
          "text": [
            "abalimi abasinga nnaku zino bakozesa ebigimusa okusobola okwongera ku makungula gaabwe .\n",
            "uganda efuna enkuba emala buli mwaka ennungi eri ebyobulimi .\n",
            "\n"
          ]
        }
      ]
    },
    {
      "cell_type": "code",
      "source": [
        "input_text = tf.constant([\n",
        "    'All refugees were requested to register with the chairman.', # \"Obusosoze mu langi bungi nnyo mu nkambi.\"\n",
        "    'We were urged to welcome refugees into our communities.', # \"Aba south Sudan bangi baddukidde mu Uganda olw'olutalo.\"\"\n",
        "])\n",
        "\n",
        "result = translator.translate(\n",
        "    input_text = input_text)\n",
        "\n",
        "print(result['text'][0].numpy().decode())\n",
        "print(result['text'][1].numpy().decode())\n",
        "print()"
      ],
      "metadata": {
        "colab": {
          "base_uri": "https://localhost:8080/"
        },
        "id": "tCsISr4DgjU2",
        "outputId": "8fa9c486-c775-4cd5-fdd0-a5f1468a543c"
      },
      "execution_count": null,
      "outputs": [
        {
          "output_type": "stream",
          "name": "stdout",
          "text": [
            "abanoonyiboobubudamu bonna baasabiddwa beewandiise ewa ssentebe .\n",
            "twakubirizibwa okwaniriza abanoonyiboobubudamu mu bitundu byaffe .\n",
            "\n"
          ]
        }
      ]
    },
    {
      "cell_type": "code",
      "source": [
        "def plot_attention(attention, sentence, predicted_sentence):\n",
        "  sentence = text_preprocess(sentence).numpy().decode().split()\n",
        "  predicted_sentence = predicted_sentence.numpy().decode().split() + ['[END]']\n",
        "  fig = plt.figure(figsize=(10, 10))\n",
        "  ax = fig.add_subplot(1, 1, 1)\n",
        "\n",
        "  attention = attention[:len(predicted_sentence), :len(sentence)]\n",
        "\n",
        "  ax.matshow(attention, cmap='viridis', vmin=0.0)\n",
        "\n",
        "  fontdict = {'fontsize': 14}\n",
        "\n",
        "  ax.set_xticklabels([''] + sentence, fontdict=fontdict, rotation=90)\n",
        "  ax.set_yticklabels([''] + predicted_sentence, fontdict=fontdict)\n",
        "\n",
        "  ax.xaxis.set_major_locator(matplotlib.ticker.MultipleLocator(1))\n",
        "  ax.yaxis.set_major_locator(matplotlib.ticker.MultipleLocator(1))\n",
        "\n",
        "  ax.set_xlabel('Input text')\n",
        "  ax.set_ylabel('Output text')\n",
        "  plt.suptitle('Attention weights')"
      ],
      "metadata": {
        "id": "wkV1VFFtebIu"
      },
      "execution_count": null,
      "outputs": []
    },
    {
      "cell_type": "code",
      "source": [
        "i=0\n",
        "plot_attention(result['attention'][i], input_text[i], result['text'][i])"
      ],
      "metadata": {
        "colab": {
          "base_uri": "https://localhost:8080/",
          "height": 648
        },
        "id": "mMaD30Pkd2vl",
        "outputId": "b6eec3ae-b47d-4145-9446-779d8602673e"
      },
      "execution_count": null,
      "outputs": [
        {
          "output_type": "display_data",
          "data": {
            "image/png": "[encoded data removed]",
            "text/plain": [
              "<Figure size 720x720 with 1 Axes>"
            ]
          },
          "metadata": {
            "needs_background": "light"
          }
        }
      ]
    },
    {
      "cell_type": "code",
      "source": [
        "@tf.function(input_signature=[tf.TensorSpec(dtype=tf.string, shape=[None])])\n",
        "def tf_translate(self, input_text):\n",
        "  return self.translate(input_text)\n",
        "\n",
        "Translator.tf_translate = tf_translate"
      ],
      "metadata": {
        "id": "NA-q6JW-RUDF"
      },
      "execution_count": null,
      "outputs": []
    },
    {
      "cell_type": "markdown",
      "source": [],
      "metadata": {
        "id": "_x4yYID9B5Kx"
      }
    },
    {
      "cell_type": "code",
      "source": [],
      "metadata": {
        "id": "MoQQ2O-yTRsQ"
      },
      "execution_count": null,
      "outputs": []
    },
    {
      "cell_type": "code",
      "source": [
        "def translate_symbolic(self,\n",
        "                       input_text,\n",
        "                       *,\n",
        "                       max_length=50,\n",
        "                       return_attention=True,\n",
        "                       temperature=1.0):\n",
        "  #shape_checker = ShapeChecker()\n",
        "  #shape_checker(input_text, ('batch',))\n",
        "\n",
        "  batch_size = tf.shape(input_text)[0]\n",
        "\n",
        "  # Encode the input\n",
        "  input_tokens = self.input_text_processor(input_text)\n",
        "  #shape_checker(input_tokens, ('batch', 's'))\n",
        "\n",
        "  enc_output, enc_state = self.encoder(input_tokens)\n",
        "  #shape_checker(enc_output, ('batch', 's', 'enc_units'))\n",
        "  #shape_checker(enc_state, ('batch', 'enc_units'))\n",
        "\n",
        "  # Initialize the decoder\n",
        "  dec_state = enc_state\n",
        "  new_tokens = tf.fill([batch_size, 1], self.start_token)\n",
        "  #shape_checker(new_tokens, ('batch', 't1'))\n",
        "\n",
        "  # Initialize the accumulators\n",
        "  result_tokens = tf.TensorArray(tf.int64, size=1, dynamic_size=True)\n",
        "  attention = tf.TensorArray(tf.float32, size=1, dynamic_size=True)\n",
        "  done = tf.zeros([batch_size, 1], dtype=tf.bool)\n",
        "  #shape_checker(done, ('batch', 't1'))\n",
        "\n",
        "  for t in tf.range(max_length):\n",
        "    dec_input = DecoderInput(\n",
        "        new_tokens=new_tokens, enc_output=enc_output, mask=(input_tokens != 0))\n",
        "\n",
        "    dec_result, dec_state = self.decoder(dec_input, state=dec_state)\n",
        "\n",
        "    #shape_checker(dec_result.attention_weights, ('batch', 't1', 's'))\n",
        "    attention = attention.write(t, dec_result.attention_weights)\n",
        "\n",
        "    new_tokens = self.sample(dec_result.logits, temperature)\n",
        "    #shape_checker(dec_result.logits, ('batch', 't1', 'vocab'))\n",
        "    #shape_checker(new_tokens, ('batch', 't1'))\n",
        "\n",
        "    # If a sequence produces an `end_token`, set it `done`\n",
        "    done = done | (new_tokens == self.end_token)\n",
        "    # Once a sequence is done it only produces 0-padding.\n",
        "    new_tokens = tf.where(done, tf.constant(0, dtype=tf.int64), new_tokens)\n",
        "\n",
        "    # Collect the generated tokens\n",
        "    result_tokens = result_tokens.write(t, new_tokens)\n",
        "\n",
        "    if tf.reduce_all(done):\n",
        "      break\n",
        "\n",
        "  # Convert the list of generated token ids to a list of strings.\n",
        "  result_tokens = result_tokens.stack()\n",
        "\n",
        "  result_tokens = tf.squeeze(result_tokens, -1)\n",
        "  result_tokens = tf.transpose(result_tokens, [1, 0])\n",
        "  #shape_checker(result_tokens, ('batch', 't'))\n",
        "\n",
        "  result_text = self.tokens_to_text(result_tokens)\n",
        "  #shape_checker(result_text, ('batch',))\n",
        "\n",
        "  if return_attention:\n",
        "    attention_stack = attention.stack()\n",
        "    #shape_checker(attention_stack, ('t', 'batch', 't1', 's'))\n",
        "\n",
        "    attention_stack = tf.squeeze(attention_stack, 2)\n",
        "    #shape_checker(attention_stack, ('t', 'batch', 's'))\n",
        "\n",
        "    attention_stack = tf.transpose(attention_stack, [1, 0, 2])\n",
        "    #shape_checker(attention_stack, ('batch', 't', 's'))\n",
        "\n",
        "    return {'text': result_text, 'attention': attention_stack}\n",
        "  else:\n",
        "    return {'text': result_text}"
      ],
      "metadata": {
        "id": "4QmpCzQgTpoW"
      },
      "execution_count": null,
      "outputs": []
    },
    {
      "cell_type": "code",
      "source": [
        "Translator.translate = translate_symbolic"
      ],
      "metadata": {
        "id": "8ys-wF53TtD0"
      },
      "execution_count": null,
      "outputs": []
    },
    {
      "cell_type": "code",
      "source": [
        "tf.saved_model.save(translator, 'translator_4',\n",
        "                    signatures={'serving_default': translator.tf_translate})"
      ],
      "metadata": {
        "colab": {
          "base_uri": "https://localhost:8080/"
        },
        "id": "MhtqGFSIR3s1",
        "outputId": "b2cc3626-8bdc-472d-af67-580e1a003b35"
      },
      "execution_count": null,
      "outputs": [
        {
          "output_type": "stream",
          "name": "stderr",
          "text": [
            "WARNING:absl:Found untraced functions such as encoder_2_layer_call_fn, encoder_2_layer_call_and_return_conditional_losses, decoder_2_layer_call_fn, decoder_2_layer_call_and_return_conditional_losses, embedding_4_layer_call_fn while saving (showing 5 of 26). These functions will not be directly callable after loading.\n"
          ]
        },
        {
          "output_type": "stream",
          "name": "stdout",
          "text": [
            "INFO:tensorflow:Assets written to: translator_4/assets\n"
          ]
        },
        {
          "output_type": "stream",
          "name": "stderr",
          "text": [
            "INFO:tensorflow:Assets written to: translator_4/assets\n"
          ]
        }
      ]
    },
    {
      "cell_type": "code",
      "source": [
        "reloaded = tf.saved_model.load('translator_2')"
      ],
      "metadata": {
        "id": "ve-yfnPGVgqL",
        "colab": {
          "base_uri": "https://localhost:8080/",
          "height": 329
        },
        "outputId": "7437dce4-938f-455a-a9cb-e214998b7031"
      },
      "execution_count": null,
      "outputs": [
        {
          "output_type": "error",
          "ename": "OSError",
          "evalue": "ignored",
          "traceback": [
            "\u001b[0;31m---------------------------------------------------------------------------\u001b[0m",
            "\u001b[0;31mOSError\u001b[0m                                   Traceback (most recent call last)",
            "\u001b[0;32m<ipython-input-79-b75db6e5a44a>\u001b[0m in \u001b[0;36m<module>\u001b[0;34m()\u001b[0m\n\u001b[0;32m----> 1\u001b[0;31m \u001b[0mreloaded\u001b[0m \u001b[0;34m=\u001b[0m \u001b[0mtf\u001b[0m\u001b[0;34m.\u001b[0m\u001b[0msaved_model\u001b[0m\u001b[0;34m.\u001b[0m\u001b[0mload\u001b[0m\u001b[0;34m(\u001b[0m\u001b[0;34m'translator_2'\u001b[0m\u001b[0;34m)\u001b[0m\u001b[0;34m\u001b[0m\u001b[0;34m\u001b[0m\u001b[0m\n\u001b[0m",
            "\u001b[0;32m/usr/local/lib/python3.7/dist-packages/tensorflow/python/saved_model/load.py\u001b[0m in \u001b[0;36mload\u001b[0;34m(export_dir, tags, options)\u001b[0m\n\u001b[1;32m    934\u001b[0m     \u001b[0mValueError\u001b[0m\u001b[0;34m:\u001b[0m \u001b[0mIf\u001b[0m\u001b[0;31m \u001b[0m\u001b[0;31m`\u001b[0m\u001b[0mtags\u001b[0m\u001b[0;31m`\u001b[0m \u001b[0mdon\u001b[0m\u001b[0;31m'\u001b[0m\u001b[0mt\u001b[0m \u001b[0mmatch\u001b[0m \u001b[0ma\u001b[0m \u001b[0mMetaGraph\u001b[0m \u001b[0;32min\u001b[0m \u001b[0mthe\u001b[0m \u001b[0mSavedModel\u001b[0m\u001b[0;34m.\u001b[0m\u001b[0;34m\u001b[0m\u001b[0;34m\u001b[0m\u001b[0m\n\u001b[1;32m    935\u001b[0m   \"\"\"\n\u001b[0;32m--> 936\u001b[0;31m   \u001b[0mresult\u001b[0m \u001b[0;34m=\u001b[0m \u001b[0mload_internal\u001b[0m\u001b[0;34m(\u001b[0m\u001b[0mexport_dir\u001b[0m\u001b[0;34m,\u001b[0m \u001b[0mtags\u001b[0m\u001b[0;34m,\u001b[0m \u001b[0moptions\u001b[0m\u001b[0;34m)\u001b[0m\u001b[0;34m[\u001b[0m\u001b[0;34m\"root\"\u001b[0m\u001b[0;34m]\u001b[0m\u001b[0;34m\u001b[0m\u001b[0;34m\u001b[0m\u001b[0m\n\u001b[0m\u001b[1;32m    937\u001b[0m   \u001b[0;32mreturn\u001b[0m \u001b[0mresult\u001b[0m\u001b[0;34m\u001b[0m\u001b[0;34m\u001b[0m\u001b[0m\n\u001b[1;32m    938\u001b[0m \u001b[0;34m\u001b[0m\u001b[0m\n",
            "\u001b[0;32m/usr/local/lib/python3.7/dist-packages/tensorflow/python/saved_model/load.py\u001b[0m in \u001b[0;36mload_internal\u001b[0;34m(export_dir, tags, options, loader_cls, filters)\u001b[0m\n\u001b[1;32m    947\u001b[0m     \u001b[0mtags\u001b[0m \u001b[0;34m=\u001b[0m \u001b[0mnest\u001b[0m\u001b[0;34m.\u001b[0m\u001b[0mflatten\u001b[0m\u001b[0;34m(\u001b[0m\u001b[0mtags\u001b[0m\u001b[0;34m)\u001b[0m\u001b[0;34m\u001b[0m\u001b[0;34m\u001b[0m\u001b[0m\n\u001b[1;32m    948\u001b[0m   saved_model_proto, debug_info = (\n\u001b[0;32m--> 949\u001b[0;31m       loader_impl.parse_saved_model_with_debug_info(export_dir))\n\u001b[0m\u001b[1;32m    950\u001b[0m \u001b[0;34m\u001b[0m\u001b[0m\n\u001b[1;32m    951\u001b[0m   if (len(saved_model_proto.meta_graphs) == 1 and\n",
            "\u001b[0;32m/usr/local/lib/python3.7/dist-packages/tensorflow/python/saved_model/loader_impl.py\u001b[0m in \u001b[0;36mparse_saved_model_with_debug_info\u001b[0;34m(export_dir)\u001b[0m\n\u001b[1;32m     55\u001b[0m     \u001b[0mparsed\u001b[0m\u001b[0;34m.\u001b[0m \u001b[0mMissing\u001b[0m \u001b[0mgraph\u001b[0m \u001b[0mdebug\u001b[0m \u001b[0minfo\u001b[0m \u001b[0mfile\u001b[0m \u001b[0;32mis\u001b[0m \u001b[0mfine\u001b[0m\u001b[0;34m.\u001b[0m\u001b[0;34m\u001b[0m\u001b[0;34m\u001b[0m\u001b[0m\n\u001b[1;32m     56\u001b[0m   \"\"\"\n\u001b[0;32m---> 57\u001b[0;31m   \u001b[0msaved_model\u001b[0m \u001b[0;34m=\u001b[0m \u001b[0mparse_saved_model\u001b[0m\u001b[0;34m(\u001b[0m\u001b[0mexport_dir\u001b[0m\u001b[0;34m)\u001b[0m\u001b[0;34m\u001b[0m\u001b[0;34m\u001b[0m\u001b[0m\n\u001b[0m\u001b[1;32m     58\u001b[0m \u001b[0;34m\u001b[0m\u001b[0m\n\u001b[1;32m     59\u001b[0m   debug_info_path = file_io.join(\n",
            "\u001b[0;32m/usr/local/lib/python3.7/dist-packages/tensorflow/python/saved_model/loader_impl.py\u001b[0m in \u001b[0;36mparse_saved_model\u001b[0;34m(export_dir)\u001b[0m\n\u001b[1;32m    114\u001b[0m   \u001b[0;32melse\u001b[0m\u001b[0;34m:\u001b[0m\u001b[0;34m\u001b[0m\u001b[0;34m\u001b[0m\u001b[0m\n\u001b[1;32m    115\u001b[0m     raise IOError(\n\u001b[0;32m--> 116\u001b[0;31m         \u001b[0;34mf\"SavedModel file does not exist at: {export_dir}{os.path.sep}\"\u001b[0m\u001b[0;34m\u001b[0m\u001b[0;34m\u001b[0m\u001b[0m\n\u001b[0m\u001b[1;32m    117\u001b[0m         \u001b[0;34mf\"{{{constants.SAVED_MODEL_FILENAME_PBTXT}|\"\u001b[0m\u001b[0;34m\u001b[0m\u001b[0;34m\u001b[0m\u001b[0m\n\u001b[1;32m    118\u001b[0m         f\"{constants.SAVED_MODEL_FILENAME_PB}}}\")\n",
            "\u001b[0;31mOSError\u001b[0m: SavedModel file does not exist at: translator_2/{saved_model.pbtxt|saved_model.pb}"
          ]
        }
      ]
    },
    {
      "cell_type": "code",
      "source": [
        "reloaded2 = tf.saved_model.load('translator_4')"
      ],
      "metadata": {
        "id": "2BiIPp_ZVz_Y"
      },
      "execution_count": null,
      "outputs": []
    },
    {
      "cell_type": "code",
      "source": [
        "three_input_text = tf.constant([\n",
        "    'Uganda has many young people.',\n",
        "    'Commercial farmers need help.',\n",
        "])"
      ],
      "metadata": {
        "id": "ezL3EdL1Vznv"
      },
      "execution_count": null,
      "outputs": []
    },
    {
      "cell_type": "code",
      "source": [
        "result = reloaded.tf_translate(three_input_text)\n",
        "\n",
        "for tr in result['text']:\n",
        "  print(tr.numpy().decode())\n",
        "\n",
        "print()"
      ],
      "metadata": {
        "colab": {
          "base_uri": "https://localhost:8080/"
        },
        "id": "5JZr0D0PWZJh",
        "outputId": "ebb95d16-2f67-4003-ae45-1d249c348b32"
      },
      "execution_count": null,
      "outputs": [
        {
          "output_type": "stream",
          "name": "stdout",
          "text": [
            "eggwanga gakola abantu bangi .\n",
            "abalima ebintu beetaaga okuyambako obulungi .\n",
            "\n"
          ]
        }
      ]
    },
    {
      "cell_type": "code",
      "source": [
        "result = reloaded2.tf_translate(three_input_text)\n",
        "\n",
        "for tr in result['text']:\n",
        "  print(tr.numpy().decode())\n",
        "\n",
        "print()"
      ],
      "metadata": {
        "colab": {
          "base_uri": "https://localhost:8080/"
        },
        "id": "qcYpXLJoCh_P",
        "outputId": "c19afadb-f82b-43ed-96f8-a5d4401a453a"
      },
      "execution_count": null,
      "outputs": [
        {
          "output_type": "stream",
          "name": "stdout",
          "text": [
            "uganda efuna abavubuka bangi .\n",
            "abalima ebintu by ' okutunda bawa abantu okuyambibwa .\n",
            "\n"
          ]
        }
      ]
    },
    {
      "cell_type": "code",
      "source": [
        "result = reloaded2.tf_translate(three_input_text)\n",
        "\n",
        "for tr in result['text']:\n",
        "  print(tr.numpy().decode())\n",
        "\n",
        "print()"
      ],
      "metadata": {
        "colab": {
          "base_uri": "https://localhost:8080/"
        },
        "id": "igDVnBlrpkXf",
        "outputId": "ad3fff99-3680-4bb7-d79f-ad1a3f5cac43"
      },
      "execution_count": null,
      "outputs": [
        {
          "output_type": "stream",
          "name": "stdout",
          "text": [
            "uganda erina abaana bangi .\n",
            "abalima abalima ebintu eby ' ebyobugagga byetaaga obuyambi .\n",
            "\n"
          ]
        }
      ]
    },
    {
      "cell_type": "code",
      "source": [
        "example_output_tokens = tf.random.uniform(\n",
        "    shape=[5, 2], minval=0, dtype=tf.int64,\n",
        "    maxval=output_text_processor.vocabulary_size())\n",
        "translator.tokens_to_text(example_output_tokens).numpy()"
      ],
      "metadata": {
        "id": "qbg8RFo3Vj72",
        "colab": {
          "base_uri": "https://localhost:8080/"
        },
        "outputId": "6efd457f-0662-4091-c362-4228fcef3c35"
      },
      "execution_count": null,
      "outputs": [
        {
          "output_type": "execute_result",
          "data": {
            "text/plain": [
              "array([b'tebanneetuuka yadde', b'yawuniikirira gavunaanyizibwa',\n",
              "       b'envuba ensonga', b'tebeefuga batwala', b'people okutwalibwa'],\n",
              "      dtype=object)"
            ]
          },
          "metadata": {},
          "execution_count": 91
        }
      ]
    },
    {
      "cell_type": "code",
      "source": [
        "example_output_tokens = tf.random.uniform(\n",
        "    shape=[5, 2], minval=0, dtype=tf.int64,\n",
        "    maxval=output_text_processor.vocabulary_size())\n",
        "translator.tokens_to_text(example_output_tokens).numpy()"
      ],
      "metadata": {
        "colab": {
          "base_uri": "https://localhost:8080/"
        },
        "id": "SBQJoLAgi0H_",
        "outputId": "bfbac2f1-6035-454a-c018-58a762ceb172"
      },
      "execution_count": null,
      "outputs": [
        {
          "output_type": "execute_result",
          "data": {
            "text/plain": [
              "array([b'bisolo kusaasaanyizibwa', b'okujjanjaba ndiima',\n",
              "       b'okwegadanga siniya', b'kuyambye okusiiba',\n",
              "       b'ozigeraageranya erondoola'], dtype=object)"
            ]
          },
          "metadata": {},
          "execution_count": 126
        }
      ]
    },
    {
      "cell_type": "code",
      "source": [],
      "metadata": {
        "id": "RibryZW1i5mt"
      },
      "execution_count": null,
      "outputs": []
    },
    {
      "cell_type": "code",
      "source": [
        "!pip install gradio"
      ],
      "metadata": {
        "colab": {
          "base_uri": "https://localhost:8080/"
        },
        "id": "kMF0M-mOrKiT",
        "outputId": "23682fc7-5c48-4f7f-8376-cf4a5f30704c"
      },
      "execution_count": null,
      "outputs": [
        {
          "output_type": "stream",
          "name": "stdout",
          "text": [
            "Collecting gradio\n",
            "  Downloading gradio-2.8.1-py3-none-any.whl (5.6 MB)\n",
            "\u001b[K     |████████████████████████████████| 5.6 MB 5.4 MB/s \n",
            "\u001b[?25hRequirement already satisfied: requests in /usr/local/lib/python3.7/dist-packages (from gradio) (2.23.0)\n",
            "Collecting python-multipart\n",
            "  Downloading python-multipart-0.0.5.tar.gz (32 kB)\n",
            "Collecting pydub\n",
            "  Downloading pydub-0.25.1-py2.py3-none-any.whl (32 kB)\n",
            "Collecting fastapi\n",
            "  Downloading fastapi-0.74.0-py3-none-any.whl (53 kB)\n",
            "\u001b[K     |████████████████████████████████| 53 kB 1.9 MB/s \n",
            "\u001b[?25hCollecting pycryptodome\n",
            "  Downloading pycryptodome-3.14.1-cp35-abi3-manylinux2010_x86_64.whl (2.0 MB)\n",
            "\u001b[K     |████████████████████████████████| 2.0 MB 32.8 MB/s \n",
            "\u001b[?25hCollecting ffmpy\n",
            "  Downloading ffmpy-0.3.0.tar.gz (4.8 kB)\n",
            "Requirement already satisfied: matplotlib in /usr/local/lib/python3.7/dist-packages (from gradio) (3.2.2)\n",
            "Requirement already satisfied: numpy in /usr/local/lib/python3.7/dist-packages (from gradio) (1.21.5)\n",
            "Requirement already satisfied: pandas in /usr/local/lib/python3.7/dist-packages (from gradio) (1.3.5)\n",
            "Requirement already satisfied: pillow in /usr/local/lib/python3.7/dist-packages (from gradio) (7.1.2)\n",
            "Collecting uvicorn\n",
            "  Downloading uvicorn-0.17.5-py3-none-any.whl (53 kB)\n",
            "\u001b[K     |████████████████████████████████| 53 kB 1.9 MB/s \n",
            "\u001b[?25hCollecting paramiko\n",
            "  Downloading paramiko-2.9.2-py2.py3-none-any.whl (210 kB)\n",
            "\u001b[K     |████████████████████████████████| 210 kB 45.0 MB/s \n",
            "\u001b[?25hCollecting analytics-python\n",
            "  Downloading analytics_python-1.4.0-py2.py3-none-any.whl (15 kB)\n",
            "Collecting aiohttp\n",
            "  Downloading aiohttp-3.8.1-cp37-cp37m-manylinux_2_5_x86_64.manylinux1_x86_64.manylinux_2_12_x86_64.manylinux2010_x86_64.whl (1.1 MB)\n",
            "\u001b[K     |████████████████████████████████| 1.1 MB 29.9 MB/s \n",
            "\u001b[?25hCollecting markdown-it-py[linkify,plugins]\n",
            "  Downloading markdown_it_py-2.0.1-py3-none-any.whl (84 kB)\n",
            "\u001b[K     |████████████████████████████████| 84 kB 2.2 MB/s \n",
            "\u001b[?25hRequirement already satisfied: attrs>=17.3.0 in /usr/local/lib/python3.7/dist-packages (from aiohttp->gradio) (21.4.0)\n",
            "Requirement already satisfied: charset-normalizer<3.0,>=2.0 in /usr/local/lib/python3.7/dist-packages (from aiohttp->gradio) (2.0.11)\n",
            "Requirement already satisfied: typing-extensions>=3.7.4 in /usr/local/lib/python3.7/dist-packages (from aiohttp->gradio) (3.10.0.2)\n",
            "Collecting asynctest==0.13.0\n",
            "  Downloading asynctest-0.13.0-py3-none-any.whl (26 kB)\n",
            "Collecting multidict<7.0,>=4.5\n",
            "  Downloading multidict-6.0.2-cp37-cp37m-manylinux_2_17_x86_64.manylinux2014_x86_64.whl (94 kB)\n",
            "\u001b[K     |████████████████████████████████| 94 kB 3.3 MB/s \n",
            "\u001b[?25hCollecting async-timeout<5.0,>=4.0.0a3\n",
            "  Downloading async_timeout-4.0.2-py3-none-any.whl (5.8 kB)\n",
            "Collecting yarl<2.0,>=1.0\n",
            "  Downloading yarl-1.7.2-cp37-cp37m-manylinux_2_5_x86_64.manylinux1_x86_64.manylinux_2_12_x86_64.manylinux2010_x86_64.whl (271 kB)\n",
            "\u001b[K     |████████████████████████████████| 271 kB 46.2 MB/s \n",
            "\u001b[?25hCollecting aiosignal>=1.1.2\n",
            "  Downloading aiosignal-1.2.0-py3-none-any.whl (8.2 kB)\n",
            "Collecting frozenlist>=1.1.1\n",
            "  Downloading frozenlist-1.3.0-cp37-cp37m-manylinux_2_5_x86_64.manylinux1_x86_64.manylinux_2_17_x86_64.manylinux2014_x86_64.whl (144 kB)\n",
            "\u001b[K     |████████████████████████████████| 144 kB 44.5 MB/s \n",
            "\u001b[?25hRequirement already satisfied: idna>=2.0 in /usr/local/lib/python3.7/dist-packages (from yarl<2.0,>=1.0->aiohttp->gradio) (2.10)\n",
            "Requirement already satisfied: six>=1.5 in /usr/local/lib/python3.7/dist-packages (from analytics-python->gradio) (1.15.0)\n",
            "Collecting backoff==1.10.0\n",
            "  Downloading backoff-1.10.0-py2.py3-none-any.whl (31 kB)\n",
            "Requirement already satisfied: python-dateutil>2.1 in /usr/local/lib/python3.7/dist-packages (from analytics-python->gradio) (2.8.2)\n",
            "Collecting monotonic>=1.5\n",
            "  Downloading monotonic-1.6-py2.py3-none-any.whl (8.2 kB)\n",
            "Requirement already satisfied: urllib3!=1.25.0,!=1.25.1,<1.26,>=1.21.1 in /usr/local/lib/python3.7/dist-packages (from requests->gradio) (1.24.3)\n",
            "Requirement already satisfied: chardet<4,>=3.0.2 in /usr/local/lib/python3.7/dist-packages (from requests->gradio) (3.0.4)\n",
            "Requirement already satisfied: certifi>=2017.4.17 in /usr/local/lib/python3.7/dist-packages (from requests->gradio) (2021.10.8)\n",
            "Collecting starlette==0.17.1\n",
            "  Downloading starlette-0.17.1-py3-none-any.whl (58 kB)\n",
            "\u001b[K     |████████████████████████████████| 58 kB 5.3 MB/s \n",
            "\u001b[?25hCollecting pydantic!=1.7,!=1.7.1,!=1.7.2,!=1.7.3,!=1.8,!=1.8.1,<2.0.0,>=1.6.2\n",
            "  Downloading pydantic-1.9.0-cp37-cp37m-manylinux_2_17_x86_64.manylinux2014_x86_64.whl (10.9 MB)\n",
            "\u001b[K     |████████████████████████████████| 10.9 MB 32.6 MB/s \n",
            "\u001b[?25hCollecting anyio<4,>=3.0.0\n",
            "  Downloading anyio-3.5.0-py3-none-any.whl (79 kB)\n",
            "\u001b[K     |████████████████████████████████| 79 kB 7.3 MB/s \n",
            "\u001b[?25hCollecting sniffio>=1.1\n",
            "  Downloading sniffio-1.2.0-py3-none-any.whl (10 kB)\n",
            "Collecting mdurl~=0.1\n",
            "  Downloading mdurl-0.1.0-py3-none-any.whl (11 kB)\n",
            "Collecting linkify-it-py~=1.0\n",
            "  Downloading linkify_it_py-1.0.3-py3-none-any.whl (19 kB)\n",
            "Collecting mdit-py-plugins\n",
            "  Downloading mdit_py_plugins-0.3.0-py3-none-any.whl (43 kB)\n",
            "\u001b[K     |████████████████████████████████| 43 kB 1.9 MB/s \n",
            "\u001b[?25hCollecting uc-micro-py\n",
            "  Downloading uc_micro_py-1.0.1-py3-none-any.whl (6.2 kB)\n",
            "Requirement already satisfied: cycler>=0.10 in /usr/local/lib/python3.7/dist-packages (from matplotlib->gradio) (0.11.0)\n",
            "Requirement already satisfied: pyparsing!=2.0.4,!=2.1.2,!=2.1.6,>=2.0.1 in /usr/local/lib/python3.7/dist-packages (from matplotlib->gradio) (3.0.7)\n",
            "Requirement already satisfied: kiwisolver>=1.0.1 in /usr/local/lib/python3.7/dist-packages (from matplotlib->gradio) (1.3.2)\n",
            "Requirement already satisfied: pytz>=2017.3 in /usr/local/lib/python3.7/dist-packages (from pandas->gradio) (2018.9)\n",
            "Collecting cryptography>=2.5\n",
            "  Downloading cryptography-36.0.1-cp36-abi3-manylinux_2_24_x86_64.whl (3.6 MB)\n",
            "\u001b[K     |████████████████████████████████| 3.6 MB 35.1 MB/s \n",
            "\u001b[?25hCollecting pynacl>=1.0.1\n",
            "  Downloading PyNaCl-1.5.0-cp36-abi3-manylinux_2_17_x86_64.manylinux2014_x86_64.manylinux_2_24_x86_64.whl (856 kB)\n",
            "\u001b[K     |████████████████████████████████| 856 kB 45.1 MB/s \n",
            "\u001b[?25hCollecting bcrypt>=3.1.3\n",
            "  Downloading bcrypt-3.2.0-cp36-abi3-manylinux_2_17_x86_64.manylinux2014_x86_64.manylinux_2_24_x86_64.whl (61 kB)\n",
            "\u001b[K     |████████████████████████████████| 61 kB 395 kB/s \n",
            "\u001b[?25hRequirement already satisfied: cffi>=1.1 in /usr/local/lib/python3.7/dist-packages (from bcrypt>=3.1.3->paramiko->gradio) (1.15.0)\n",
            "Requirement already satisfied: pycparser in /usr/local/lib/python3.7/dist-packages (from cffi>=1.1->bcrypt>=3.1.3->paramiko->gradio) (2.21)\n",
            "Collecting asgiref>=3.4.0\n",
            "  Downloading asgiref-3.5.0-py3-none-any.whl (22 kB)\n",
            "Requirement already satisfied: click>=7.0 in /usr/local/lib/python3.7/dist-packages (from uvicorn->gradio) (7.1.2)\n",
            "Collecting h11>=0.8\n",
            "  Downloading h11-0.13.0-py3-none-any.whl (58 kB)\n",
            "\u001b[K     |████████████████████████████████| 58 kB 5.5 MB/s \n",
            "\u001b[?25hBuilding wheels for collected packages: ffmpy, python-multipart\n",
            "  Building wheel for ffmpy (setup.py) ... \u001b[?25l\u001b[?25hdone\n",
            "  Created wheel for ffmpy: filename=ffmpy-0.3.0-py3-none-any.whl size=4712 sha256=b723aa1d810cb0b66af35d600903b4e5ce2fb4656edab726730ee0e60e601394\n",
            "  Stored in directory: /root/.cache/pip/wheels/13/e4/6c/e8059816e86796a597c6e6b0d4c880630f51a1fcfa0befd5e6\n",
            "  Building wheel for python-multipart (setup.py) ... \u001b[?25l\u001b[?25hdone\n",
            "  Created wheel for python-multipart: filename=python_multipart-0.0.5-py3-none-any.whl size=31678 sha256=4f2db8c90058b3c9ddfc9e48ccc995960889910a56ddd337b924958b8068a6a8\n",
            "  Stored in directory: /root/.cache/pip/wheels/2c/41/7c/bfd1c180534ffdcc0972f78c5758f89881602175d48a8bcd2c\n",
            "Successfully built ffmpy python-multipart\n",
            "Installing collected packages: sniffio, mdurl, uc-micro-py, multidict, markdown-it-py, frozenlist, anyio, yarl, starlette, pynacl, pydantic, monotonic, mdit-py-plugins, linkify-it-py, h11, cryptography, bcrypt, backoff, asynctest, async-timeout, asgiref, aiosignal, uvicorn, python-multipart, pydub, pycryptodome, paramiko, ffmpy, fastapi, analytics-python, aiohttp, gradio\n",
            "Successfully installed aiohttp-3.8.1 aiosignal-1.2.0 analytics-python-1.4.0 anyio-3.5.0 asgiref-3.5.0 async-timeout-4.0.2 asynctest-0.13.0 backoff-1.10.0 bcrypt-3.2.0 cryptography-36.0.1 fastapi-0.74.0 ffmpy-0.3.0 frozenlist-1.3.0 gradio-2.8.1 h11-0.13.0 linkify-it-py-1.0.3 markdown-it-py-2.0.1 mdit-py-plugins-0.3.0 mdurl-0.1.0 monotonic-1.6 multidict-6.0.2 paramiko-2.9.2 pycryptodome-3.14.1 pydantic-1.9.0 pydub-0.25.1 pynacl-1.5.0 python-multipart-0.0.5 sniffio-1.2.0 starlette-0.17.1 uc-micro-py-1.0.1 uvicorn-0.17.5 yarl-1.7.2\n"
          ]
        }
      ]
    },
    {
      "cell_type": "code",
      "source": [
        "import gradio as gr"
      ],
      "metadata": {
        "id": "Xi2tDMHwrM-9"
      },
      "execution_count": null,
      "outputs": []
    },
    {
      "cell_type": "code",
      "source": [
        "def changer(text):\n",
        "  text = tf.constant([text])\n",
        "  result = reloaded.tf_translate(input_text=text)\n",
        "  output = result['text'][0].numpy().decode()\n",
        "  return output\n",
        "\n"
      ],
      "metadata": {
        "id": "ykMjdxjJr4PZ"
      },
      "execution_count": null,
      "outputs": []
    },
    {
      "cell_type": "code",
      "source": [
        "iface = gr.Interface(fn=changer,inputs=\"textbox\",outputs=\"textbox\")"
      ],
      "metadata": {
        "id": "um6wcPiHtFOX"
      },
      "execution_count": null,
      "outputs": []
    },
    {
      "cell_type": "code",
      "source": [
        "iface.launch()"
      ],
      "metadata": {
        "colab": {
          "base_uri": "https://localhost:8080/",
          "height": 663
        },
        "id": "bDyQfopKuLwy",
        "outputId": "a2b01295-a887-4936-9403-0a67783bfc8e"
      },
      "execution_count": null,
      "outputs": [
        {
          "output_type": "stream",
          "name": "stdout",
          "text": [
            "Colab notebook detected. To show errors in colab notebook, set `debug=True` in `launch()`\n",
            "Running on public URL: https://33654.gradio.app\n",
            "\n",
            "This share link expires in 72 hours. For free permanent hosting, check out Spaces (https://huggingface.co/spaces)\n"
          ]
        },
        {
          "output_type": "display_data",
          "data": {
            "text/html": [
              "\n",
              "        <iframe\n",
              "            width=\"900\"\n",
              "            height=\"500\"\n",
              "            src=\"https://33654.gradio.app\"\n",
              "            frameborder=\"0\"\n",
              "            allowfullscreen\n",
              "        ></iframe>\n",
              "        "
            ],
            "text/plain": [
              "<IPython.lib.display.IFrame at 0x7fd19e7a4b50>"
            ]
          },
          "metadata": {}
        },
        {
          "output_type": "execute_result",
          "data": {
            "text/plain": [
              "(<fastapi.applications.FastAPI at 0x7fd1a7fdd950>,\n",
              " 'http://127.0.0.1:7863/',\n",
              " 'https://33654.gradio.app')"
            ]
          },
          "metadata": {},
          "execution_count": 22
        }
      ]
    },
    {
      "cell_type": "code",
      "source": [
        "import os"
      ],
      "metadata": {
        "id": "PhdgNzje7TxB"
      },
      "execution_count": null,
      "outputs": []
    },
    {
      "cell_type": "code",
      "source": [
        "model_save_path = os.path.join(path,'translator_LSTM/2/')"
      ],
      "metadata": {
        "id": "wTlXPPpJ63v8"
      },
      "execution_count": null,
      "outputs": []
    },
    {
      "cell_type": "code",
      "source": [],
      "metadata": {
        "id": "5Y3d6n_gjU1F"
      },
      "execution_count": null,
      "outputs": []
    },
    {
      "cell_type": "code",
      "source": [
        "model_save_path = os.path.join(path,'translator_biLSTM/3/')"
      ],
      "metadata": {
        "id": "-3QAViO1jYFj"
      },
      "execution_count": null,
      "outputs": []
    },
    {
      "cell_type": "code",
      "source": [
        "reloaded_lstm = tf.saved_model.load(model_save_path)"
      ],
      "metadata": {
        "id": "owluPLen7wLC"
      },
      "execution_count": null,
      "outputs": []
    },
    {
      "cell_type": "code",
      "source": [
        "reloaded_bilstm = tf.saved_model.load(model_save_path)"
      ],
      "metadata": {
        "id": "MUpsMv8djM6m"
      },
      "execution_count": null,
      "outputs": []
    },
    {
      "cell_type": "code",
      "source": [
        "reloaded_gru = tf.saved_model.load(model_save_path)"
      ],
      "metadata": {
        "id": "oeEeN2d3kRNa"
      },
      "execution_count": null,
      "outputs": []
    },
    {
      "cell_type": "code",
      "source": [
        "for i,v in test_ds.take(1):\n",
        "  input_text = i\n",
        "  output_text = v"
      ],
      "metadata": {
        "id": "DiKkHLjeeIN_"
      },
      "execution_count": null,
      "outputs": []
    },
    {
      "cell_type": "code",
      "source": [],
      "metadata": {
        "id": "96gLB_qxlRwT"
      },
      "execution_count": null,
      "outputs": []
    },
    {
      "cell_type": "code",
      "source": [
        "result1 = reloaded_lstm.tf_translate(input_text)"
      ],
      "metadata": {
        "id": "fipNk58RHQns"
      },
      "execution_count": null,
      "outputs": []
    },
    {
      "cell_type": "code",
      "source": [
        "result2 = reloaded_bilstm.tf_translate(input_text)"
      ],
      "metadata": {
        "id": "h64lcOs6lYDS"
      },
      "execution_count": null,
      "outputs": []
    },
    {
      "cell_type": "code",
      "source": [
        "result3 = reloaded_gru.tf_translate(input_text)"
      ],
      "metadata": {
        "id": "W47_yM0elg1h"
      },
      "execution_count": null,
      "outputs": []
    },
    {
      "cell_type": "code",
      "source": [
        "import collections,math"
      ],
      "metadata": {
        "id": "UaIkPGmB193u"
      },
      "execution_count": null,
      "outputs": []
    },
    {
      "cell_type": "code",
      "source": [
        "def bleu(pred_seq, label_seq, k):\n",
        "    \"\"\"Compute the BLEU.\"\"\"\n",
        "    pred_tokens, label_tokens = tf.strings.split(pred_seq), tf.strings.split(label_seq)\n",
        "    len_pred, len_label = len(pred_tokens), len(label_tokens)\n",
        "    score = math.exp(min(0, 1 - len_label / len_pred))\n",
        "    for n in range(1, k + 1):\n",
        "        num_matches, label_subs = 0, collections.defaultdict(int)\n",
        "        for i in range(len_label - n + 1):\n",
        "            label_subs[' '.join(tf.compat.as_str_any(label_tokens[i: i + n].numpy()))] += 1\n",
        "        for i in range(len_pred - n + 1):\n",
        "            if label_subs[' '.join(tf.compat.as_str_any(pred_tokens[i: i + n].numpy()))] > 0:\n",
        "                num_matches += 1\n",
        "                label_subs[' '.join(tf.compat.as_str_any(pred_tokens[i: i + n].numpy()))] -= 1\n",
        "        score *= math.pow(num_matches / (len_pred - n + 1), math.pow(0.5, n))\n",
        "    return score"
      ],
      "metadata": {
        "id": "r6edFWav1x2Y"
      },
      "execution_count": null,
      "outputs": []
    },
    {
      "cell_type": "code",
      "source": [],
      "metadata": {
        "id": "WyiFhl_j1xpf"
      },
      "execution_count": null,
      "outputs": []
    },
    {
      "cell_type": "code",
      "source": [
        "m=0\n",
        "for tr in result1['text']:\n",
        "  tf.print(\"Original English Sentence: \" + input_text[m])\n",
        "  tf.print(\"Original Luganda Sentence: \" + output_text[m])\n",
        "  print(\"Predicted Luganda Sentence: \" + tr.numpy().decode())\n",
        "  #print(\"Bleu score: {:.3f}\".format(bleu(output_text[m],input_text[m],k=2)))\n",
        "  print(\"-------------------------------------\")\n",
        "  m +=1"
      ],
      "metadata": {
        "colab": {
          "base_uri": "https://localhost:8080/"
        },
        "id": "xfAldjl7lm-o",
        "outputId": "6eb93091-03eb-411e-83bb-1591316adf46"
      },
      "execution_count": null,
      "outputs": [
        {
          "output_type": "stream",
          "name": "stdout",
          "text": [
            "Original English Sentence: What is the benefit of antenatal care to both mother and the baby?\n",
            "Original Luganda Sentence: Mugaso ki oguli mu kukyalira eddwaliro eri omukyala ali olubuto n'omwana ali mu lubuto?\n",
            "Predicted Luganda Sentence: waliwo okusaanyawo kw ' omuwendo gw ' abalwadde b ' emyaka guli waggulu era ?\n",
            "-------------------------------------\n",
            "Original English Sentence: Farmers are misusing funds given to them by the government to help them improve on their farming ways.\n",
            "Original Luganda Sentence: Abalimi n'abalunzi beeyambisa bubi ssente ezibaweebwa gavumenti mu kubayamba okutumbula ebyobulimi n'obulunzi bwabwe,\n",
            "Predicted Luganda Sentence: abalimi n ' abalunzi beeyambisa bubi ssente ezibaweebwa gavumenti mu kubayamba okutumbula ebyobulimi n ' obulunzi bwabwe mu kitundu kyabwe .\n",
            "-------------------------------------\n",
            "Original English Sentence: Health services need to be upgraded for better service delivery.\n",
            "Original Luganda Sentence: Ebyobulamu byetaaga okuteekebwa ku mutindo olw'empeereza ennungi.\n",
            "Predicted Luganda Sentence: obujjanjabi bweetaaga okuteekebwa mu bifo eby ' obwereere .\n",
            "-------------------------------------\n",
            "Original English Sentence: The manager ignored our complains.\n",
            "Original Luganda Sentence: Omukulu teyafuddeyo ku kwemulugunya kwaffe.\n",
            "Predicted Luganda Sentence: akubiriza omukulu teyafuddeyo ku kwemulugunya kwaffe .\n",
            "-------------------------------------\n",
            "Original English Sentence: Most private schools operate on debt.\n",
            "Original Luganda Sentence: Amasomero g'obwannanyini agasinga gakolera ku bbanja.\n",
            "Predicted Luganda Sentence: amasomero agamu ku gaasooka gaatandikibwawo okugunjuliramu amasomero .\n",
            "-------------------------------------\n",
            "Original English Sentence: We are to eat cassava for lunch today.\n",
            "Original Luganda Sentence: Tuli baakulya muwogo ekyemisana kya leero.\n",
            "Predicted Luganda Sentence: tulina okulya muganda beewale maaso .\n",
            "-------------------------------------\n",
            "Original English Sentence: Last year, police arrested two people for allegedly vending wrong exams.\n",
            "Original Luganda Sentence: Omwaka oguwedde poliisi yakwata abantu babiri olw'okutunda ebigezo ebikyamu.\n",
            "Predicted Luganda Sentence: omwaka oguwedde poliisi yakwata abantu babiri olw ' okutunda ebigezo ebikyamu .\n",
            "-------------------------------------\n",
            "Original English Sentence: People should adopt working from home.\n",
            "Original Luganda Sentence: Abantu balina okwettanira okukolera awaka.\n",
            "Predicted Luganda Sentence: abantu balina okwettanira okukolera awaka .\n",
            "-------------------------------------\n",
            "Original English Sentence: People build illegally in wetlands.\n",
            "Original Luganda Sentence: Abantu bazimba mu ntobazi mu nsobi.\n",
            "Predicted Luganda Sentence: abantu bazimba mu ntobazi mu nsobi .\n",
            "-------------------------------------\n",
            "Original English Sentence: Community members were requested to keep calm during elections.\n",
            "Original Luganda Sentence: Abantu b'ekitundu baasabibwa okubeera abakkakamu mu kulonda.\n",
            "Predicted Luganda Sentence: abantu abali mu bitundu baasabibwa okudda mu kulonda .\n",
            "-------------------------------------\n",
            "Original English Sentence: Most disabled people use wheelchairs for movement.\n",
            "Original Luganda Sentence: Abaliko obulemu abasinga bakozesa bugaali bw'abalema okutambula.\n",
            "Predicted Luganda Sentence: abaliko obulemu abasinga bakozesa bugaali bw ' abalema okutambula .\n",
            "-------------------------------------\n",
            "Original English Sentence: Several youths have been enrolled as crime preventers.\n",
            "Original Luganda Sentence: Abavubuka ab'enjawulo bawandiikiddwa nga abayambi ba poliisi ku byalo.\n",
            "Predicted Luganda Sentence: abavubuka ab ' oku ntikko baayongeza enteekateeka za bakulembeze .\n",
            "-------------------------------------\n",
            "Original English Sentence: Ugandan airlines has been re-established\n",
            "Original Luganda Sentence: Entambula y'ennyonyi mu ggwanga ezziddwawo.\n",
            "Predicted Luganda Sentence: emisinde gya uganda ekiramuzi bisaanyiziddwawo .\n",
            "-------------------------------------\n",
            "Original English Sentence: It is hard to meet people's expectations.\n",
            "Original Luganda Sentence: Kizibu okutuukirira ebisuubizo by'abantu.\n",
            "Predicted Luganda Sentence: kituufu okutuukirira ebisuubizo by ' abantu .\n",
            "-------------------------------------\n",
            "Original English Sentence: The government needs to construct toilets for refugees.\n",
            "Original Luganda Sentence: Gavumenti yeetaaga okuzimbira abanoonyi b'obubudamu zi kaabuyonjo.\n",
            "Predicted Luganda Sentence: gavumenti yeetaaga okuzimbira abanoonyi b ' obubudamu zi kaabuyonjo .\n",
            "-------------------------------------\n",
            "Original English Sentence: The team was given a free kick in the last ten minutes.\n",
            "Original Luganda Sentence: Ttiimu y'awereddwa okusimula ekisobyo mu ddakiika ekkumi ezaasembyeyo.\n",
            "Predicted Luganda Sentence: ttiimi yasanyuka w ' ekifo b ' ebyenjigiriza yazimbye okunoonyereza ku wooteeri .\n",
            "-------------------------------------\n",
            "Original English Sentence: People go to the market to buy goods from traders.\n",
            "Original Luganda Sentence: Abantu bagende mu katale okugula ebyamaguzi ku basuubuzi.\n",
            "Predicted Luganda Sentence: abantu bagende mu katale okugula ebyamaguzi ku basuubuzi .\n",
            "-------------------------------------\n",
            "Original English Sentence: There is also an Ebola outbreak in countries neighbouring Uganda.\n",
            "Original Luganda Sentence: Waliwo n'okubalukawo kwa Ebola mu mawanga agaliraanye Uganda.\n",
            "Predicted Luganda Sentence: waliwo n ' okubalukawo kw ' ebola mu mawanga agaliraanye uganda .\n",
            "-------------------------------------\n",
            "Original English Sentence: Why do people engage in witchcraft?\n",
            "Original Luganda Sentence: Lwaki abantu beenyigira mu bulogo?\n",
            "Predicted Luganda Sentence: lwaki abantu beenyigira mu bulogo ?\n",
            "-------------------------------------\n",
            "Original English Sentence: Every farmer will get an acre of land to plant cassava.\n",
            "Original Luganda Sentence: Buli mulimi ajja kufuna yiika y'ettaka okulima muwogo.\n",
            "Predicted Luganda Sentence: buli mulimi ajja kufuna yiika y ' ettaka okulima muwogo okulima muwogo .\n",
            "-------------------------------------\n",
            "Original English Sentence: We played over five matches before getting to the tournament.\n",
            "Original Luganda Sentence: Twabadde n'enzannya eziri waggulu w'etaano nga tetunnaba kugenda mu mpaka.\n",
            "Predicted Luganda Sentence: twabadde n ' enzannya eziri waggulu w ' etaano nga tetunnaba kugenda mu mpaka .\n",
            "-------------------------------------\n",
            "Original English Sentence: Spouses shouldnÕt be against the use of contraceptives.\n",
            "Original Luganda Sentence: Abagalana tebalina kugaana kukozesa nkola za kizaalaggumba.\n",
            "Predicted Luganda Sentence: abagalana tebalina kugaana kukozesa nkola za kizaalaggumba .\n",
            "-------------------------------------\n",
            "Original English Sentence: Politically inspired demonstrations are dangerous.\n",
            "Original Luganda Sentence: Obwegugungo obuvudde ku byobufuzi bwa bulabe.\n",
            "Predicted Luganda Sentence: obwegugungo obuvudde ku byobufuzi bwa bulabe .\n",
            "-------------------------------------\n",
            "Original English Sentence: Heavy taxes are levied on tobacco businesses.\n",
            "Original Luganda Sentence: Emisolo emingi giwoozebwa ku bizinensi za ttaaba.\n",
            "Predicted Luganda Sentence: emisolo emingi giwoozebwa ku bizinensi za taaba .\n",
            "-------------------------------------\n",
            "Original English Sentence: Animals diseases badly affect farmers yields.\n",
            "Original Luganda Sentence: Endwadde z'ebisolo zikosa nnyo amakungula g'abalimi.\n",
            "Predicted Luganda Sentence: obulwadde obusiigibwa amangu nnyo mu abalimi n ' abalunzi .\n",
            "-------------------------------------\n",
            "Original English Sentence: Students will receive their report cards next term.\n",
            "Original Luganda Sentence: Abayizi bajja kufuna alipoota zaabwe olusoma olujja.\n",
            "Predicted Luganda Sentence: abayizi bajja kufuna alipoota zaabwe mwe bayinza okukolebwako .\n",
            "-------------------------------------\n",
            "Original English Sentence: Children have died because of malnutrition.\n",
            "Original Luganda Sentence: Abaana bafudde lwa ndya mbi.\n",
            "Predicted Luganda Sentence: abaana bafudde lwa ndya mbi .\n",
            "-------------------------------------\n",
            "Original English Sentence: How can I renew my driving permit?\n",
            "Original Luganda Sentence: Nninza ntya obuggya dulayivingi ppamiti yange?\n",
            "Predicted Luganda Sentence: nninza ntya obuggya dulayivingi ppamiti yange ?\n",
            "-------------------------------------\n",
            "Original English Sentence: They should avoid drinking unboiled water.\n",
            "Original Luganda Sentence: Balina okwewala okunywa amazzi agatali mafumbe.\n",
            "Predicted Luganda Sentence: balina okwewala okunywa amazzi agatali mafumbe .\n",
            "-------------------------------------\n",
            "Original English Sentence: He stepped on witchcraft and decide to get treatment from a witchdoctor.\n",
            "Original Luganda Sentence: Yakkiririza mu ddogo n'asalawo okufuna obujjanjabi okuva ku musawo w'ekinnansi.\n",
            "Predicted Luganda Sentence: yakkiririza mu ddogo n ' atwalibwa mu bibuuzo by ' akamalirizo .\n",
            "-------------------------------------\n",
            "Original English Sentence: Church leaders have organised various events.\n",
            "Original Luganda Sentence: Abakulembeze mu b'ekkanisa bategese emikolo egy'enjawulo.\n",
            "Predicted Luganda Sentence: abakulembeze b ' akkanisa bategese emikolo gy ' amaka omukambwe .\n",
            "-------------------------------------\n",
            "Original English Sentence: They called for a refugees' meeting yesterday.\n",
            "Original Luganda Sentence: Baayise olukungaana lw'abanoonyiboobubudamu eggulo.\n",
            "Predicted Luganda Sentence: baayise olukungaana lw ' abanoonyiboobubudamu eggulo .\n",
            "-------------------------------------\n",
            "Original English Sentence: Some goods are perishable.\n",
            "Original Luganda Sentence: Ebyamaguzi ebimu byonooneka mangu.\n",
            "Predicted Luganda Sentence: ebyamaguzi ebimu byonooneka mangu .\n",
            "-------------------------------------\n",
            "Original English Sentence: Doctors do not have enough working equipment.\n",
            "Original Luganda Sentence: Abasawo tebalina bikozesebwa bimala.\n",
            "Predicted Luganda Sentence: abasawo tebalina bikozesebwa birungi .\n",
            "-------------------------------------\n",
            "Original English Sentence: Headteachers manage the operations of the school.\n",
            "Original Luganda Sentence: Abakulu b'amasomero bakulira emirimu egikolebwa mu ssomero.\n",
            "Predicted Luganda Sentence: abakulu b ' amasomero bakulira emirimu egikolebwa mu ssomero .\n",
            "-------------------------------------\n",
            "Original English Sentence: Political Parties are no longer serving our interests\n",
            "Original Luganda Sentence: Ebibiina by'ebyobufuzi tebikyakola ku byetaago byaffe.\n",
            "Predicted Luganda Sentence: ebibiina by ' ebyobufuzi tebikyakola ku byetaago byaffe .\n",
            "-------------------------------------\n",
            "Original English Sentence: He promised to give me his laptop.\n",
            "Original Luganda Sentence: Yansuubiza okumpa laputopu ye.\n",
            "Predicted Luganda Sentence: baasibye laputopu ye .\n",
            "-------------------------------------\n",
            "Original English Sentence: Justice has to be served.\n",
            "Original Luganda Sentence: Obwenkanya bulina okubaawo.\n",
            "Predicted Luganda Sentence: obwenkanya bulina okubaawo .\n",
            "-------------------------------------\n",
            "Original English Sentence: Knowing the people in a neighbour's house ensures village safety.\n",
            "Original Luganda Sentence: Okumanya abantu ababeera mu nnyumba ya mulirwanawo kiyamba okukuuma ekyalo.\n",
            "Predicted Luganda Sentence: okumanya abantu ababeera mu nnyumba ya mulirwanawo kiyamba okukuuma ekyalo .\n",
            "-------------------------------------\n",
            "Original English Sentence: All church founded schools contributed money for this work.\n",
            "Original Luganda Sentence: Amasomero gonna agaazimbibwa ku musingi gw'ekkanisa gaasonze ssente eri omulimu guno.\n",
            "Predicted Luganda Sentence: amasomero gonna agasinga ku musingi gw ' ekkanisa gaasonze ssente eri omulimu guno .\n",
            "-------------------------------------\n",
            "Original English Sentence: Politicians need to unite to work on the roads.\n",
            "Original Luganda Sentence: Bannabyabufuzi beetaaga okwegatta bakole ku nguudo.\n",
            "Predicted Luganda Sentence: bannabyabufuzi beetaaga okwegatta bakole ku nguudo .\n",
            "-------------------------------------\n",
            "Original English Sentence: It's a parents responsibility to follow up the child immunization records carefully.\n",
            "Original Luganda Sentence: Buvunaanyizibwa bwa muzadde okulondoola ebikwata ku kugeme kw'omwana n'obwegendereza.\n",
            "Predicted Luganda Sentence: buvunaanyizibwa bwa muzadde okulondoola kinene kyonna buli lwe balwalanga .\n",
            "-------------------------------------\n",
            "Original English Sentence: Soldiers and health workers need to be recognised for their tireress effort.\n",
            "Original Luganda Sentence: Abajjaasi n'basawo basaana okusiimibwa olw'omulimu ogw'obutaweera gwe bakola.\n",
            "Predicted Luganda Sentence: abaserikale n ' abasawo beetaaga okusiimibwa ng ' omulimu gwaabwe .\n",
            "-------------------------------------\n",
            "Original English Sentence: What is the cause of the refugee influx?\n",
            "Original Luganda Sentence: Ki ekiviirako abanoonyiboobubudamu abayingira abangi mu ggwanga?\n",
            "Predicted Luganda Sentence: ki ekiviirako abanoonyiboobubudamu abayingira abangi mu mwezi ?\n",
            "-------------------------------------\n",
            "Original English Sentence: The district organised conferences to advise youths on how to conduct their lives.\n",
            "Original Luganda Sentence: Disitulikiti yategeka enkungaana okuwa abavubuka amagezi ku ngeri gye bayinza okukwatamu obulamu baabwe.\n",
            "Predicted Luganda Sentence: disitulikiti yategeka enkungaana okuwa abavubuka amagezi ku ngeri gye bayinza okukwatamu obulamu baabwe .\n",
            "-------------------------------------\n",
            "Original English Sentence: Not whatever you predict for the team comes true.\n",
            "Original Luganda Sentence: Si buli ky'oteebereza ku ttiimu nti kituukirira.\n",
            "Predicted Luganda Sentence: si buli ky ' oteebereza ku ttiimu nti kituukirira .\n",
            "-------------------------------------\n",
            "Original English Sentence: What is the initial stage for the project?\n",
            "Original Luganda Sentence: Entandikwa y'omulimu y' eri wa?\n",
            "Predicted Luganda Sentence: entandikwa y ' omulimu y ' eri wa ?\n",
            "-------------------------------------\n",
            "Original English Sentence: The headmaster thanked students for their contribution.\n",
            "Original Luganda Sentence: Omukulu w'essomero yeebazizza abayizi olwa bye bawaddeyo.\n",
            "Predicted Luganda Sentence: omukulu w ' essomero yeebazizza abayizi okusoma .\n",
            "-------------------------------------\n",
            "Original English Sentence: Police should keep law and order in the community.\n",
            "Original Luganda Sentence: Police erina okukuuma amateeka n'obutebenkevu mu kitundu.\n",
            "Predicted Luganda Sentence: poliisi okukuuma amateeka n ' obutebenkevu mu kitundu .\n",
            "-------------------------------------\n",
            "Original English Sentence: The ministry will not tolerate any form of strikes from the teachers.\n",
            "Original Luganda Sentence: Minisitule tejja kukkiriza ngeri yonna ey'okwekalakaasa okunaakolebwa abasomesa.\n",
            "Predicted Luganda Sentence: minisitule tejja kukkiriza ngeri yonna ey ' okwekalakaasa okunaakolebwa abasomesa .\n",
            "-------------------------------------\n",
            "Original English Sentence: What do we do in order to access clean water?\n",
            "Original Luganda Sentence: Tukola tutya okufuna amazzi amayonjo?\n",
            "Predicted Luganda Sentence: tukola tutya okufuna amazzi amayonjo ?\n",
            "-------------------------------------\n",
            "Original English Sentence: Corruption investigations are going on.\n",
            "Original Luganda Sentence: Okunoonyereza ku buli bw'enguzi kugenda mu maaso.\n",
            "Predicted Luganda Sentence: okunoonyereza ku buli bw ' enguzi kugenda mu maaso .\n",
            "-------------------------------------\n",
            "Original English Sentence: The authority is analyzing the dynamics in the bridge construction.\n",
            "Original Luganda Sentence: Ekitongole kiri mu kwetegereza nkyukakyuka mu kuzimba olutindo.\n",
            "Predicted Luganda Sentence: ekitongole kiri mu kwetegereza nkyukakyuka mu kuzimba olutindo .\n",
            "-------------------------------------\n",
            "Original English Sentence: On tea plantations, women tea pickers a preferred because of their reriability and care when selecting leaves.\n",
            "Original Luganda Sentence: Ku masamba g'amajaani, abakyala abanoga amajaani baagalwa olw'obwesigwa bwabwe n'okufaayo nga balonda ebikoola.\n",
            "Predicted Luganda Sentence: ku masamba g ' amajaani , abakyala ababeera mu bukiikaddyo amawanga amagatte balina okusiga omukono ne balonda ebikoola bye bwe bajja .\n",
            "-------------------------------------\n",
            "Original English Sentence: There will be destruction of property.\n",
            "Original Luganda Sentence: Wajja kubaawo okwonoona ebintu.\n",
            "Predicted Luganda Sentence: wajja kubaawo okwonoona ebintu .\n",
            "-------------------------------------\n",
            "Original English Sentence: The workers moved to Wanderai sub-county to present their concerns to the county officials.\n",
            "Original Luganda Sentence: Abakozi baagenda ku ggombolola ya Wanderai okuwaayo ensonga zaabwe eri abakungu b'essaza.\n",
            "Predicted Luganda Sentence: abakozi baagenda ku ggombolola ya wanderai okuwaayo ensonga zaabwe eri abakungu b ' essaza .\n",
            "-------------------------------------\n",
            "Original English Sentence: He was knocked down by a lorry.\n",
            "Original Luganda Sentence: Yakooneddwa loole.\n",
            "Predicted Luganda Sentence: yakooneddwa loole .\n",
            "-------------------------------------\n",
            "Original English Sentence: With the help of the boat, we were able to cross over the river.\n",
            "Original Luganda Sentence: Nga tweyambisa eryato, twasobola okusomoka omugga.\n",
            "Predicted Luganda Sentence: nga tweyambisa eryato , twasobola okusomoka omugga .\n",
            "-------------------------------------\n",
            "Original English Sentence: His supporters did not follow the guiderines for preventing the spread of coronavirus  .\n",
            "Original Luganda Sentence: Abawagizi be tebaagoberera kulambikibwa kw'okutangira ensaasaana y'akawuka ka kolona.\n",
            "Predicted Luganda Sentence: olw ' omusaala ka kulwana okutuuka ku bwetaavu kw ' alina okusaasaana kw ' akawuka ka kolona .\n",
            "-------------------------------------\n",
            "Original English Sentence: The police in Arua lack enough security officers.\n",
            "Original Luganda Sentence: Poliisi mu Arua terina basirikale bamala.\n",
            "Predicted Luganda Sentence: poliisi mu arua terina basirikale bamala .\n",
            "-------------------------------------\n",
            "Original English Sentence: People in rural areas are highly affected by malaria.\n",
            "Original Luganda Sentence: Abantu mu byalo balumwa nnyo omusujja gw'ensiri.\n",
            "Predicted Luganda Sentence: abantu mu byalo balumwa nnyo omusujja gw ' ensiri .\n",
            "-------------------------------------\n",
            "Original English Sentence: If you serve people well  , get ready to be promoted.\n",
            "Original Luganda Sentence: Bw'oweereza obulungi abantu, weetegeke okulinnyisibwa eddaala.\n",
            "Predicted Luganda Sentence: singa obuyambi bw ' abantu , weetegeke okulinnyisibwa eddaala .\n",
            "-------------------------------------\n",
            "Original English Sentence: Every community needs a good security system to develop.\n",
            "Original Luganda Sentence: Buli kitundu kyetaaga obukuumi obulungi okukulaakulana.\n",
            "Predicted Luganda Sentence: buli kitundu kyetaaga obukuumi obulungi okukulaakulana .\n",
            "-------------------------------------\n",
            "Original English Sentence: The Pakwach district fishing clergy is worried about the increasing school drop out numbers .\n",
            "Original Luganda Sentence: Akuulira eby'envuba mu disitulikiti y'e Pakwach mweraliikirivu ku kweyongera kw'abaana okuwanduka mu masomero.\n",
            "Predicted Luganda Sentence: akuulira eby ' envuba mu disitulikiti y ' e pakwach mweraliikirivu ku kweyongera kw ' abaana okuwanduka mu masomero .\n",
            "-------------------------------------\n"
          ]
        }
      ]
    },
    {
      "cell_type": "code",
      "source": [
        "m=0\n",
        "for tr in result2['text']:\n",
        "  tf.print(\"Original English Sentence: \" + input_text[m])\n",
        "  tf.print(\"Original Luganda Sentence: \" + output_text[m])\n",
        "  print(\"Predicted Luganda Sentence: \" + tr.numpy().decode())\n",
        "  print(\"-------------------------------------\")\n",
        "  m +=1"
      ],
      "metadata": {
        "colab": {
          "base_uri": "https://localhost:8080/"
        },
        "id": "qbpYfohhmXxA",
        "outputId": "1bd7bf18-1932-431e-fd81-cc9f13ac3d61"
      },
      "execution_count": null,
      "outputs": [
        {
          "output_type": "stream",
          "name": "stdout",
          "text": [
            "Original English Sentence: What is the benefit of antenatal care to both mother and the baby?\n",
            "Original Luganda Sentence: Mugaso ki oguli mu kukyalira eddwaliro eri omukyala ali olubuto n'omwana ali mu lubuto?\n",
            "Predicted Luganda Sentence: mugaso ki oguli mu kukyalira eddwaliro eri omukyala ali olubuto ne maama ?\n",
            "-------------------------------------\n",
            "Original English Sentence: Farmers are misusing funds given to them by the government to help them improve on their farming ways.\n",
            "Original Luganda Sentence: Abalimi n'abalunzi beeyambisa bubi ssente ezibaweebwa gavumenti mu kubayamba okutumbula ebyobulimi n'obulunzi bwabwe,\n",
            "Predicted Luganda Sentence: abalimi n ' abalunzi beeyambisa bubi ssente ezibaweebwa gavumenti mu kubayamba okutumbula ebyobulimi n ' obulunzi bwabwe obutono\n",
            "-------------------------------------\n",
            "Original English Sentence: Health services need to be upgraded for better service delivery.\n",
            "Original Luganda Sentence: Ebyobulamu byetaaga okuteekebwa ku mutindo olw'empeereza ennungi.\n",
            "Predicted Luganda Sentence: ebyobulamu byetaaga okuteekebwa ku mutindo olw ' empeereza y ' omulimu ennungi .\n",
            "-------------------------------------\n",
            "Original English Sentence: The manager ignored our complains.\n",
            "Original Luganda Sentence: Omukulu teyafuddeyo ku kwemulugunya kwaffe.\n",
            "Predicted Luganda Sentence: omukulu teyafuddeyo ku kwemulugunya kwaffe .\n",
            "-------------------------------------\n",
            "Original English Sentence: Most private schools operate on debt.\n",
            "Original Luganda Sentence: Amasomero g'obwannanyini agasinga gakolera ku bbanja.\n",
            "Predicted Luganda Sentence: amasomero g ' obwannannyini aga lw ' okulongoosebwa .\n",
            "-------------------------------------\n",
            "Original English Sentence: We are to eat cassava for lunch today.\n",
            "Original Luganda Sentence: Tuli baakulya muwogo ekyemisana kya leero.\n",
            "Predicted Luganda Sentence: tuli baakulya muwogo ekyemisana kya vanilla eky ' ekiro .\n",
            "-------------------------------------\n",
            "Original English Sentence: Last year, police arrested two people for allegedly vending wrong exams.\n",
            "Original Luganda Sentence: Omwaka oguwedde poliisi yakwata abantu babiri olw'okutunda ebigezo ebikyamu.\n",
            "Predicted Luganda Sentence: omwaka oguwedde poliisi yakwata abantu babiri olw ' okutunda ebigezo ebikyamu .\n",
            "-------------------------------------\n",
            "Original English Sentence: People should adopt working from home.\n",
            "Original Luganda Sentence: Abantu balina okwettanira okukolera awaka.\n",
            "Predicted Luganda Sentence: abantu balina okwettanira okukolera awaka .\n",
            "-------------------------------------\n",
            "Original English Sentence: People build illegally in wetlands.\n",
            "Original Luganda Sentence: Abantu bazimba mu ntobazi mu nsobi.\n",
            "Predicted Luganda Sentence: abantu bazimba mu ntobazi mu nsobi .\n",
            "-------------------------------------\n",
            "Original English Sentence: Community members were requested to keep calm during elections.\n",
            "Original Luganda Sentence: Abantu b'ekitundu baasabibwa okubeera abakkakamu mu kulonda.\n",
            "Predicted Luganda Sentence: abantu b ' ekitundu baasabibwa okubeera okujjanjaba akalulu mu kalulu .\n",
            "-------------------------------------\n",
            "Original English Sentence: Most disabled people use wheelchairs for movement.\n",
            "Original Luganda Sentence: Abaliko obulemu abasinga bakozesa bugaali bw'abalema okutambula.\n",
            "Predicted Luganda Sentence: abaliko obulemu abasinga bakozesa bugaali bw ' abalema okutambula .\n",
            "-------------------------------------\n",
            "Original English Sentence: Several youths have been enrolled as crime preventers.\n",
            "Original Luganda Sentence: Abavubuka ab'enjawulo bawandiikiddwa nga abayambi ba poliisi ku byalo.\n",
            "Predicted Luganda Sentence: abavubuka ab ' enjawulo bawandiikiddwa nga abayambi ba poliisi ku byalo .\n",
            "-------------------------------------\n",
            "Original English Sentence: Ugandan airlines has been re-established\n",
            "Original Luganda Sentence: Entambula y'ennyonyi mu ggwanga ezziddwawo.\n",
            "Predicted Luganda Sentence: entambula y ' ennyonyi mu ggwanga ezziddwawo .\n",
            "-------------------------------------\n",
            "Original English Sentence: It is hard to meet people's expectations.\n",
            "Original Luganda Sentence: Kizibu okutuukirira ebisuubizo by'abantu.\n",
            "Predicted Luganda Sentence: kizibu okutuukirira ebisuubizo by ' abantu .\n",
            "-------------------------------------\n",
            "Original English Sentence: The government needs to construct toilets for refugees.\n",
            "Original Luganda Sentence: Gavumenti yeetaaga okuzimbira abanoonyi b'obubudamu zi kaabuyonjo.\n",
            "Predicted Luganda Sentence: gavumenti yeetaaga okukola ku nguudo z ' abanoonyiboobubudamu ezirina abanonyiboobubudamu .\n",
            "-------------------------------------\n",
            "Original English Sentence: The team was given a free kick in the last ten minutes.\n",
            "Original Luganda Sentence: Ttiimu y'awereddwa okusimula ekisobyo mu ddakiika ekkumi ezaasembyeyo.\n",
            "Predicted Luganda Sentence: ttiimu y ' awereddwa okusimula ekisobyo mu ddakiika ekkumi ezaasembyeyo .\n",
            "-------------------------------------\n",
            "Original English Sentence: People go to the market to buy goods from traders.\n",
            "Original Luganda Sentence: Abantu bagende mu katale okugula ebyamaguzi ku basuubuzi.\n",
            "Predicted Luganda Sentence: abantu bagende mu katale okugula ebyamaguzi ku basuubuzi .\n",
            "-------------------------------------\n",
            "Original English Sentence: There is also an Ebola outbreak in countries neighbouring Uganda.\n",
            "Original Luganda Sentence: Waliwo n'okubalukawo kwa Ebola mu mawanga agaliraanye Uganda.\n",
            "Predicted Luganda Sentence: waliwo n ' okubalukawo kwa ebola mu mawanga g ' ensi yonna .\n",
            "-------------------------------------\n",
            "Original English Sentence: Why do people engage in witchcraft?\n",
            "Original Luganda Sentence: Lwaki abantu beenyigira mu bulogo?\n",
            "Predicted Luganda Sentence: lwaki abantu beenyigira mu bulogo ?\n",
            "-------------------------------------\n",
            "Original English Sentence: Every farmer will get an acre of land to plant cassava.\n",
            "Original Luganda Sentence: Buli mulimi ajja kufuna yiika y'ettaka okulima muwogo.\n",
            "Predicted Luganda Sentence: buli kaduukulu kajja era okuteekako yiika y ' ettaka okulima muwogo .\n",
            "-------------------------------------\n",
            "Original English Sentence: We played over five matches before getting to the tournament.\n",
            "Original Luganda Sentence: Twabadde n'enzannya eziri waggulu w'etaano nga tetunnaba kugenda mu mpaka.\n",
            "Predicted Luganda Sentence: twabadde n ' enzannya eziri waggulu w ' etaano nga tetunnaba kugenda mu mpaka .\n",
            "-------------------------------------\n",
            "Original English Sentence: Spouses shouldnÕt be against the use of contraceptives.\n",
            "Original Luganda Sentence: Abagalana tebalina kugaana kukozesa nkola za kizaalaggumba.\n",
            "Predicted Luganda Sentence: abagalana tebalina kugaana kukozesa nkola za kizaalaggumba .\n",
            "-------------------------------------\n",
            "Original English Sentence: Politically inspired demonstrations are dangerous.\n",
            "Original Luganda Sentence: Obwegugungo obuvudde ku byobufuzi bwa bulabe.\n",
            "Predicted Luganda Sentence: obwegugungo obuvudde ku bya bulabe bwa bulabe .\n",
            "-------------------------------------\n",
            "Original English Sentence: Heavy taxes are levied on tobacco businesses.\n",
            "Original Luganda Sentence: Emisolo emingi giwoozebwa ku bizinensi za ttaaba.\n",
            "Predicted Luganda Sentence: ebibiina by ' ente banyiga biddukanyizibwa ku bizinensi z ' amanda .\n",
            "-------------------------------------\n",
            "Original English Sentence: Animals diseases badly affect farmers yields.\n",
            "Original Luganda Sentence: Endwadde z'ebisolo zikosa nnyo amakungula g'abalimi.\n",
            "Predicted Luganda Sentence: endwadde z ' ebisolo zikosa nnyo amakungula g ' abalimi .\n",
            "-------------------------------------\n",
            "Original English Sentence: Students will receive their report cards next term.\n",
            "Original Luganda Sentence: Abayizi bajja kufuna alipoota zaabwe olusoma olujja.\n",
            "Predicted Luganda Sentence: abayizi bajja kufuna alipoota zaabwe olusoma olujja .\n",
            "-------------------------------------\n",
            "Original English Sentence: Children have died because of malnutrition.\n",
            "Original Luganda Sentence: Abaana bafudde lwa ndya mbi.\n",
            "Predicted Luganda Sentence: abaana bafudde lwa ndya mbi .\n",
            "-------------------------------------\n",
            "Original English Sentence: How can I renew my driving permit?\n",
            "Original Luganda Sentence: Nninza ntya obuggya dulayivingi ppamiti yange?\n",
            "Predicted Luganda Sentence: nninza ntya obuggya dulayivingi ppamiti yange ?\n",
            "-------------------------------------\n",
            "Original English Sentence: They should avoid drinking unboiled water.\n",
            "Original Luganda Sentence: Balina okwewala okunywa amazzi agatali mafumbe.\n",
            "Predicted Luganda Sentence: balina okwewala okunywa amazzi agatali mafumbe .\n",
            "-------------------------------------\n",
            "Original English Sentence: He stepped on witchcraft and decide to get treatment from a witchdoctor.\n",
            "Original Luganda Sentence: Yakkiririza mu ddogo n'asalawo okufuna obujjanjabi okuva ku musawo w'ekinnansi.\n",
            "Predicted Luganda Sentence: yakkiririza mu ddogo n ' asalawo okufuna obujjanjabi okuva ku musawo w ' ekinnansi .\n",
            "-------------------------------------\n",
            "Original English Sentence: Church leaders have organised various events.\n",
            "Original Luganda Sentence: Abakulembeze mu b'ekkanisa bategese emikolo egy'enjawulo.\n",
            "Predicted Luganda Sentence: abakulembeze b ' ekkansa bategese emikolo egy ' enjawulo .\n",
            "-------------------------------------\n",
            "Original English Sentence: They called for a refugees' meeting yesterday.\n",
            "Original Luganda Sentence: Baayise olukungaana lw'abanoonyiboobubudamu eggulo.\n",
            "Predicted Luganda Sentence: baayise olukungaana eggulo .\n",
            "-------------------------------------\n",
            "Original English Sentence: Some goods are perishable.\n",
            "Original Luganda Sentence: Ebyamaguzi ebimu byonooneka mangu.\n",
            "Predicted Luganda Sentence: ebyamaguzi ebimu byonooneka mangu omusaayi .\n",
            "-------------------------------------\n",
            "Original English Sentence: Doctors do not have enough working equipment.\n",
            "Original Luganda Sentence: Abasawo tebalina bikozesebwa bimala.\n",
            "Predicted Luganda Sentence: abasawo tebalina bikozesebwa bimala .\n",
            "-------------------------------------\n",
            "Original English Sentence: Headteachers manage the operations of the school.\n",
            "Original Luganda Sentence: Abakulu b'amasomero bakulira emirimu egikolebwa mu ssomero.\n",
            "Predicted Luganda Sentence: abakulu b ' amasomero bakulira emirimu egikolebwa mu ssomero .\n",
            "-------------------------------------\n",
            "Original English Sentence: Political Parties are no longer serving our interests\n",
            "Original Luganda Sentence: Ebibiina by'ebyobufuzi tebikyakola ku byetaago byaffe.\n",
            "Predicted Luganda Sentence: ebibiina by ' ebyobufuzi tebikyakola ku byetaago byaffe .\n",
            "-------------------------------------\n",
            "Original English Sentence: He promised to give me his laptop.\n",
            "Original Luganda Sentence: Yansuubiza okumpa laputopu ye.\n",
            "Predicted Luganda Sentence: yansuubiza okumpa laputopu ye .\n",
            "-------------------------------------\n",
            "Original English Sentence: Justice has to be served.\n",
            "Original Luganda Sentence: Obwenkanya bulina okubaawo.\n",
            "Predicted Luganda Sentence: obwenkanya bulina okubaawo .\n",
            "-------------------------------------\n",
            "Original English Sentence: Knowing the people in a neighbour's house ensures village safety.\n",
            "Original Luganda Sentence: Okumanya abantu ababeera mu nnyumba ya mulirwanawo kiyamba okukuuma ekyalo.\n",
            "Predicted Luganda Sentence: okumanya abantu by ' ateekeddwa mu nnyumba ya mulirwanawo kiyamba okukuuma ekyalo .\n",
            "-------------------------------------\n",
            "Original English Sentence: All church founded schools contributed money for this work.\n",
            "Original Luganda Sentence: Amasomero gonna agaazimbibwa ku musingi gw'ekkanisa gaasonze ssente eri omulimu guno.\n",
            "Predicted Luganda Sentence: amasomero gonna ku musingi gw ' ekkanisa gaasonze ssente gwa kukola mulimu omwaka guno .\n",
            "-------------------------------------\n",
            "Original English Sentence: Politicians need to unite to work on the roads.\n",
            "Original Luganda Sentence: Bannabyabufuzi beetaaga okwegatta bakole ku nguudo.\n",
            "Predicted Luganda Sentence: bannabyabufuzi beetaaga okwegatta bakole ku nguudo .\n",
            "-------------------------------------\n",
            "Original English Sentence: It's a parents responsibility to follow up the child immunization records carefully.\n",
            "Original Luganda Sentence: Buvunaanyizibwa bwa muzadde okulondoola ebikwata ku kugeme kw'omwana n'obwegendereza.\n",
            "Predicted Luganda Sentence: buvunaanyizibwa bwa muzadde okulondoola ebikwata ku kugeme kw ' omwana n ' obwegendereza .\n",
            "-------------------------------------\n",
            "Original English Sentence: Soldiers and health workers need to be recognised for their tireress effort.\n",
            "Original Luganda Sentence: Abajjaasi n'basawo basaana okusiimibwa olw'omulimu ogw'obutaweera gwe bakola.\n",
            "Predicted Luganda Sentence: abasawo n ' abasawo beetaaga okusiimibwa olw ' omulimu ogw ' obutaweera gwe bakola .\n",
            "-------------------------------------\n",
            "Original English Sentence: What is the cause of the refugee influx?\n",
            "Original Luganda Sentence: Ki ekiviirako abanoonyiboobubudamu abayingira abangi mu ggwanga?\n",
            "Predicted Luganda Sentence: ki ekiviirako abanoonyiboobubudamu abayingira abangi mu ggwanga ?\n",
            "-------------------------------------\n",
            "Original English Sentence: The district organised conferences to advise youths on how to conduct their lives.\n",
            "Original Luganda Sentence: Disitulikiti yategeka enkungaana okuwa abavubuka amagezi ku ngeri gye bayinza okukwatamu obulamu baabwe.\n",
            "Predicted Luganda Sentence: disitulikiti yategeka enkungaana okuwa abavubuka amagezi ku ngeri gye bayinza okukwatamu obulamu baabwe .\n",
            "-------------------------------------\n",
            "Original English Sentence: Not whatever you predict for the team comes true.\n",
            "Original Luganda Sentence: Si buli ky'oteebereza ku ttiimu nti kituukirira.\n",
            "Predicted Luganda Sentence: si buli ky ' oteebereza ssente nti kituukirira .\n",
            "-------------------------------------\n",
            "Original English Sentence: What is the initial stage for the project?\n",
            "Original Luganda Sentence: Entandikwa y'omulimu y' eri wa?\n",
            "Predicted Luganda Sentence: entandikwa y ' omulimu y ' eri wa ?\n",
            "-------------------------------------\n",
            "Original English Sentence: The headmaster thanked students for their contribution.\n",
            "Original Luganda Sentence: Omukulu w'essomero yeebazizza abayizi olwa bye bawaddeyo.\n",
            "Predicted Luganda Sentence: omukulu w ' essomero yeebazizza abayizi olwa ekyo bawaddeyo .\n",
            "-------------------------------------\n",
            "Original English Sentence: Police should keep law and order in the community.\n",
            "Original Luganda Sentence: Police erina okukuuma amateeka n'obutebenkevu mu kitundu.\n",
            "Predicted Luganda Sentence: poliisi erina okukuuma amateeka n ' obutebenkevu mu kitundu .\n",
            "-------------------------------------\n",
            "Original English Sentence: The ministry will not tolerate any form of strikes from the teachers.\n",
            "Original Luganda Sentence: Minisitule tejja kukkiriza ngeri yonna ey'okwekalakaasa okunaakolebwa abasomesa.\n",
            "Predicted Luganda Sentence: minisitule tejja kukkiriza ngeri yonna ey ' okwekalakaasa okunaakolebwa abasomesa .\n",
            "-------------------------------------\n",
            "Original English Sentence: What do we do in order to access clean water?\n",
            "Original Luganda Sentence: Tukola tutya okufuna amazzi amayonjo?\n",
            "Predicted Luganda Sentence: tukola bakola ki okufuna amazzi amayonjo ?\n",
            "-------------------------------------\n",
            "Original English Sentence: Corruption investigations are going on.\n",
            "Original Luganda Sentence: Okunoonyereza ku buli bw'enguzi kugenda mu maaso.\n",
            "Predicted Luganda Sentence: okunoonyereza ku buli bw ' enguzi kugenda mu maaso .\n",
            "-------------------------------------\n",
            "Original English Sentence: The authority is analyzing the dynamics in the bridge construction.\n",
            "Original Luganda Sentence: Ekitongole kiri mu kwetegereza nkyukakyuka mu kuzimba olutindo.\n",
            "Predicted Luganda Sentence: ekitongole kiri mu kwetegereza nkyukakyuka mu kuzimba olutindo .\n",
            "-------------------------------------\n",
            "Original English Sentence: On tea plantations, women tea pickers a preferred because of their reriability and care when selecting leaves.\n",
            "Original Luganda Sentence: Ku masamba g'amajaani, abakyala abanoga amajaani baagalwa olw'obwesigwa bwabwe n'okufaayo nga balonda ebikoola.\n",
            "Predicted Luganda Sentence: ekitono ennyo baawabulwa , abakyala b ' amajaani baagalwa olw ' okufaayo olw ' obwesigwa bwabwe ku by ' engeri gye bukyali gye bukyali .\n",
            "-------------------------------------\n",
            "Original English Sentence: There will be destruction of property.\n",
            "Original Luganda Sentence: Wajja kubaawo okwonoona ebintu.\n",
            "Predicted Luganda Sentence: wajja kubaawo okwonoona ebintu .\n",
            "-------------------------------------\n",
            "Original English Sentence: The workers moved to Wanderai sub-county to present their concerns to the county officials.\n",
            "Original Luganda Sentence: Abakozi baagenda ku ggombolola ya Wanderai okuwaayo ensonga zaabwe eri abakungu b'essaza.\n",
            "Predicted Luganda Sentence: abakozi baagenda ku ggombolola ya wanderai okuwaayo ensonga zaabwe eri abakungu b ' essaza .\n",
            "-------------------------------------\n",
            "Original English Sentence: He was knocked down by a lorry.\n",
            "Original Luganda Sentence: Yakooneddwa loole.\n",
            "Predicted Luganda Sentence: yakooneddwa loole .\n",
            "-------------------------------------\n",
            "Original English Sentence: With the help of the boat, we were able to cross over the river.\n",
            "Original Luganda Sentence: Nga tweyambisa eryato, twasobola okusomoka omugga.\n",
            "Predicted Luganda Sentence: nga tweyambisa eryato , twasobola okusomoka omugga .\n",
            "-------------------------------------\n",
            "Original English Sentence: His supporters did not follow the guiderines for preventing the spread of coronavirus  .\n",
            "Original Luganda Sentence: Abawagizi be tebaagoberera kulambikibwa kw'okutangira ensaasaana y'akawuka ka kolona.\n",
            "Predicted Luganda Sentence: abawagizi be tebaagoberera kulambikibwa kw ' okutangira akawuka ka kolona .\n",
            "-------------------------------------\n",
            "Original English Sentence: The police in Arua lack enough security officers.\n",
            "Original Luganda Sentence: Poliisi mu Arua terina basirikale bamala.\n",
            "Predicted Luganda Sentence: poliisi mu disitulikiti terina basirikale bamala .\n",
            "-------------------------------------\n",
            "Original English Sentence: People in rural areas are highly affected by malaria.\n",
            "Original Luganda Sentence: Abantu mu byalo balumwa nnyo omusujja gw'ensiri.\n",
            "Predicted Luganda Sentence: abantu b ' omu byalo basinga nnyo omusujja gw ' ensiri .\n",
            "-------------------------------------\n",
            "Original English Sentence: If you serve people well  , get ready to be promoted.\n",
            "Original Luganda Sentence: Bw'oweereza obulungi abantu, weetegeke okulinnyisibwa eddaala.\n",
            "Predicted Luganda Sentence: bw ' oweereza obulungi abantu , weetegeke okulinnyisibwa eddaala .\n",
            "-------------------------------------\n",
            "Original English Sentence: Every community needs a good security system to develop.\n",
            "Original Luganda Sentence: Buli kitundu kyetaaga obukuumi obulungi okukulaakulana.\n",
            "Predicted Luganda Sentence: buli kitundu kyetaaga obukuumi omulungi okukulaakulana .\n",
            "-------------------------------------\n",
            "Original English Sentence: The Pakwach district fishing clergy is worried about the increasing school drop out numbers .\n",
            "Original Luganda Sentence: Akuulira eby'envuba mu disitulikiti y'e Pakwach mweraliikirivu ku kweyongera kw'abaana okuwanduka mu masomero.\n",
            "Predicted Luganda Sentence: akuulira eby ' akakiiko k ' eggwanga mu disitulikiti ekyasse abayizi okuva mu bibiina eby ' akamalirirzo .\n",
            "-------------------------------------\n"
          ]
        }
      ]
    },
    {
      "cell_type": "code",
      "source": [
        "m=0\n",
        "for tr in result3['text']:\n",
        "  tf.print(\"Original English Sentence: \" + input_text[m])\n",
        "  tf.print(\"Original Luganda Sentence: \" + output_text[m])\n",
        "  print(\"Predicted Luganda Sentence: \" + tr.numpy().decode())\n",
        "  print(\"-------------------------------------\")\n",
        "  m +=1"
      ],
      "metadata": {
        "colab": {
          "base_uri": "https://localhost:8080/"
        },
        "id": "jfQngzJDmiVC",
        "outputId": "5f294c0d-ab6c-4605-ffa8-a314f4dfb8ac"
      },
      "execution_count": null,
      "outputs": [
        {
          "output_type": "stream",
          "name": "stdout",
          "text": [
            "Original English Sentence: What is the benefit of antenatal care to both mother and the baby?\n",
            "Original Luganda Sentence: Mugaso ki oguli mu kukyalira eddwaliro eri omukyala ali olubuto n'omwana ali mu lubuto?\n",
            "Predicted Luganda Sentence: mugaso ki oguli mu kukyalira eddwaliro eri omukyala ali olubuto n ' omwana ali mu lubuto ?\n",
            "-------------------------------------\n",
            "Original English Sentence: Farmers are misusing funds given to them by the government to help them improve on their farming ways.\n",
            "Original Luganda Sentence: Abalimi n'abalunzi beeyambisa bubi ssente ezibaweebwa gavumenti mu kubayamba okutumbula ebyobulimi n'obulunzi bwabwe,\n",
            "Predicted Luganda Sentence: abalimi n ' abalunzi beeyambisa bubi ssente ezibaweebwa gavumenti mu kubayamba okutumbula ebyobulimi n ' obulunzi bwabwe ,\n",
            "-------------------------------------\n",
            "Original English Sentence: Health services need to be upgraded for better service delivery.\n",
            "Original Luganda Sentence: Ebyobulamu byetaaga okuteekebwa ku mutindo olw'empeereza ennungi.\n",
            "Predicted Luganda Sentence: ebyobulamu byetaaga okuteekebwa ku mutindo n ' empeereza .\n",
            "-------------------------------------\n",
            "Original English Sentence: The manager ignored our complains.\n",
            "Original Luganda Sentence: Omukulu teyafuddeyo ku kwemulugunya kwaffe.\n",
            "Predicted Luganda Sentence: omukulu teyafuddeyo ku kwemulugunya kwaffe .\n",
            "-------------------------------------\n",
            "Original English Sentence: Most private schools operate on debt.\n",
            "Original Luganda Sentence: Amasomero g'obwannanyini agasinga gakolera ku bbanja.\n",
            "Predicted Luganda Sentence: amasomero g ' obwannanyini agasinga gakolera ku bbanja .\n",
            "-------------------------------------\n",
            "Original English Sentence: We are to eat cassava for lunch today.\n",
            "Original Luganda Sentence: Tuli baakulya muwogo ekyemisana kya leero.\n",
            "Predicted Luganda Sentence: tuli baakulya muwogo ekyemisana eky ' omulimu gwange .\n",
            "-------------------------------------\n",
            "Original English Sentence: Last year, police arrested two people for allegedly vending wrong exams.\n",
            "Original Luganda Sentence: Omwaka oguwedde poliisi yakwata abantu babiri olw'okutunda ebigezo ebikyamu.\n",
            "Predicted Luganda Sentence: omwaka oguwedde poliisi yakwata abantu babiri olw ' okutunda ebintu ebitono .\n",
            "-------------------------------------\n",
            "Original English Sentence: People should adopt working from home.\n",
            "Original Luganda Sentence: Abantu balina okwettanira okukolera awaka.\n",
            "Predicted Luganda Sentence: abantu balina okwettanira okukolera awaka .\n",
            "-------------------------------------\n",
            "Original English Sentence: People build illegally in wetlands.\n",
            "Original Luganda Sentence: Abantu bazimba mu ntobazi mu nsobi.\n",
            "Predicted Luganda Sentence: abantu bazimba mu ntobazi mu nsobi .\n",
            "-------------------------------------\n",
            "Original English Sentence: Community members were requested to keep calm during elections.\n",
            "Original Luganda Sentence: Abantu b'ekitundu baasabibwa okubeera abakkakamu mu kulonda.\n",
            "Predicted Luganda Sentence: abantu b ' ekitundu baasabibwa okufuna looni .\n",
            "-------------------------------------\n",
            "Original English Sentence: Most disabled people use wheelchairs for movement.\n",
            "Original Luganda Sentence: Abaliko obulemu abasinga bakozesa bugaali bw'abalema okutambula.\n",
            "Predicted Luganda Sentence: abaliko obulemu abasinga bakozesa bugaali bw ' abalema okutambula .\n",
            "-------------------------------------\n",
            "Original English Sentence: Several youths have been enrolled as crime preventers.\n",
            "Original Luganda Sentence: Abavubuka ab'enjawulo bawandiikiddwa nga abayambi ba poliisi ku byalo.\n",
            "Predicted Luganda Sentence: abavubuka ab ' enjawulo bawandiikiddwa nga abayambi ba poliisi ebintu ebitundibwa awamu ne pulojekiti .\n",
            "-------------------------------------\n",
            "Original English Sentence: Ugandan airlines has been re-established\n",
            "Original Luganda Sentence: Entambula y'ennyonyi mu ggwanga ezziddwawo.\n",
            "Predicted Luganda Sentence: okuzimba mu nsi z ' ensi ezivujjirirwa nzifunye .\n",
            "-------------------------------------\n",
            "Original English Sentence: It is hard to meet people's expectations.\n",
            "Original Luganda Sentence: Kizibu okutuukirira ebisuubizo by'abantu.\n",
            "Predicted Luganda Sentence: kizibu okutuukirira ebisuubizo by ' abantu .\n",
            "-------------------------------------\n",
            "Original English Sentence: The government needs to construct toilets for refugees.\n",
            "Original Luganda Sentence: Gavumenti yeetaaga okuzimbira abanoonyi b'obubudamu zi kaabuyonjo.\n",
            "Predicted Luganda Sentence: gavumenti yeetaaga okuzimbira abanoonyi b ' obubudamu zi kaabuyonjo .\n",
            "-------------------------------------\n",
            "Original English Sentence: The team was given a free kick in the last ten minutes.\n",
            "Original Luganda Sentence: Ttiimu y'awereddwa okusimula ekisobyo mu ddakiika ekkumi ezaasembyeyo.\n",
            "Predicted Luganda Sentence: ttiimu y ' awereddwa okusimula ekisobyo mu ddakiika ekkumi ezaasembyeyo .\n",
            "-------------------------------------\n",
            "Original English Sentence: People go to the market to buy goods from traders.\n",
            "Original Luganda Sentence: Abantu bagende mu katale okugula ebyamaguzi ku basuubuzi.\n",
            "Predicted Luganda Sentence: abantu kati bagenda mu ddwaliro okufuna obusobozi amanda .\n",
            "-------------------------------------\n",
            "Original English Sentence: There is also an Ebola outbreak in countries neighbouring Uganda.\n",
            "Original Luganda Sentence: Waliwo n'okubalukawo kwa Ebola mu mawanga agaliraanye Uganda.\n",
            "Predicted Luganda Sentence: waliwo n ' okubalukawo kwa ebola mu mawanga agaliraanye uganda .\n",
            "-------------------------------------\n",
            "Original English Sentence: Why do people engage in witchcraft?\n",
            "Original Luganda Sentence: Lwaki abantu beenyigira mu bulogo?\n",
            "Predicted Luganda Sentence: lwaki abantu beenyigira mu bulogo ?\n",
            "-------------------------------------\n",
            "Original English Sentence: Every farmer will get an acre of land to plant cassava.\n",
            "Original Luganda Sentence: Buli mulimi ajja kufuna yiika y'ettaka okulima muwogo.\n",
            "Predicted Luganda Sentence: buli mulimi ajja kufuna yiika y ' ettaka amangu ssente .\n",
            "-------------------------------------\n",
            "Original English Sentence: We played over five matches before getting to the tournament.\n",
            "Original Luganda Sentence: Twabadde n'enzannya eziri waggulu w'etaano nga tetunnaba kugenda mu mpaka.\n",
            "Predicted Luganda Sentence: twabadde n ' enzannya eziri waggulu w ' etaano nga tetunnaba kugenda mu mpaka .\n",
            "-------------------------------------\n",
            "Original English Sentence: Spouses shouldnÕt be against the use of contraceptives.\n",
            "Original Luganda Sentence: Abagalana tebalina kugaana kukozesa nkola za kizaalaggumba.\n",
            "Predicted Luganda Sentence: abagalana tebalina kugaana kukozesa nkola za kizaalaggumba .\n",
            "-------------------------------------\n",
            "Original English Sentence: Politically inspired demonstrations are dangerous.\n",
            "Original Luganda Sentence: Obwegugungo obuvudde ku byobufuzi bwa bulabe.\n",
            "Predicted Luganda Sentence: obwegugungo obuvudde ku byobufuzi bwa bulabe .\n",
            "-------------------------------------\n",
            "Original English Sentence: Heavy taxes are levied on tobacco businesses.\n",
            "Original Luganda Sentence: Emisolo emingi giwoozebwa ku bizinensi za ttaaba.\n",
            "Predicted Luganda Sentence: emisolo emingi giwoozebwa ku bizinensi za ttaaba .\n",
            "-------------------------------------\n",
            "Original English Sentence: Animals diseases badly affect farmers yields.\n",
            "Original Luganda Sentence: Endwadde z'ebisolo zikosa nnyo amakungula g'abalimi.\n",
            "Predicted Luganda Sentence: endwadde z ' obukaba zeeyongedde kiviirako emirimu .\n",
            "-------------------------------------\n",
            "Original English Sentence: Students will receive their report cards next term.\n",
            "Original Luganda Sentence: Abayizi bajja kufuna alipoota zaabwe olusoma olujja.\n",
            "Predicted Luganda Sentence: abayizi bajja kukola ebbaluwa zaabwe olusoma lwokubiri .\n",
            "-------------------------------------\n",
            "Original English Sentence: Children have died because of malnutrition.\n",
            "Original Luganda Sentence: Abaana bafudde lwa ndya mbi.\n",
            "Predicted Luganda Sentence: abaana bafudde lwa ndya mbi .\n",
            "-------------------------------------\n",
            "Original English Sentence: How can I renew my driving permit?\n",
            "Original Luganda Sentence: Nninza ntya obuggya dulayivingi ppamiti yange?\n",
            "Predicted Luganda Sentence: nninza ntya obuggya dulayivingi ppamiti yange ?\n",
            "-------------------------------------\n",
            "Original English Sentence: They should avoid drinking unboiled water.\n",
            "Original Luganda Sentence: Balina okwewala okunywa amazzi agatali mafumbe.\n",
            "Predicted Luganda Sentence: balina okwewala okunywa amazzi agatali mafumbe .\n",
            "-------------------------------------\n",
            "Original English Sentence: He stepped on witchcraft and decide to get treatment from a witchdoctor.\n",
            "Original Luganda Sentence: Yakkiririza mu ddogo n'asalawo okufuna obujjanjabi okuva ku musawo w'ekinnansi.\n",
            "Predicted Luganda Sentence: yakkiririza mu ddogo n ' asalawo okufuna obujjanjabi okuva ku musawo w ' ekinnansi .\n",
            "-------------------------------------\n",
            "Original English Sentence: Church leaders have organised various events.\n",
            "Original Luganda Sentence: Abakulembeze mu b'ekkanisa bategese emikolo egy'enjawulo.\n",
            "Predicted Luganda Sentence: abakulembeze mu b ' ekkanisa bategese emikolo egy ' enjawulo .\n",
            "-------------------------------------\n",
            "Original English Sentence: They called for a refugees' meeting yesterday.\n",
            "Original Luganda Sentence: Baayise olukungaana lw'abanoonyiboobubudamu eggulo.\n",
            "Predicted Luganda Sentence: baayise olukungaana lw ' ekyalo naye tewali bwenkanya eri obuwangwa .\n",
            "-------------------------------------\n",
            "Original English Sentence: Some goods are perishable.\n",
            "Original Luganda Sentence: Ebyamaguzi ebimu byonooneka mangu.\n",
            "Predicted Luganda Sentence: ebyamaguzi ebimu byonooneka mangu .\n",
            "-------------------------------------\n",
            "Original English Sentence: Doctors do not have enough working equipment.\n",
            "Original Luganda Sentence: Abasawo tebalina bikozesebwa bimala.\n",
            "Predicted Luganda Sentence: abasawo tebalina bikozesebwa bimala .\n",
            "-------------------------------------\n",
            "Original English Sentence: Headteachers manage the operations of the school.\n",
            "Original Luganda Sentence: Abakulu b'amasomero bakulira emirimu egikolebwa mu ssomero.\n",
            "Predicted Luganda Sentence: abakulembeze b ' oku basanga ebisoomooza abaana eby ' essomero .\n",
            "-------------------------------------\n",
            "Original English Sentence: Political Parties are no longer serving our interests\n",
            "Original Luganda Sentence: Ebibiina by'ebyobufuzi tebikyakola ku byetaago byaffe.\n",
            "Predicted Luganda Sentence: ebibiina by ' ebyobufuzi tebikyakola ku byetaago byaffe .\n",
            "-------------------------------------\n",
            "Original English Sentence: He promised to give me his laptop.\n",
            "Original Luganda Sentence: Yansuubiza okumpa laputopu ye.\n",
            "Predicted Luganda Sentence: yansuubiza okumpa laputopu ye .\n",
            "-------------------------------------\n",
            "Original English Sentence: Justice has to be served.\n",
            "Original Luganda Sentence: Obwenkanya bulina okubaawo.\n",
            "Predicted Luganda Sentence: obwenkanya bulina okubaawo .\n",
            "-------------------------------------\n",
            "Original English Sentence: Knowing the people in a neighbour's house ensures village safety.\n",
            "Original Luganda Sentence: Okumanya abantu ababeera mu nnyumba ya mulirwanawo kiyamba okukuuma ekyalo.\n",
            "Predicted Luganda Sentence: okumanya abantu ababeera mu ngalo ne banno y ' engeri yokka ey ' obuyonjo .\n",
            "-------------------------------------\n",
            "Original English Sentence: All church founded schools contributed money for this work.\n",
            "Original Luganda Sentence: Amasomero gonna agaazimbibwa ku musingi gw'ekkanisa gaasonze ssente eri omulimu guno.\n",
            "Predicted Luganda Sentence: amasomero gonna ku masomero ga sekendule ga layisi wano .\n",
            "-------------------------------------\n",
            "Original English Sentence: Politicians need to unite to work on the roads.\n",
            "Original Luganda Sentence: Bannabyabufuzi beetaaga okwegatta bakole ku nguudo.\n",
            "Predicted Luganda Sentence: bannabyabufuzi beetaaga okwegatta bakole ku nguudo .\n",
            "-------------------------------------\n",
            "Original English Sentence: It's a parents responsibility to follow up the child immunization records carefully.\n",
            "Original Luganda Sentence: Buvunaanyizibwa bwa muzadde okulondoola ebikwata ku kugeme kw'omwana n'obwegendereza.\n",
            "Predicted Luganda Sentence: buvunaanyizibwa bwa muzadde okulondoola ebikwata ku kugeme kw ' omwana n ' obwegendereza .\n",
            "-------------------------------------\n",
            "Original English Sentence: Soldiers and health workers need to be recognised for their tireress effort.\n",
            "Original Luganda Sentence: Abajjaasi n'basawo basaana okusiimibwa olw'omulimu ogw'obutaweera gwe bakola.\n",
            "Predicted Luganda Sentence: abasirikale n ' abakyala beetaaga okulaba nga bato zirina bannamawulire ko .\n",
            "-------------------------------------\n",
            "Original English Sentence: What is the cause of the refugee influx?\n",
            "Original Luganda Sentence: Ki ekiviirako abanoonyiboobubudamu abayingira abangi mu ggwanga?\n",
            "Predicted Luganda Sentence: ki ekiviirako abanoonyiboobubudamu abayingira abangi ?\n",
            "-------------------------------------\n",
            "Original English Sentence: The district organised conferences to advise youths on how to conduct their lives.\n",
            "Original Luganda Sentence: Disitulikiti yategeka enkungaana okuwa abavubuka amagezi ku ngeri gye bayinza okukwatamu obulamu baabwe.\n",
            "Predicted Luganda Sentence: disitulikiti yategeka enkungaana okuwa abavubuka amagezi ku ngeri gye bayinza okukwatamu obulamu baabwe .\n",
            "-------------------------------------\n",
            "Original English Sentence: Not whatever you predict for the team comes true.\n",
            "Original Luganda Sentence: Si buli ky'oteebereza ku ttiimu nti kituukirira.\n",
            "Predicted Luganda Sentence: si buli ky ' oteebereza ku ttiimu nti kituukirira .\n",
            "-------------------------------------\n",
            "Original English Sentence: What is the initial stage for the project?\n",
            "Original Luganda Sentence: Entandikwa y'omulimu y' eri wa?\n",
            "Predicted Luganda Sentence: entandikwa y ' omulimu y ' eri wa ?\n",
            "-------------------------------------\n",
            "Original English Sentence: The headmaster thanked students for their contribution.\n",
            "Original Luganda Sentence: Omukulu w'essomero yeebazizza abayizi olwa bye bawaddeyo.\n",
            "Predicted Luganda Sentence: omukulu w ' essomero yeebazizza abayizi olwa bye bawaddeyo .\n",
            "-------------------------------------\n",
            "Original English Sentence: Police should keep law and order in the community.\n",
            "Original Luganda Sentence: Police erina okukuuma amateeka n'obutebenkevu mu kitundu.\n",
            "Predicted Luganda Sentence: police erina okukuuma amateeka n ' obutebenkevu mu kitundu .\n",
            "-------------------------------------\n",
            "Original English Sentence: The ministry will not tolerate any form of strikes from the teachers.\n",
            "Original Luganda Sentence: Minisitule tejja kukkiriza ngeri yonna ey'okwekalakaasa okunaakolebwa abasomesa.\n",
            "Predicted Luganda Sentence: minisitule tejja kukkiriza ngeri ndala okuteekebwa mu nkola y ' abasomesa .\n",
            "-------------------------------------\n",
            "Original English Sentence: What do we do in order to access clean water?\n",
            "Original Luganda Sentence: Tukola tutya okufuna amazzi amayonjo?\n",
            "Predicted Luganda Sentence: tukola tutya okufuna emirembe mu kukola ?\n",
            "-------------------------------------\n",
            "Original English Sentence: Corruption investigations are going on.\n",
            "Original Luganda Sentence: Okunoonyereza ku buli bw'enguzi kugenda mu maaso.\n",
            "Predicted Luganda Sentence: okunoonyereza ku buli bw ' enguzi kugenda mu maaso .\n",
            "-------------------------------------\n",
            "Original English Sentence: The authority is analyzing the dynamics in the bridge construction.\n",
            "Original Luganda Sentence: Ekitongole kiri mu kwetegereza nkyukakyuka mu kuzimba olutindo.\n",
            "Predicted Luganda Sentence: ekitongole kiri mu kwetegereza nkyukakyuka mu kuzimba olutindo .\n",
            "-------------------------------------\n",
            "Original English Sentence: On tea plantations, women tea pickers a preferred because of their reriability and care when selecting leaves.\n",
            "Original Luganda Sentence: Ku masamba g'amajaani, abakyala abanoga amajaani baagalwa olw'obwesigwa bwabwe n'okufaayo nga balonda ebikoola.\n",
            "Predicted Luganda Sentence: ku masamba g ' amajaani , abakyala abali embuto , abo beetaaga obujulizi bwonna ,\n",
            "-------------------------------------\n",
            "Original English Sentence: There will be destruction of property.\n",
            "Original Luganda Sentence: Wajja kubaawo okwonoona ebintu.\n",
            "Predicted Luganda Sentence: wajja kubaawo okwonoona ebintu .\n",
            "-------------------------------------\n",
            "Original English Sentence: The workers moved to Wanderai sub-county to present their concerns to the county officials.\n",
            "Original Luganda Sentence: Abakozi baagenda ku ggombolola ya Wanderai okuwaayo ensonga zaabwe eri abakungu b'essaza.\n",
            "Predicted Luganda Sentence: abakozi baagenda ku ggombolola ya wanderai okuwaayo ensonga zaabwe eri abakungu b ' essaza .\n",
            "-------------------------------------\n",
            "Original English Sentence: He was knocked down by a lorry.\n",
            "Original Luganda Sentence: Yakooneddwa loole.\n",
            "Predicted Luganda Sentence: yakooneddwa loole .\n",
            "-------------------------------------\n",
            "Original English Sentence: With the help of the boat, we were able to cross over the river.\n",
            "Original Luganda Sentence: Nga tweyambisa eryato, twasobola okusomoka omugga.\n",
            "Predicted Luganda Sentence: nga tweyambisa eryato , twasobola okusomoka omugga .\n",
            "-------------------------------------\n",
            "Original English Sentence: His supporters did not follow the guiderines for preventing the spread of coronavirus  .\n",
            "Original Luganda Sentence: Abawagizi be tebaagoberera kulambikibwa kw'okutangira ensaasaana y'akawuka ka kolona.\n",
            "Predicted Luganda Sentence: abawagizi be tebaagoberera kulambikibwa kw ' okutangira ensaasaana y ' akawuka ka kolona .\n",
            "-------------------------------------\n",
            "Original English Sentence: The police in Arua lack enough security officers.\n",
            "Original Luganda Sentence: Poliisi mu Arua terina basirikale bamala.\n",
            "Predicted Luganda Sentence: poliisi mu bbaasi terina bateeberezebwa okwewandiisa ku nsalo .\n",
            "-------------------------------------\n",
            "Original English Sentence: People in rural areas are highly affected by malaria.\n",
            "Original Luganda Sentence: Abantu mu byalo balumwa nnyo omusujja gw'ensiri.\n",
            "Predicted Luganda Sentence: abantu mu byalo balumwa nnyo omusujja gw ' ensiri .\n",
            "-------------------------------------\n",
            "Original English Sentence: If you serve people well  , get ready to be promoted.\n",
            "Original Luganda Sentence: Bw'oweereza obulungi abantu, weetegeke okulinnyisibwa eddaala.\n",
            "Predicted Luganda Sentence: bw ' abantu ennyo okuddiza abantu abalina emmundu .\n",
            "-------------------------------------\n",
            "Original English Sentence: Every community needs a good security system to develop.\n",
            "Original Luganda Sentence: Buli kitundu kyetaaga obukuumi obulungi okukulaakulana.\n",
            "Predicted Luganda Sentence: buli kitundu kyetaaga obukuumi ku njala n ' obwavu .\n",
            "-------------------------------------\n",
            "Original English Sentence: The Pakwach district fishing clergy is worried about the increasing school drop out numbers .\n",
            "Original Luganda Sentence: Akuulira eby'envuba mu disitulikiti y'e Pakwach mweraliikirivu ku kweyongera kw'abaana okuwanduka mu masomero.\n",
            "Predicted Luganda Sentence: akuulira eby ' envuba ka disitulikiti y ' e moyo ebisomesebwa egikolebwa ebweru w ' eddwaliro embi .\n",
            "-------------------------------------\n"
          ]
        }
      ]
    },
    {
      "cell_type": "code",
      "source": [],
      "metadata": {
        "id": "EV66fXd2mltZ"
      },
      "execution_count": null,
      "outputs": []
    }
  ]
}